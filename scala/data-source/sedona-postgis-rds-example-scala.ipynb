{
 "cells": [
  {
   "cell_type": "markdown",
   "id": "e6c4df9f-69ae-463d-904f-1a467f092be7",
   "metadata": {},
   "source": [
    "# Import Apache Sedona"
   ]
  },
  {
   "cell_type": "code",
   "execution_count": null,
   "id": "9a6b862a-4083-4627-bed4-d4adab8e6c7d",
   "metadata": {},
   "outputs": [],
   "source": [
    "import org.apache.sedona.spark.SedonaContext"
   ]
  },
  {
   "cell_type": "markdown",
   "id": "47e28430-270d-4236-8255-95b01b570c4b",
   "metadata": {},
   "source": [
    "# Define Sedona context if not defined yet"
   ]
  },
  {
   "cell_type": "code",
   "execution_count": null,
   "id": "2197eb4b-eb39-4a9b-b194-6087321e6e8c",
   "metadata": {},
   "outputs": [],
   "source": [
    "val config = SedonaContext.builder()\n",
    "    .getOrCreate()\n",
    "val sedona = SedonaContext.create(config)\n",
    "val sc = sedona.sparkContext"
   ]
  },
  {
   "cell_type": "markdown",
   "id": "345d56e8-c170-4918-949e-26f45e45f925",
   "metadata": {},
   "source": [
    "# Set Connection and Context options.\n",
    "The authentication parameters (username and password) might be different based on the authentication setup of the AWS RDS database.\n",
    "\n",
    "**NOTE**: Please ensure that the AWS RDS database instance created is accessible from the server executing the connection. Check [here](https://docs.aws.amazon.com/AmazonRDS/latest/UserGuide/USER_VPC.Scenarios.html) to learn more about inter and intra VPC connections to the RDS instance."
   ]
  },
  {
   "cell_type": "code",
   "execution_count": null,
   "id": "8f375996-a1e0-4bea-b027-5acf36c6c20b",
   "metadata": {},
   "outputs": [],
   "source": [
    "val url = \"<URL>\"//jdbc:postgresql://ENDPOINT/DATABASE_NAME\n",
    "val driver = \"org.postgresql.Driver\"\n",
    "val user = \"<USERNAME>\"\n",
    "val password = \"<PASSWORD>\""
   ]
  },
  {
   "cell_type": "code",
   "execution_count": null,
   "id": "77dd466d-5f10-4db4-8d3c-9f2e755e49e0",
   "metadata": {},
   "outputs": [],
   "source": [
    "val options = Map(\"url\" -> url, \"user\" -> user, \"password\" -> password, \"driver\" -> driver)"
   ]
  },
  {
   "cell_type": "markdown",
   "id": "f0fc92b1-b97f-4257-89b0-0c8d9b9fe05d",
   "metadata": {},
   "source": [
    "# Read entire table from RDS PostgreSQL into a Sedona Dataframe\n",
    "A `dbtable` option with the table_name as value can be passed to the sedona context object to read the entire table contents into the dataframe. Essentially, run a 'SELECT * FROM table' query."
   ]
  },
  {
   "cell_type": "code",
   "execution_count": null,
   "id": "85d9e33e-a9f2-48d5-a2f6-588ee9c06abc",
   "metadata": {},
   "outputs": [],
   "source": [
    "val src_table_name = \"city_tbl_geom\"\n",
    "val df = sedona.read.format(\"jdbc\")\n",
    "                .options(options)\n",
    "                .option(\"dbtable\", src_table_name)\n",
    "                .load();"
   ]
  },
  {
   "cell_type": "markdown",
   "id": "388e58f9-586e-47f3-bd88-bb717a40e5be",
   "metadata": {},
   "source": [
    "# Read a particular query result from RDS PostgresQL into a Sedona Dataframe\n",
    "A `query` option with the desired query as value can be passed to the sedona context object to read the result of the query into the dataframe. "
   ]
  },
  {
   "cell_type": "code",
   "execution_count": null,
   "id": "61edb74e-5aba-4183-a2b6-27ae816354fb",
   "metadata": {},
   "outputs": [],
   "source": [
    "val query = \"SELECT GEOM, CITY_NAME FROM \" + src_table_name + \" WHERE CITY_NAME = 'Seattle'\" //custom query to run\n",
    "val df_query = sedona.read.format(\"jdbc\")\n",
    "            .options(options)\n",
    "            .option(\"query\", query)\n",
    "            .load();"
   ]
  },
  {
   "cell_type": "markdown",
   "id": "cb7d8686-5939-4c94-8e67-9b8f01632206",
   "metadata": {},
   "source": [
    "# Create Sedona Geometry type column\n",
    "PostGIS serializes geometries as WKB and hence the dataframe will be populated with WKB strings in the geometry column.\n",
    "The WKB strings can be converted to Sedona Geometry types using `ST_GeomFromWKB` exposed via Sedona."
   ]
  },
  {
   "cell_type": "code",
   "execution_count": null,
   "id": "32192837-f6fe-4949-a336-c04f5e61a5a7",
   "metadata": {},
   "outputs": [],
   "source": [
    "val df_city = df.selectExpr(\"ST_GeomFromWKB(geom) as geom\", \"CITY_NAME\")\n",
    "val df_seattle = df_query.selectExpr(\"ST_GeomFromWKB(geom) as geom\", \"CITY_NAME\")\n",
    "\n",
    "//create a table for use in subsequent queries\n",
    "df_city.createOrReplaceTempView(\"city_table\")\n",
    "df_seattle.createOrReplaceTempView(\"seattle_table\")"
   ]
  },
  {
   "cell_type": "markdown",
   "id": "56aadc81-cbf6-4bf1-b113-4148c0b6b7ff",
   "metadata": {},
   "source": [
    "# Operate on geospatial data using Sedona\n",
    "Now, any desired processing can be performed on the loaded geospatial data with Sedona's extensive [vector function catalog](https://docs.wherobots.services/1.1.0/references/wherobots-compute/vector-data/Overview/)"
   ]
  },
  {
   "cell_type": "code",
   "execution_count": null,
   "id": "d2ebaf47-74f4-42f5-95f9-638a5cfd2ab0",
   "metadata": {},
   "outputs": [],
   "source": [
    "val new_york_point = \"POINT (-74.00 40.71)\"\n",
    "val df_ny = sedona.sql(s\"SELECT ST_GeomFromWKT('$new_york_point') as new_york\")\n",
    "df_ny.createOrReplaceTempView(\"new_york_table\")\n",
    "val df_dist_from_ny = sedona.sql(\"SELECT ST_AsEWKB(geom) as geom, ST_DistanceSphere(geom, new_york) as dist_from_ny, CITY_NAME from city_table, new_york_table\")"
   ]
  },
  {
   "cell_type": "markdown",
   "id": "15e5bf87-2362-4060-ba00-4cacb9db50c0",
   "metadata": {},
   "source": [
    "# Write computed data back to RDS PostGIS\n",
    "\n",
    "A Sedona Dataframe can be written back to the connected RDS PostGIS instance using the write() method of the sedona context object. \n",
    "Same as with the read() method, a map `options` must be passed with the necessary connection and context options.\n",
    "\n",
    "Provide a `dbtable` option to specify the name of the destination table.\n",
    "\n",
    "Also, provide a [save mode](https://spark.apache.org/docs/1.6.0/api/java/org/apache/spark/sql/SaveMode.html) parameter to specify handling collisions with existing tables if any.\n",
    "\n",
    "The written geom data would be in binary, the table in postgres can be altered, as described [here](https://docs.wherobots.services/1.1.0/tutorials/wherobots-compute/save/#step-3-optional-in-postgis)"
   ]
  },
  {
   "cell_type": "code",
   "execution_count": null,
   "id": "2cd06284-9137-4f0a-88d0-366a2e5ee8ce",
   "metadata": {},
   "outputs": [],
   "source": [
    "val destination_table = \"distance_from_ny\" //destination table name in PostGIS\n",
    "val save_mode = \"append\" //Append data to the table if the table already exists with some data. Other possible values are: errorifexists, ignore, overwrite.\n",
    "df_dist_from_ny.write.format(\"jdbc\")\n",
    "                    .options(options)\n",
    "                    .option(\"dbtable\", destination_table)\n",
    "                    .mode(saveMode=save_mode)\n",
    "                    .save()"
   ]
  }
 ],
 "metadata": {
  "kernelspec": {
   "display_name": "spylon-kernel",
   "language": "scala",
   "name": "spylon-kernel"
  },
  "language_info": {
   "codemirror_mode": "text/x-scala",
   "file_extension": ".scala",
   "help_links": [
    {
     "text": "MetaKernel Magics",
     "url": "https://metakernel.readthedocs.io/en/latest/source/README.html"
    }
   ],
   "mimetype": "text/x-scala",
   "name": "scala",
   "pygments_lexer": "scala",
   "version": "0.4.1"
  }
 },
 "nbformat": 4,
 "nbformat_minor": 5
}
