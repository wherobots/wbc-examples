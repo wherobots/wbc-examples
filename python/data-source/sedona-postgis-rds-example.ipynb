{
 "cells": [
  {
   "cell_type": "markdown",
   "id": "2afef897-cae2-498f-9fb7-59d8a1dcbab6",
   "metadata": {},
   "source": [
    "# Import Apache Sedona"
   ]
  },
  {
   "cell_type": "code",
   "execution_count": null,
   "id": "6ed43ef6-ee02-44cc-89df-c36f1e1e1ef3",
   "metadata": {},
   "outputs": [],
   "source": [
    "from sedona.spark import *"
   ]
  },
  {
   "cell_type": "markdown",
   "id": "685bf1f6-80d6-4db3-9625-09821d071f4c",
   "metadata": {},
   "source": [
    "# Define Sedona context if not defined yet"
   ]
  },
  {
   "cell_type": "code",
   "execution_count": null,
   "id": "457ba30b-aaaf-4e15-9744-ccfe50d75b3b",
   "metadata": {},
   "outputs": [],
   "source": [
    "config = SedonaContext.builder() .\\\n",
    "    getOrCreate()\n",
    "sedona = SedonaContext.create(config)\n",
    "\n",
    "sc = sedona.sparkContext"
   ]
  },
  {
   "cell_type": "markdown",
   "id": "ef6ad576-ad54-43b8-8332-f3ace8aa42dd",
   "metadata": {},
   "source": [
    "# Set Connection and Context options.\n",
    "The authentication parameters (username and password) might be different based on the authentication setup of the AWS RDS database.\n",
    "**NOTE**: Please ensure that the AWS RDS database instance created is accessible from the server executing the connection. Check [here](https://docs.aws.amazon.com/AmazonRDS/latest/UserGuide/USER_VPC.Scenarios.html) to learn more about inter and intra VPC connections to the RDS instance."
   ]
  },
  {
   "cell_type": "code",
   "execution_count": null,
   "id": "8e52e053-366b-4462-a111-63271d8a6344",
   "metadata": {},
   "outputs": [],
   "source": [
    "url = '<URL>' #jdbc:postgresql://ENDPOINT/DATABASE_NAME\n",
    "driver = 'org.postgresql.Driver'\n",
    "user = '<USERNAME>'\n",
    "password = '<PASSWORD>'\n"
   ]
  },
  {
   "cell_type": "code",
   "execution_count": null,
   "id": "4bb370d9-9b3a-4d01-af6a-d74cfb914477",
   "metadata": {},
   "outputs": [],
   "source": [
    "options = {\"url\": url, \"driver\": driver, \"user\": user, \"password\": password}"
   ]
  },
  {
   "cell_type": "markdown",
   "id": "abed3d85-5775-4cd1-b3fe-00b916bf42cb",
   "metadata": {},
   "source": [
    "# Read entire table from RDS PostgreSQL into a Sedona Dataframe\n",
    "A `dbtable` option with the table_name as value can be passed to the sedona context object to read the entire table contents into the dataframe. Essentially, run a 'SELECT * FROM table' query."
   ]
  },
  {
   "cell_type": "code",
   "execution_count": null,
   "id": "81565a44-9fed-427e-b8e1-6d4c99deafc0",
   "metadata": {},
   "outputs": [],
   "source": [
    "src_table_name = 'city_tbl_geom'\n",
    "df = sedona.read.format(\"jdbc\")\\\n",
    "                .options(**options)\\\n",
    "                .option('dbtable', src_table_name)\\\n",
    "                .load()"
   ]
  },
  {
   "cell_type": "markdown",
   "id": "92675b5b-0e9c-4407-8897-532b08c219fb",
   "metadata": {},
   "source": [
    "# Read a particular query result from RDS PostgresQL into a Sedona Dataframe\n",
    "A `query` option with the desired query as value can be passed to the sedona context object to read the result of the query into the dataframe. "
   ]
  },
  {
   "cell_type": "code",
   "execution_count": null,
   "id": "0eb856ce-96b3-467b-a5ba-d5e03843f686",
   "metadata": {},
   "outputs": [],
   "source": [
    "query = \"SELECT GEOM, CITY_NAME FROM \" + src_table_name + \" WHERE CITY_NAME = 'Seattle'\" #custom query to run\n",
    "df_query = sedona.read.format(\"jdbc\")\\\n",
    "            .options(**options)\\\n",
    "            .option(\"query\", query)\\\n",
    "            .load()"
   ]
  },
  {
   "cell_type": "markdown",
   "id": "2f54def0-ebf2-4964-95f0-df0f4cb8db1e",
   "metadata": {},
   "source": [
    "# Create Sedona Geometry type column\n",
    "PostGIS serializes geometries as WKB and hence the dataframe will be populated with WKB strings in the geometry column.\n",
    "The WKB strings can be converted to Sedona Geometry types using `ST_GeomFromWKB` exposed via Sedona."
   ]
  },
  {
   "cell_type": "code",
   "execution_count": null,
   "id": "b21caac4-6f02-4409-b2e7-f821abe41d91",
   "metadata": {},
   "outputs": [],
   "source": [
    "df_city = df.selectExpr(\"ST_GeomFromWKB(geom) as geom\", \"CITY_NAME\")\n",
    "df_seattle = df_query.selectExpr(\"ST_GeomFromWKB(geom) as geom\", \"CITY_NAME\")\n",
    "\n",
    "#create a table for use in subsequent queries\n",
    "df_city.createOrReplaceTempView(\"city_table\")\n",
    "df_seattle.createOrReplaceTempView(\"seattle_table\")"
   ]
  },
  {
   "cell_type": "markdown",
   "id": "06bb2f89-d465-48a5-8624-4645a608cec7",
   "metadata": {},
   "source": [
    "# Operate on geospatial data using Sedona\n",
    "Now, any desired processing can be performed on the loaded geospatial data with Sedona's extensive [vector function catalog](https://docs.wherobots.services/1.1.0/references/wherobots-compute/vector-data/Overview/)"
   ]
  },
  {
   "cell_type": "code",
   "execution_count": null,
   "id": "ae6adf8b-cdd3-48ce-ac06-9cbdb989a60a",
   "metadata": {},
   "outputs": [],
   "source": [
    "new_york_point = 'POINT (-74.00 40.71)'\n",
    "df_ny = sedona.sql(\"SELECT ST_GeomFromWKT('\" + new_york_point + \"') as new_york\")\n",
    "df_ny.createOrReplaceTempView(\"new_york_table\")\n",
    "df_dist_from_ny = sedona.sql(\"SELECT ST_AsEWKB(geom) as geom, ST_DistanceSphere(geom, new_york) as dist_from_ny, CITY_NAME from city_table, new_york_table\")"
   ]
  },
  {
   "cell_type": "markdown",
   "id": "4c987817-f15a-4c56-890c-e15a0a388112",
   "metadata": {},
   "source": [
    "# Write computed data back to RDS PostGIS\n",
    "\n",
    "A Sedona Dataframe can be written back to the connected RDS PostGIS instance using the write() method of the sedona context object. \n",
    "Same as with the read() method, a map `options` must be passed with the necessary connection and context options.\n",
    "\n",
    "Provide a `dbtable` option to specify the name of the destination table.\n",
    "\n",
    "Also, provide a [save mode](https://spark.apache.org/docs/1.6.0/api/java/org/apache/spark/sql/SaveMode.html) parameter to specify handling collisions with existing tables if any.\n",
    "\n",
    "The written geom data would be in binary, the table in postgres can be altered, as described [here](https://docs.wherobots.services/1.1.0/tutorials/wherobots-compute/save/#step-3-optional-in-postgis)"
   ]
  },
  {
   "cell_type": "code",
   "execution_count": null,
   "id": "d824630e-61ab-4710-ae4b-ffe55732f991",
   "metadata": {},
   "outputs": [],
   "source": [
    "destination_table = \"distance_from_ny\" #destination table name in PostGIS\n",
    "save_mode = \"append\" #Append data to the table if the table already exists with some data. Other possible values are: errorifexists, ignore, overwrite.\n",
    "df_dist_from_ny.write\\\n",
    "                .format(\"jdbc\")\\\n",
    "                .options(**options)\\\n",
    "                .option(\"dbtable\", destination_table)\\\n",
    "                .mode(saveMode=save_mode)\\\n",
    "                .save()"
   ]
  }
 ],
 "metadata": {
  "kernelspec": {
   "display_name": "Python 3 (ipykernel)",
   "language": "python",
   "name": "python3"
  },
  "language_info": {
   "codemirror_mode": {
    "name": "ipython",
    "version": 3
   },
   "file_extension": ".py",
   "mimetype": "text/x-python",
   "name": "python",
   "nbconvert_exporter": "python",
   "pygments_lexer": "ipython3",
   "version": "3.10.11"
  }
 },
 "nbformat": 4,
 "nbformat_minor": 5
}
