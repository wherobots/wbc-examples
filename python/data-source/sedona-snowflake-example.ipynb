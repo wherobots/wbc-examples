{
 "cells": [
  {
   "cell_type": "markdown",
   "id": "13989386-3a60-4b7b-99ed-0493eb1ac8c1",
   "metadata": {},
   "source": [
    "# Import Apache Sedona"
   ]
  },
  {
   "cell_type": "code",
   "execution_count": null,
   "id": "2c47f068-8549-4970-817e-5c0f239f0115",
   "metadata": {},
   "outputs": [],
   "source": [
    "from sedona.spark import *"
   ]
  },
  {
   "cell_type": "markdown",
   "id": "01da0ebd-8815-457c-ab9a-4ce57b3a1d07",
   "metadata": {},
   "source": [
    "# Define Sedona context if not defined yet"
   ]
  },
  {
   "cell_type": "code",
   "execution_count": null,
   "id": "a6479c1e-575f-43ed-b4d0-f02aa08ebc6d",
   "metadata": {},
   "outputs": [],
   "source": [
    "config = SedonaContext.builder() .\\\n",
    "    getOrCreate()\n",
    "sedona = SedonaContext.create(config)\n",
    "\n",
    "sc = sedona.sparkContext"
   ]
  },
  {
   "cell_type": "markdown",
   "id": "57cf5d7f-5c65-4096-904e-4ff02f52607d",
   "metadata": {},
   "source": [
    "# Define Snowflake Data Source Class Name"
   ]
  },
  {
   "cell_type": "code",
   "execution_count": null,
   "id": "7d904f76-0067-4f8e-b52a-9a50b34c6521",
   "metadata": {},
   "outputs": [],
   "source": [
    "SNOWFLAKE_SOURCE_NAME = \"net.snowflake.spark.snowflake\""
   ]
  },
  {
   "cell_type": "markdown",
   "id": "c1030d3a-c37f-4c3d-9f2e-d4b35a620e56",
   "metadata": {},
   "source": [
    "# Set Snowflake connection and context options.\n",
    "\n",
    "Full list of possible configuration options can be found [here](https://docs.snowflake.com/en/user-guide/spark-connector-use#label-spark-options)"
   ]
  },
  {
   "cell_type": "code",
   "execution_count": null,
   "id": "39b5d864-e21d-4e33-800c-f8a6389871a7",
   "metadata": {},
   "outputs": [],
   "source": [
    "#Connection options\n",
    "snowflake_url = '<SNOWFLAKE_URL>' # <account_identifier>.snowflakecomputing.com\n",
    "username = '<SNOWFLAKE_USERNAME>'\n",
    "password = '<SNOWFLAKE_PASSWORD>'\n",
    "\n",
    "#Context options\n",
    "database = '<SNOWFLAKE_DB_NAME>'\n",
    "schema = '<DB_SCHEMA>'"
   ]
  },
  {
   "cell_type": "code",
   "execution_count": null,
   "id": "66df0c71-ddcc-4a65-bf21-7cc638219887",
   "metadata": {},
   "outputs": [],
   "source": [
    "sfOptions = {\"sfUrl\": snowflake_url, \"sfUser\": username, \"sfPassword\" : password, \"sfDatabase\": database, \"sfSchema\": schema}"
   ]
  },
  {
   "cell_type": "markdown",
   "id": "1a47b692-b530-413b-98c8-d5d346c2fad2",
   "metadata": {},
   "source": [
    "# Read entire table from snowflake into a Sedona Dataframe\n",
    "A `dbtable` option with the table_name as value can be passed to the spark session object to read the entire table contents into the dataframe. Essentially, run a 'SELECT * FROM table' query."
   ]
  },
  {
   "cell_type": "code",
   "execution_count": null,
   "id": "3a626877-3bb8-4f6d-b299-3df192b3079f",
   "metadata": {},
   "outputs": [],
   "source": [
    "src_table_name = \"city_tbl_geom\" #source table name in Snowflake\n",
    "df = sedona.read.format(SNOWFLAKE_SOURCE_NAME)\\\n",
    "    .options(**sfOptions)\\\n",
    "    .option(\"dbtable\", src_table_name)\\\n",
    "    .load()"
   ]
  },
  {
   "cell_type": "markdown",
   "id": "c6f86aa7-7140-424b-bd3d-7d28b6d49bee",
   "metadata": {},
   "source": [
    "# Read a particular query result from snowflake into a Sedona Dataframe\n",
    "A `query` option with the desired query as value can be passed to the sedona context object to read the result of the query into the dataframe. \n",
    "\n",
    "By default, query and predicate pushdown in this execution. \n",
    "If you wish to disable pushdown, a `autopushdown` option with value `off` can be passed to the sedona context object."
   ]
  },
  {
   "cell_type": "code",
   "execution_count": null,
   "id": "f8486bd9-736c-4856-aacb-7b4a60dd1e57",
   "metadata": {},
   "outputs": [],
   "source": [
    "query = \"SELECT GEOM, CITY_NAME FROM \" + src_table_name + \" WHERE CITY_NAME = 'Seattle'\" #custom query to run\n",
    "df_query = sedona.read.format(SNOWFLAKE_SOURCE_NAME)\\\n",
    "            .options(**sfOptions)\\\n",
    "            .option(\"query\", query)\\\n",
    "            .load()"
   ]
  },
  {
   "cell_type": "markdown",
   "id": "3b278145-1bfa-4f26-851b-76011b14f2b2",
   "metadata": {},
   "source": [
    "# Create Sedona Geometry type column\n",
    "Snowflake serializes geometries as GeoJSON and hence the dataframe will be populated with GeoJSON strings in the geometry column.\n",
    "The GeoJSON strings can be converted to Sedona Geometry types using `ST_GeomFromGeoJSON` exposed via Sedona"
   ]
  },
  {
   "cell_type": "code",
   "execution_count": null,
   "id": "4d6b76eb-d62c-4f71-aba5-17371328d416",
   "metadata": {},
   "outputs": [],
   "source": [
    "df_city = df.selectExpr(\"ST_GeomFromGeoJSON(GEOM) as geom\", \"CITY_NAME\")\n",
    "df_seattle = df_query.selectExpr(\"ST_GeomFromGeoJSON(GEOM) as geom\", \"CITY_NAME\")\n",
    "\n",
    "#create a table for use in subsequent queries\n",
    "df_city.createOrReplaceTempView(\"city_table\")\n",
    "df_seattle.createOrReplaceTempView(\"seattle_table\")\n"
   ]
  },
  {
   "cell_type": "markdown",
   "id": "3d982c39-9e86-4262-9499-f9396e159d2d",
   "metadata": {},
   "source": [
    "# Operate on geospatial data using Sedona\n",
    "Now, any desired processing can be performed on the loaded geospatial data with Sedona's extensive [vector function catalog](https://docs.wherobots.services/1.1.0/references/wherobots-compute/vector-data/Overview/)"
   ]
  },
  {
   "cell_type": "code",
   "execution_count": null,
   "id": "d3bfc4d1-6888-4e37-880a-b454f2cb6d39",
   "metadata": {},
   "outputs": [],
   "source": [
    "new_york_point = 'POINT (-74.00 40.71)'\n",
    "df_ny = sedona.sql(\"SELECT ST_GeomFromWKT('\" + new_york_point + \"') as new_york\")\n",
    "df_ny.createOrReplaceTempView(\"new_york_table\")\n",
    "df_dist_from_ny = sedona.sql(\"SELECT ST_AsGeoJson(geom) as geom, ST_DistanceSphere(geom, new_york) as dist_from_ny, CITY_NAME from city_table, new_york_table\")"
   ]
  },
  {
   "cell_type": "markdown",
   "id": "3a157d35-48c5-4f12-a108-fc9400875984",
   "metadata": {},
   "source": [
    "# Write computed data back to Snowflake\n",
    "\n",
    "A Sedona Dataframe can be written back to Snowflake using the write() method of the sedona context object. \n",
    "Same as with the read() method, a map `sfOptions` must be passed with the necessary connection and context options.\n",
    "\n",
    "Provide a `dbtable` option to specify the name of the destination table.\n",
    "\n",
    "Also, provide a [save mode](https://spark.apache.org/docs/1.6.0/api/java/org/apache/spark/sql/SaveMode.html) parameter to specify handling collisions with existing tables if any."
   ]
  },
  {
   "cell_type": "code",
   "execution_count": null,
   "id": "c2c60e69-7d9b-44df-9de1-650aac393b13",
   "metadata": {},
   "outputs": [],
   "source": [
    "destination_table = \"distance_from_ny\" #destination table name in Snowflake\n",
    "save_mode = \"append\" #Append data to the table if the table already exists with some data. Other possible values are: errorifexists, ignore, overwrite.\n",
    "df_dist_from_ny.write\\\n",
    "                .format(SNOWFLAKE_SOURCE_NAME)\\\n",
    "                .options(**sfOptions)\\\n",
    "                .option(\"dbtable\", destination_table)\\\n",
    "                .mode(saveMode=save_mode)\\\n",
    "                .save()"
   ]
  },
  {
   "cell_type": "code",
   "execution_count": null,
   "id": "a576203f-f52b-411a-90b4-2dbb35b08e5c",
   "metadata": {},
   "outputs": [],
   "source": []
  }
 ],
 "metadata": {
  "kernelspec": {
   "display_name": "Python 3 (ipykernel)",
   "language": "python",
   "name": "python3"
  },
  "language_info": {
   "codemirror_mode": {
    "name": "ipython",
    "version": 3
   },
   "file_extension": ".py",
   "mimetype": "text/x-python",
   "name": "python",
   "nbconvert_exporter": "python",
   "pygments_lexer": "ipython3",
   "version": "3.10.11"
  }
 },
 "nbformat": 4,
 "nbformat_minor": 5
}
