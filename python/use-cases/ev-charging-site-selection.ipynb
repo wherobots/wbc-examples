{
 "cells": [
  {
   "cell_type": "markdown",
   "id": "41a939b8-0dae-4b9d-a6fa-1618e9379dfb",
   "metadata": {},
   "source": [
    "<img src=\"https://wherobots.com/wp-content/uploads/2023/12/Inline-Blue_Black_onWhite@3x.png\" alt=\"Wherobots Logo\" width=\"600\">\n",
    "\n",
    "## Electric Vehicle Charging Station Site Selection Analysis\n",
    "\n",
    "This notebook demonstrates a workflow for identifying potential areas for new electric vehicle (EV) charging station development using WherobotsDB and WherobotsAI raster inference functionality. The workflow is based on:\n",
    "\n",
    "* Identifying existing EV charging station infrastructure\n",
    "* Proximity to retail stores as a proxy for demand, and\n",
    "* Proximity to solar farms\n",
    "    \n",
    "\n",
    "Existing charging station infrastructure and retail store point of interest data is determined using public data sources, while existing solar farm infrastructure is identified using Wherobots AI raster inference. By using a machine learning model trained on satellite imagery we can identify solar farms as an input to the analysis.\n",
    "\n",
    "**_NOTE: This notebook must be run in a GPU-enabled [Wherobots Cloud](https://cloud.wherobots.com/) Runtime for access to WherobotsAI Raster Inference functionality, which is a Professional Tier feature. Please [contact us](https://wherobots.com/contact/) for access._**"
   ]
  },
  {
   "cell_type": "code",
   "execution_count": 1,
   "id": "2def2e2f-b05c-4bd9-bbad-fe011a9ffec6",
   "metadata": {},
   "outputs": [
    {
     "name": "stderr",
     "output_type": "stream",
     "text": [
      "Setting default log level to \"WARN\".\n",
      "To adjust logging level use sc.setLogLevel(newLevel). For SparkR, use setLogLevel(newLevel).\n",
      "                                                                                \r"
     ]
    }
   ],
   "source": [
    "from sedona.spark import *\n",
    "import os\n",
    "import warnings\n",
    "warnings.filterwarnings('ignore')\n",
    "\n",
    "# specifies catalog called benchmark, the havasu catalog\n",
    "# need to get from terminal\n",
    "config = SedonaContext.builder() \\\n",
    "           .config(\"spark.hadoop.fs.s3a.bucket.wherobots-examples.aws.credentials.provider\", \"org.apache.hadoop.fs.s3a.AnonymousAWSCredentialsProvider\") \\\n",
    "            .config(\"spark.driver.maxResultSize\", \"10g\") \\\n",
    "           .config(\"spark.sql.catalog.benchmark.type\", \"hadoop\") \\\n",
    "           .config(\"spark.sql.catalog.benchmark\", \"org.apache.iceberg.spark.SparkCatalog\") \\\n",
    "           .config(\"spark.sql.catalog.benchmark.warehouse\", \"s3://wherobots-benchmark-prod/data/ml/\") \\\n",
    "           .config(\"spark.sql.catalog.benchmark.io-impl\", \"org.apache.iceberg.aws.s3.S3FileIO\").getOrCreate()\n",
    "sedona = SedonaContext.create(config)"
   ]
  },
  {
   "cell_type": "markdown",
   "id": "d6126582-c1f0-4099-ba99-5e537f0bbb43",
   "metadata": {},
   "source": [
    "## Identify Area Of Interest\n",
    "\n",
    "We will use US Census Zip Code Tabulated Areas (ZCTA) to identify regions for potential EV charging station development. We will confine our analysis to the state of Arizona.\n",
    "\n",
    "Note that we are using the `ST_Intersects` spatial predicate function to find ZCTAs that intersect with the border of Arizona rather than `ST_Contains`. This is because some ZCTAs extend beyond the border of Arizona and can lie within multiple states."
   ]
  },
  {
   "cell_type": "code",
   "execution_count": 2,
   "id": "e63a9ca8-4f14-4b33-be75-e0b0218c2646",
   "metadata": {},
   "outputs": [],
   "source": [
    "az_zips_df = sedona.sql(\"\"\"\n",
    "WITH arizona AS ( \n",
    "    SELECT localityArea.geometry AS geometry\n",
    "    FROM wherobots_open_data.overture_2024_02_15.admins_locality locality \n",
    "    JOIN wherobots_open_data.overture_2024_02_15.admins_localityArea localityArea \n",
    "    ON locality.id = localityArea.localityId\n",
    "    WHERE locality.names.primary = \"Arizona\" AND locality.localityType = \"state\" \n",
    ")\n",
    "\n",
    "SELECT ST_Intersection(arizona.geometry, zta5.geometry) AS geometry, ZCTA5CE10 \n",
    "FROM wherobots_pro_data.us_census.zipcode zta5, arizona\n",
    "WHERE ST_Intersects(arizona.geometry, zta5.geometry)\n",
    "\"\"\")"
   ]
  },
  {
   "cell_type": "code",
   "execution_count": 3,
   "id": "c7750b24-fc49-4da5-8f2f-ae58b3963f21",
   "metadata": {},
   "outputs": [],
   "source": [
    "az_zips_df.createOrReplaceTempView(\"az_zta5\")"
   ]
  },
  {
   "cell_type": "code",
   "execution_count": 4,
   "id": "1e456388-abbf-41bd-93ee-4fe8897f4595",
   "metadata": {},
   "outputs": [
    {
     "name": "stdout",
     "output_type": "stream",
     "text": [
      "root\n",
      " |-- geometry: geometry (nullable = true)\n",
      " |-- ZCTA5CE10: string (nullable = true)\n",
      "\n"
     ]
    }
   ],
   "source": [
    "az_zips_df.printSchema()"
   ]
  },
  {
   "cell_type": "code",
   "execution_count": null,
   "id": "54d99fd8-a9a4-4634-878c-b4c5a88e5875",
   "metadata": {},
   "outputs": [],
   "source": [
    "SedonaKepler.create_map(az_zips_df, name=\"Arizona ZCTAs\")"
   ]
  },
  {
   "cell_type": "markdown",
   "id": "c7e2e2cd-a9b4-4ce7-bac6-664bf0cc1e59",
   "metadata": {},
   "source": [
    "![Arizona ZCTAs](https://wherobots.com/wp-content/uploads/2024/06/AZ_ZCTA.png)"
   ]
  },
  {
   "cell_type": "markdown",
   "id": "1a6c64de-2a28-40dc-b549-03932b141944",
   "metadata": {},
   "source": [
    "Next, we will identify existing EV charging infrastructure within each ZCTA as an input to our analysis."
   ]
  },
  {
   "cell_type": "markdown",
   "id": "d72daaa2-14cc-4d31-84ae-b3acf95f0f4b",
   "metadata": {},
   "source": [
    "## Existing EV Charging Infrastructure\n",
    "\n",
    "Using data from [Open Charge Map](https://openchargemap.org/site) we calculate the number of EV charging stations in each ZCTA to give us a sense of existing EV charging infrastructure.\n"
   ]
  },
  {
   "cell_type": "code",
   "execution_count": 6,
   "id": "f2d590eb-a060-4031-b26d-05fb663ca59a",
   "metadata": {},
   "outputs": [
    {
     "name": "stderr",
     "output_type": "stream",
     "text": [
      "                                                                                \r"
     ]
    }
   ],
   "source": [
    "stations_df = sedona.read.format(\"geoparquet\").load(\"s3://wherobots-examples/data/examples/openchargemap/world.parquet\")"
   ]
  },
  {
   "cell_type": "code",
   "execution_count": 7,
   "id": "ae43efb3-f0ef-4290-a3df-77e5c238503c",
   "metadata": {},
   "outputs": [],
   "source": [
    "stations_df.createOrReplaceTempView(\"stations\")"
   ]
  },
  {
   "cell_type": "code",
   "execution_count": null,
   "id": "7d61e5bf-ab38-4dc1-b0b8-346db691ec30",
   "metadata": {},
   "outputs": [],
   "source": [
    "SedonaKepler.create_map(stations_df.sample(0.01), name=\"EV Charging Stations\")"
   ]
  },
  {
   "cell_type": "markdown",
   "id": "760e803d-54a9-49f7-9d97-868e40de56f0",
   "metadata": {},
   "source": [
    "![Existing EV chargers](https://wherobots.com/wp-content/uploads/2024/06/ev_chargers.png)"
   ]
  },
  {
   "cell_type": "markdown",
   "id": "63083dd2-7013-4b55-8fdd-dd091344ae91",
   "metadata": {},
   "source": [
    "Count of existing EV charging stations per ZCTA."
   ]
  },
  {
   "cell_type": "code",
   "execution_count": 9,
   "id": "cda0ed80-40d9-48e5-a7d4-1e5e26a302bd",
   "metadata": {},
   "outputs": [],
   "source": [
    "az_stations_df = sedona.sql(\"\"\"\n",
    "SELECT COUNT(*) AS num, any_value(az_zta5.geometry) AS geometry, ZCTA5CE10\n",
    "FROM stations JOIN az_zta5\n",
    "WHERE ST_Intersects(az_zta5.geometry, stations.geometry)\n",
    "GROUP BY ZCTA5CE10 \n",
    "ORDER BY num DESC\n",
    "\"\"\")"
   ]
  },
  {
   "cell_type": "code",
   "execution_count": 10,
   "id": "ed5a22b4-587c-4875-bb13-a79ebc051409",
   "metadata": {},
   "outputs": [],
   "source": [
    "az_stations_df.createOrReplaceTempView(\"az_stations\")"
   ]
  },
  {
   "cell_type": "code",
   "execution_count": 11,
   "id": "6ac2882e-250d-45b2-9f8c-59b16994ed7d",
   "metadata": {},
   "outputs": [
    {
     "name": "stderr",
     "output_type": "stream",
     "text": [
      "                                                                                \r"
     ]
    },
    {
     "data": {
      "text/plain": [
       "204"
      ]
     },
     "execution_count": 11,
     "metadata": {},
     "output_type": "execute_result"
    }
   ],
   "source": [
    "az_stations_df.count()"
   ]
  },
  {
   "cell_type": "code",
   "execution_count": 12,
   "id": "8b23063f-7f82-4209-b5c8-e2557bbfcb57",
   "metadata": {},
   "outputs": [
    {
     "name": "stderr",
     "output_type": "stream",
     "text": [
      "                                                                                \r"
     ]
    },
    {
     "name": "stdout",
     "output_type": "stream",
     "text": [
      "+---+--------------------+---------+\n",
      "|num|            geometry|ZCTA5CE10|\n",
      "+---+--------------------+---------+\n",
      "| 51|POLYGON ((-111.97...|    85281|\n",
      "| 36|POLYGON ((-111.95...|    85251|\n",
      "| 33|POLYGON ((-111.92...|    85260|\n",
      "| 28|POLYGON ((-112.07...|    85004|\n",
      "| 27|POLYGON ((-112.14...|    85226|\n",
      "| 26|POLYGON ((-112.07...|    86336|\n",
      "| 22|POLYGON ((-111.97...|    85054|\n",
      "| 22|POLYGON ((-112.05...|    85016|\n",
      "| 20|POLYGON ((-111.89...|    85286|\n",
      "| 19|POLYGON ((-112.06...|    85034|\n",
      "| 17|POLYGON ((-111.97...|    85254|\n",
      "| 17|POLYGON ((-111.69...|    85212|\n",
      "| 16|POLYGON ((-111.75...|    85206|\n",
      "| 15|POLYGON ((-111.92...|    85250|\n",
      "| 15|POLYGON ((-111.95...|    86001|\n",
      "| 15|POLYGON ((-110.96...|    85719|\n",
      "| 15|POLYGON ((-112.28...|    85305|\n",
      "| 15|MULTIPOLYGON (((-...|    85282|\n",
      "| 15|POLYGON ((-111.94...|    85248|\n",
      "| 14|POLYGON ((-112.36...|    85323|\n",
      "+---+--------------------+---------+\n",
      "only showing top 20 rows\n",
      "\n"
     ]
    },
    {
     "name": "stderr",
     "output_type": "stream",
     "text": [
      "                                                                                \r"
     ]
    }
   ],
   "source": [
    "az_stations_df.cache().show()"
   ]
  },
  {
   "cell_type": "code",
   "execution_count": 13,
   "id": "97c44723-0d4e-47ee-b31a-fad0ff07b25c",
   "metadata": {},
   "outputs": [
    {
     "name": "stdout",
     "output_type": "stream",
     "text": [
      "root\n",
      " |-- num: long (nullable = false)\n",
      " |-- geometry: geometry (nullable = true)\n",
      " |-- ZCTA5CE10: string (nullable = true)\n",
      "\n"
     ]
    }
   ],
   "source": [
    "az_stations_df.printSchema()"
   ]
  },
  {
   "cell_type": "code",
   "execution_count": null,
   "id": "362f702d-680a-4bcd-8831-ea88abc7369f",
   "metadata": {},
   "outputs": [],
   "source": [
    "SedonaKepler.create_map(az_stations_df, name=\"EV Chargers\")"
   ]
  },
  {
   "cell_type": "markdown",
   "id": "6e7acd78-e31d-40b1-932f-18efb86d9c37",
   "metadata": {},
   "source": [
    "![](https://wherobots.com/wp-content/uploads/2024/06/ev_chargers_map.png)"
   ]
  },
  {
   "cell_type": "markdown",
   "id": "7d66bd0a-82c3-4223-970f-39a4a1041106",
   "metadata": {},
   "source": [
    "## Arizona Retail Stores\n",
    "\n",
    "Next, we'll use retail stores per ZCTA as a proxy for demand. ZCTAs with more retail stores indicate higher demand for EV chargers and EV charger users typically expect nearby amenities. Using the Overture Maps Foundation public point of interest data set we will find points of interest within each ZCTA using a spatial join operation and count the number of stores with a `GROUP BY`."
   ]
  },
  {
   "cell_type": "code",
   "execution_count": 15,
   "id": "2cff6438-9956-4e8d-9560-b669ccec6a9a",
   "metadata": {},
   "outputs": [
    {
     "data": {
      "text/plain": [
       "53622897"
      ]
     },
     "execution_count": 15,
     "metadata": {},
     "output_type": "execute_result"
    }
   ],
   "source": [
    "sedona.table(\"wherobots_open_data.overture_2024_02_15.places_place\").count()"
   ]
  },
  {
   "cell_type": "code",
   "execution_count": 16,
   "id": "c901e4d1-820c-44e8-b5e8-fd12b1a71a09",
   "metadata": {},
   "outputs": [],
   "source": [
    "az_retail_df = sedona.sql(\"\"\"\n",
    "SELECT COUNT(*) AS num, any_value(az_zta5.geometry) AS geometry, ZCTA5CE10\n",
    "FROM wherobots_open_data.overture_2024_02_15.places_place places \n",
    "JOIN az_zta5\n",
    "WHERE ST_Intersects(az_zta5.geometry, places.geometry)\n",
    "AND places.categories.main IN (\"retail\", \"grocery_store\", \"restaurant\") \n",
    "GROUP BY ZCTA5CE10 \n",
    "ORDER BY num DESC\n",
    "\"\"\")"
   ]
  },
  {
   "cell_type": "code",
   "execution_count": 17,
   "id": "92aa1eb7-c3a6-4336-baee-21937adabac1",
   "metadata": {},
   "outputs": [],
   "source": [
    "az_retail_df.createOrReplaceTempView(\"az_retail\")"
   ]
  },
  {
   "cell_type": "code",
   "execution_count": 18,
   "id": "513247ce-9dd0-4d92-bac7-747db27ea296",
   "metadata": {},
   "outputs": [
    {
     "name": "stderr",
     "output_type": "stream",
     "text": [
      "                                                                                \r"
     ]
    },
    {
     "name": "stdout",
     "output_type": "stream",
     "text": [
      "+---+--------------------+---------+\n",
      "|num|            geometry|ZCTA5CE10|\n",
      "+---+--------------------+---------+\n",
      "| 50|POLYGON ((-111.92...|    85260|\n",
      "| 49|POLYGON ((-111.97...|    85281|\n",
      "| 39|POLYGON ((-112.07...|    85004|\n",
      "| 38|POLYGON ((-111.04...|    85705|\n",
      "| 37|POLYGON ((-112.14...|    85226|\n",
      "+---+--------------------+---------+\n",
      "only showing top 5 rows\n",
      "\n"
     ]
    }
   ],
   "source": [
    "az_retail_df.cache().show(5)"
   ]
  },
  {
   "cell_type": "code",
   "execution_count": null,
   "id": "b82e8981-14dd-4b81-856e-827f41b53ace",
   "metadata": {},
   "outputs": [],
   "source": [
    "SedonaKepler.create_map(az_retail_df, name=\"Retail Stores\")"
   ]
  },
  {
   "cell_type": "markdown",
   "id": "288f75d1-c373-4065-9e61-c2ed5799c7cc",
   "metadata": {},
   "source": [
    "![Retail stores](https://wherobots.com/wp-content/uploads/2024/06/retail_store_map.png)"
   ]
  },
  {
   "cell_type": "markdown",
   "id": "e12b462f-cfd0-48a4-afd9-ba2d30f1cacd",
   "metadata": {},
   "source": [
    "## Combining Retail Stores & Existing EV Chargers\n",
    "\n",
    "Before we apply WherobotsAI raster inference to identify solar farms in the area, we'll use existing EV chargers and retail stores to identify ZCTAs with high demand and low existing EV charging infrastructure by computing the ratio of retail stores to EV chargers in each ZCTA. We'll then normalize this value in the range 0.0 - 1.0 so we can treat this as part of our linear suitability model. A high opportunity score indicates an area where demand for EV chargers is unmet, relative to existing EV chargers in the area.\n"
   ]
  },
  {
   "cell_type": "code",
   "execution_count": 20,
   "id": "8fd3c934-d362-4e17-bf82-e4105af037d4",
   "metadata": {},
   "outputs": [],
   "source": [
    "az_ratio = sedona.sql(\"\"\"\n",
    "WITH ratios AS (\n",
    "    SELECT \n",
    "        coalesce(az_stations.num, 0) / coalesce(az_retail.num, 1) AS ratio, \n",
    "        coalesce(az_stations.geometry, az_retail.geometry) AS geometry, \n",
    "        coalesce(az_stations.ZCTA5CE10, az_retail.ZCTA5CE10) AS ZCTA5CE10\n",
    "    FROM az_retail FULL OUTER JOIN az_stations\n",
    "    ON az_retail.ZCTA5CE10 = az_stations.ZCTA5CE10\n",
    "    WHERE az_retail.num > 1\n",
    "    ORDER BY ratio DESC\n",
    "),\n",
    "min_max AS (\n",
    "    SELECT MIN(ratio) AS min_val, MAX(ratio) AS max_val \n",
    "    FROM ratios\n",
    ")\n",
    "\n",
    "SELECT \n",
    "    (1 - ( (ratio - min_max.min_val ) / (min_max.max_val - min_max.min_val)   )) AS opportunity_score,\n",
    "    geometry,\n",
    "    ZCTA5CE10\n",
    "FROM ratios, min_max\n",
    "\"\"\")"
   ]
  },
  {
   "cell_type": "code",
   "execution_count": 21,
   "id": "cfa11c9e-9bb7-4aab-9c94-1c131b27b898",
   "metadata": {},
   "outputs": [],
   "source": [
    "az_ratio.createOrReplaceTempView(\"az_ratio\")"
   ]
  },
  {
   "cell_type": "code",
   "execution_count": 22,
   "id": "648dd483-e6e5-46d3-a3ba-b33da007118e",
   "metadata": {},
   "outputs": [
    {
     "name": "stdout",
     "output_type": "stream",
     "text": [
      "+------------------+--------------------+---------+\n",
      "| opportunity_score|            geometry|ZCTA5CE10|\n",
      "+------------------+--------------------+---------+\n",
      "|             0.824|POLYGON ((-111.92...|    85260|\n",
      "|0.7224489795918367|POLYGON ((-111.97...|    85281|\n",
      "|0.8085470085470086|POLYGON ((-112.07...|    85004|\n",
      "|0.9228070175438596|POLYGON ((-111.04...|    85705|\n",
      "|0.8054054054054054|POLYGON ((-112.14...|    85226|\n",
      "|0.7405405405405405|POLYGON ((-111.95...|    85251|\n",
      "|0.9185185185185185|POLYGON ((-112.23...|    85308|\n",
      "| 0.853763440860215|POLYGON ((-111.97...|    85254|\n",
      "|0.8709677419354839|POLYGON ((-110.96...|    85719|\n",
      "| 0.956989247311828|MULTIPOLYGON (((-...|    85301|\n",
      "|0.9733333333333334|MULTIPOLYGON (((-...|    85364|\n",
      "|0.8755555555555555|POLYGON ((-112.03...|    85032|\n",
      "|0.9356321839080459|POLYGON ((-111.86...|    85210|\n",
      "|0.9632183908045977|POLYGON ((-112.16...|    85009|\n",
      "|0.8620689655172413|MULTIPOLYGON (((-...|    85282|\n",
      "|0.7904761904761904|POLYGON ((-112.05...|    85016|\n",
      "|0.9407407407407408|MULTIPOLYGON (((-...|    85365|\n",
      "|0.8419753086419753|POLYGON ((-111.75...|    85206|\n",
      "|0.9703703703703703|POLYGON ((-111.82...|    85204|\n",
      "|0.9146666666666666|POLYGON ((-111.75...|    85142|\n",
      "+------------------+--------------------+---------+\n",
      "only showing top 20 rows\n",
      "\n"
     ]
    }
   ],
   "source": [
    "az_ratio.cache().show()"
   ]
  },
  {
   "cell_type": "code",
   "execution_count": null,
   "id": "023916cc-a602-4581-9805-ae8d33ce0313",
   "metadata": {},
   "outputs": [],
   "source": [
    "SedonaKepler.create_map(az_ratio, name=\"Opportunity Score\")"
   ]
  },
  {
   "cell_type": "markdown",
   "id": "8f55b57f-217a-4df1-8b90-66f19ac77637",
   "metadata": {},
   "source": [
    "![](https://wherobots.com/wp-content/uploads/2024/06/opportunity_score.png)"
   ]
  },
  {
   "cell_type": "markdown",
   "id": "f310c396-e92b-4e5b-a48b-2ec396e15d71",
   "metadata": {},
   "source": [
    "ZCTAs with a high opportunity score are potential candidates for additional EV charging stations. The final input to our analysis is proximity to solar farms, which we will identify using WherobotsAI raster inference."
   ]
  },
  {
   "cell_type": "markdown",
   "id": "63171d41-3551-4cf6-aa8e-831118db320c",
   "metadata": {},
   "source": [
    "## WherobotsAI Raster Inference\n",
    "\n",
    "[WherobotsAI](https://wherobots.com/wherobots-ai/) enables applying machine learning models to aerial imagery for segmentation, classification, and object detection. Our suitability analysis will leverage a segmentation model to identify solar farms from satellite imagery in our area of interest. We will use the opportunity score computed above to prioritize areas where raster inference should be applied, ensuring we are identifying solar farms only within ZCTAs with a high opportunity score.\n",
    "\n",
    "The [outdb raster table](https://docs.wherobots.com/1.2.2/references/havasu/raster/out-db-rasters/) refers to Sentinel-2 images with low cloud cover during 2023 in Arizona. We've prepared this using WherbotsDB's raster processing capabilities.\n",
    "\n"
   ]
  },
  {
   "cell_type": "code",
   "execution_count": 24,
   "id": "8f551f96-9bd1-469c-8330-bb8b6b719f73",
   "metadata": {},
   "outputs": [],
   "source": [
    "columns_to_drop = [\"x\", \"y\", \"product_type\", \"length\"]\n",
    "num_partitions = 32\n",
    "solar_model_inputs_df = sedona.table(\"benchmark.db.solar_satlas_sentinel2_db\").drop(*columns_to_drop).repartition(num_partitions)"
   ]
  },
  {
   "cell_type": "code",
   "execution_count": 25,
   "id": "3e8b8988-9f4e-430f-aefa-4a62c47732d7",
   "metadata": {},
   "outputs": [
    {
     "name": "stderr",
     "output_type": "stream",
     "text": [
      "[Stage 210:====================================================>  (24 + 1) / 25]\r"
     ]
    },
    {
     "name": "stdout",
     "output_type": "stream",
     "text": [
      "+--------------------+-------------+---------+-------------+--------------------+--------------+------------+--------------------+--------------------+\n",
      "|            filename|surrogate_key|grid_code|constellation|            geometry|start_datetime|end_datetime|                path|        outdb_raster|\n",
      "+--------------------+-------------+---------+-------------+--------------------+--------------+------------+--------------------+--------------------+\n",
      "|sentinel-2-S2MSI2...|   1003289323|    12SUD|   sentinel-2|POLYGON ((-113.19...|      20230107|    20230206|s3a://wherobots-b...|OutDbGridCoverage...|\n",
      "|sentinel-2-S2MSI2...|    -18933983|    11SPR|   sentinel-2|POLYGON ((-115.93...|      20231002|    20231027|s3a://wherobots-b...|OutDbGridCoverage...|\n",
      "|sentinel-2-S2MSI2...|   -345599496|    12SUA|   sentinel-2|POLYGON ((-113.12...|      20230107|    20230122|s3a://wherobots-b...|OutDbGridCoverage...|\n",
      "|sentinel-2-S2MSI2...|   -638119537|    12SXB|   sentinel-2|POLYGON ((-109.64...|      20230401|    20230421|s3a://wherobots-b...|OutDbGridCoverage...|\n",
      "|sentinel-2-S2MSI2...|   -595744675|    12RVV|   sentinel-2|POLYGON ((-112.05...|      20230409|    20230424|s3a://wherobots-b...|OutDbGridCoverage...|\n",
      "|sentinel-2-S2MSI2...|    112642360|    12SXD|   sentinel-2|POLYGON ((-109.90...|      20230703|    20230718|s3a://wherobots-b...|OutDbGridCoverage...|\n",
      "|sentinel-2-S2MSI2...|  -1084433147|    12SXC|   sentinel-2|POLYGON ((-109.91...|      20230708|    20230921|s3a://wherobots-b...|OutDbGridCoverage...|\n",
      "|sentinel-2-S2MSI2...|    230327753|    12SUG|   sentinel-2|POLYGON ((-113.27...|      20230107|    20230201|s3a://wherobots-b...|OutDbGridCoverage...|\n",
      "|sentinel-2-S2MSI2...|  -1371168386|    12SUG|   sentinel-2|POLYGON ((-113.27...|      20231004|    20231024|s3a://wherobots-b...|OutDbGridCoverage...|\n",
      "|sentinel-2-S2MSI2...|    112642360|    12SXD|   sentinel-2|POLYGON ((-109.90...|      20230703|    20230718|s3a://wherobots-b...|OutDbGridCoverage...|\n",
      "|sentinel-2-S2MSI2...|    934553882|    12RWV|   sentinel-2|POLYGON ((-111.00...|      20230703|    20230802|s3a://wherobots-b...|OutDbGridCoverage...|\n",
      "|sentinel-2-S2MSI2...|   1205326479|    12STF|   sentinel-2|POLYGON ((-114.37...|      20230120|    20230209|s3a://wherobots-b...|OutDbGridCoverage...|\n",
      "|sentinel-2-S2MSI2...|   1079192088|    12STB|   sentinel-2|POLYGON ((-114.22...|      20230402|    20230427|s3a://wherobots-b...|OutDbGridCoverage...|\n",
      "|sentinel-2-S2MSI2...|    453338581|    11SPA|   sentinel-2|POLYGON ((-115.87...|      20230704|    20230719|s3a://wherobots-b...|OutDbGridCoverage...|\n",
      "|sentinel-2-S2MSI2...|  -1186703684|    12SXE|   sentinel-2|POLYGON ((-109.88...|      20231001|    20231016|s3a://wherobots-b...|OutDbGridCoverage...|\n",
      "|sentinel-2-S2MSI2...|    410463068|    12SVG|   sentinel-2|POLYGON ((-112.13...|      20230402|    20230502|s3a://wherobots-b...|OutDbGridCoverage...|\n",
      "|sentinel-2-S2MSI2...|    453338581|    11SPA|   sentinel-2|POLYGON ((-115.87...|      20230704|    20230719|s3a://wherobots-b...|OutDbGridCoverage...|\n",
      "|sentinel-2-S2MSI2...|  -1886685280|    12STF|   sentinel-2|POLYGON ((-114.37...|      20230704|    20230719|s3a://wherobots-b...|OutDbGridCoverage...|\n",
      "|sentinel-2-S2MSI2...|   1101525517|    11SQR|   sentinel-2|POLYGON ((-114.87...|      20230701|    20230726|s3a://wherobots-b...|OutDbGridCoverage...|\n",
      "|sentinel-2-S2MSI2...|    163307469|    12SVC|   sentinel-2|POLYGON ((-111.92...|      20230409|    20230429|s3a://wherobots-b...|OutDbGridCoverage...|\n",
      "+--------------------+-------------+---------+-------------+--------------------+--------------+------------+--------------------+--------------------+\n",
      "only showing top 20 rows\n",
      "\n"
     ]
    },
    {
     "name": "stderr",
     "output_type": "stream",
     "text": [
      "                                                                                \r"
     ]
    }
   ],
   "source": [
    "solar_model_inputs_df.cache().show()"
   ]
  },
  {
   "cell_type": "markdown",
   "id": "45b5532b-3cb7-48ac-97fd-cf3a7d25a7c8",
   "metadata": {},
   "source": [
    "First, we search for scenes from our Sentinel-2 dataset that intersect with ZCTAs with a high opportunity score and filter for the latest images."
   ]
  },
  {
   "cell_type": "code",
   "execution_count": 26,
   "id": "bba59c2d-6aff-48f2-8f37-d2ad8534fa31",
   "metadata": {},
   "outputs": [],
   "source": [
    "az_high_demand_with_scene_geom = sedona.sql(\"\"\" \n",
    "    WITH base as (\n",
    "        SELECT s.filename, s.geometry as scene_geometry, s.outdb_raster as\n",
    "        outdb_raster, z.ZCTA5CE10 as zip_code_name, z.geometry as zip_geometry, z.opportunity_score\n",
    "        FROM benchmark.db.solar_satlas_sentinel2_db s, az_ratio z\n",
    "        WHERE ST_Intersects(s.geometry, z.geometry)\n",
    "        AND z.opportunity_score > 0.9 AND start_datetime > 20231001\n",
    "    )\n",
    "    SELECT DISTINCT filename, outdb_raster from base\"\"\").repartition(num_partitions)"
   ]
  },
  {
   "cell_type": "code",
   "execution_count": 27,
   "id": "6e980b13-08ad-491a-abaf-8a46a8f95799",
   "metadata": {},
   "outputs": [
    {
     "name": "stderr",
     "output_type": "stream",
     "text": [
      "[Stage 222:===============================================>     (181 + 2) / 200]\r"
     ]
    },
    {
     "name": "stdout",
     "output_type": "stream",
     "text": [
      "3000\n",
      "CPU times: user 6.82 ms, sys: 3.89 ms, total: 10.7 ms\n",
      "Wall time: 15 s\n"
     ]
    },
    {
     "name": "stderr",
     "output_type": "stream",
     "text": [
      "                                                                                \r"
     ]
    }
   ],
   "source": [
    "%%time\n",
    "print(az_high_demand_with_scene_geom.cache().count())"
   ]
  },
  {
   "cell_type": "code",
   "execution_count": 28,
   "id": "ca1cf1ff-541d-498c-bee3-6a55b398b4ba",
   "metadata": {},
   "outputs": [],
   "source": [
    "az_high_demand_with_scene_geom.createOrReplaceTempView(\"az_high_demand_with_scene\")"
   ]
  },
  {
   "cell_type": "markdown",
   "id": "f6f1ebbc-2167-4f7f-b20f-02cf37ff67e7",
   "metadata": {},
   "source": [
    "Next, we apply our segmentation model using the `RS_SEGMENT` spatial SQL function."
   ]
  },
  {
   "cell_type": "code",
   "execution_count": 29,
   "id": "c12483c8-09f1-4dce-9040-b5b2d14512e8",
   "metadata": {},
   "outputs": [
    {
     "data": {
      "text/plain": [
       "DataFrame[]"
      ]
     },
     "execution_count": 29,
     "metadata": {},
     "output_type": "execute_result"
    }
   ],
   "source": [
    "model_id = 'solar-satlas-sentinel2'\n",
    "\n",
    "sedona.sql(f\"\"\"\n",
    "CREATE OR REPLACE TEMP VIEW segment_fields AS (\n",
    "    SELECT\n",
    "        outdb_raster, \n",
    "        RS_SEGMENT('{model_id}', outdb_raster) AS segment_result\n",
    "    FROM\n",
    "    az_high_demand_with_scene\n",
    ")\n",
    "\"\"\")"
   ]
  },
  {
   "cell_type": "code",
   "execution_count": 30,
   "id": "add47764-1bbe-4c0e-9987-103f634c19ed",
   "metadata": {},
   "outputs": [],
   "source": [
    "predictions_df = sedona.sql(f\"\"\"\n",
    "SELECT\n",
    "  outdb_raster, segment_result.*\n",
    "FROM segment_fields\n",
    "\"\"\")"
   ]
  },
  {
   "cell_type": "code",
   "execution_count": 31,
   "id": "bc7f4df2-c63f-4c90-aed3-cf9ea2d923f8",
   "metadata": {},
   "outputs": [
    {
     "name": "stderr",
     "output_type": "stream",
     "text": [
      "[Stage 246:=====================================================> (31 + 1) / 32]\r"
     ]
    },
    {
     "name": "stdout",
     "output_type": "stream",
     "text": [
      "3000\n",
      "CPU times: user 63.4 ms, sys: 8.26 ms, total: 71.7 ms\n",
      "Wall time: 5min 12s\n"
     ]
    },
    {
     "name": "stderr",
     "output_type": "stream",
     "text": [
      "                                                                                \r"
     ]
    }
   ],
   "source": [
    "%%time\n",
    "print(predictions_df.cache().count())"
   ]
  },
  {
   "cell_type": "code",
   "execution_count": 32,
   "id": "a4c273ac-4c53-4a86-8291-70c4a3c106ea",
   "metadata": {},
   "outputs": [
    {
     "name": "stderr",
     "output_type": "stream",
     "text": [
      "                                                                                \r"
     ]
    },
    {
     "name": "stdout",
     "output_type": "stream",
     "text": [
      "+--------------------+--------------------+-----------------+\n",
      "|        outdb_raster|    confidence_array|        class_map|\n",
      "+--------------------+--------------------+-----------------+\n",
      "|OutDbGridCoverage...|[0.5000004, 0.5, ...|{Solar Farm -> 1}|\n",
      "|OutDbGridCoverage...|[0.50000495, 0.50...|{Solar Farm -> 1}|\n",
      "|OutDbGridCoverage...|[0.50000507, 0.50...|{Solar Farm -> 1}|\n",
      "|OutDbGridCoverage...|[0.50000054, 0.5,...|{Solar Farm -> 1}|\n",
      "|OutDbGridCoverage...|[0.5000337, 0.500...|{Solar Farm -> 1}|\n",
      "|OutDbGridCoverage...|[0.5000249, 0.500...|{Solar Farm -> 1}|\n",
      "|OutDbGridCoverage...|[0.50000465, 0.50...|{Solar Farm -> 1}|\n",
      "|OutDbGridCoverage...|[0.5002269, 0.500...|{Solar Farm -> 1}|\n",
      "|OutDbGridCoverage...|[0.5192978, 0.508...|{Solar Farm -> 1}|\n",
      "|OutDbGridCoverage...|[0.5000099, 0.500...|{Solar Farm -> 1}|\n",
      "|OutDbGridCoverage...|[0.50000167, 0.50...|{Solar Farm -> 1}|\n",
      "|OutDbGridCoverage...|[0.5000375, 0.500...|{Solar Farm -> 1}|\n",
      "|OutDbGridCoverage...|[0.50001484, 0.50...|{Solar Farm -> 1}|\n",
      "|OutDbGridCoverage...|[0.50000525, 0.50...|{Solar Farm -> 1}|\n",
      "|OutDbGridCoverage...|[0.5000184, 0.500...|{Solar Farm -> 1}|\n",
      "|OutDbGridCoverage...|[0.50000215, 0.50...|{Solar Farm -> 1}|\n",
      "|OutDbGridCoverage...|[0.50000054, 0.5,...|{Solar Farm -> 1}|\n",
      "|OutDbGridCoverage...|[0.5000034, 0.500...|{Solar Farm -> 1}|\n",
      "|OutDbGridCoverage...|[0.5000025, 0.500...|{Solar Farm -> 1}|\n",
      "|OutDbGridCoverage...|[0.5000021, 0.500...|{Solar Farm -> 1}|\n",
      "+--------------------+--------------------+-----------------+\n",
      "only showing top 20 rows\n",
      "\n"
     ]
    }
   ],
   "source": [
    "predictions_df.show()\n",
    "predictions_df.createOrReplaceTempView(\"predictions_df\")"
   ]
  },
  {
   "cell_type": "markdown",
   "id": "6afa692a-d2b5-4746-ae91-0f132dba9722",
   "metadata": {},
   "source": [
    "After generating predictions where each pixel has an associated predicted class and confidence score in the raster data, we georeference the predictions and convert to vector geometries using `RS_SEGMENT_TO_GEOMS`."
   ]
  },
  {
   "cell_type": "code",
   "execution_count": 33,
   "id": "7b332da6-cf98-4ab9-9c4b-15fef69cd557",
   "metadata": {},
   "outputs": [],
   "source": [
    "predictions_polys_df = sedona.sql(\"\"\"\n",
    "    WITH t AS (\n",
    "        SELECT RS_SEGMENT_TO_GEOMS(outdb_raster, confidence_array, array(1), class_map, 0.65) result\n",
    "        FROM predictions_df\n",
    "    )\n",
    "    SELECT result.* FROM t\n",
    "\"\"\")"
   ]
  },
  {
   "cell_type": "code",
   "execution_count": null,
   "id": "4137ffc4-0fd8-4165-bfad-b1d7e3df2fac",
   "metadata": {},
   "outputs": [],
   "source": []
  },
  {
   "cell_type": "code",
   "execution_count": 34,
   "id": "4e385df0-f63b-425a-aad0-7368eec92c59",
   "metadata": {},
   "outputs": [],
   "source": [
    "predictions_polys_df.createOrReplaceTempView(\"predictions_polys\")\n",
    "\n",
    "predictions_polys_df = sedona.sql(\"\"\"\n",
    "    SELECT\n",
    "        class_name[0] AS class, average_pixel_confidence_score[0] AS avg_confidence_score, ST_SetSRID(ST_Collect(geometry), 4326) AS geometry\n",
    "    FROM\n",
    "        predictions_polys\n",
    "\"\"\").filter(\"ST_IsEmpty(geometry) = False\")"
   ]
  },
  {
   "cell_type": "code",
   "execution_count": 35,
   "id": "5558b4cf-bd1f-4db8-9564-766cd9ec6a45",
   "metadata": {},
   "outputs": [
    {
     "name": "stderr",
     "output_type": "stream",
     "text": [
      "                                                                                \r"
     ]
    },
    {
     "data": {
      "text/plain": [
       "132"
      ]
     },
     "execution_count": 35,
     "metadata": {},
     "output_type": "execute_result"
    }
   ],
   "source": [
    "predictions_polys_df.cache().count()"
   ]
  },
  {
   "cell_type": "code",
   "execution_count": 36,
   "id": "6d2ffc13-df1a-4c30-bb02-6eb213661849",
   "metadata": {},
   "outputs": [],
   "source": [
    "predictions_polys_df.createOrReplaceTempView(\"predictions_polys\")"
   ]
  },
  {
   "cell_type": "code",
   "execution_count": 37,
   "id": "5220dc98-0d1e-458b-bc19-7b20152ec7d1",
   "metadata": {},
   "outputs": [
    {
     "name": "stdout",
     "output_type": "stream",
     "text": [
      "+----------+--------------------+--------------------+\n",
      "|     class|avg_confidence_score|            geometry|\n",
      "+----------+--------------------+--------------------+\n",
      "|Solar Farm|    0.68480470445421|MULTIPOLYGON (((-...|\n",
      "|Solar Farm|  0.7128666241963705|MULTIPOLYGON (((-...|\n",
      "|Solar Farm|  0.7266481673832252|MULTIPOLYGON (((-...|\n",
      "|Solar Farm|  0.7276440286964075|MULTIPOLYGON (((-...|\n",
      "|Solar Farm|  0.6999729461967945|MULTIPOLYGON (((-...|\n",
      "|Solar Farm|  0.7246828334672111|MULTIPOLYGON (((-...|\n",
      "|Solar Farm|  0.7185474231543131|MULTIPOLYGON (((-...|\n",
      "|Solar Farm|  0.7282067544000932|MULTIPOLYGON (((-...|\n",
      "|Solar Farm|  0.7255745135752941|MULTIPOLYGON (((-...|\n",
      "|Solar Farm|  0.6694437503814697|MULTIPOLYGON (((-...|\n",
      "|Solar Farm|   0.729298093351492|MULTIPOLYGON (((-...|\n",
      "|Solar Farm|  0.7281817384064198|MULTIPOLYGON (((-...|\n",
      "|Solar Farm|  0.7299639159883475|MULTIPOLYGON (((-...|\n",
      "|Solar Farm|  0.7264729229859261|MULTIPOLYGON (((-...|\n",
      "|Solar Farm|  0.7253007416098843|MULTIPOLYGON (((-...|\n",
      "|Solar Farm|  0.7225378332077526|MULTIPOLYGON (((-...|\n",
      "|Solar Farm|  0.7267227108666487|MULTIPOLYGON (((-...|\n",
      "|Solar Farm|  0.6644735097885132|MULTIPOLYGON (((-...|\n",
      "|Solar Farm|  0.7249135455225937|MULTIPOLYGON (((-...|\n",
      "|Solar Farm|  0.7205083344952535|MULTIPOLYGON (((-...|\n",
      "+----------+--------------------+--------------------+\n",
      "only showing top 20 rows\n",
      "\n"
     ]
    }
   ],
   "source": [
    "predictions_polys_df.show()"
   ]
  },
  {
   "cell_type": "code",
   "execution_count": null,
   "id": "cce04714-758f-4159-bbcb-1b7cdf1c3a61",
   "metadata": {},
   "outputs": [],
   "source": [
    "SedonaKepler.create_map(predictions_polys_df, name=\"Detected Solar Farms\")"
   ]
  },
  {
   "cell_type": "markdown",
   "id": "bab44026-227a-43e4-abb3-8ad75b460b79",
   "metadata": {},
   "source": [
    "![](https://wherobots.com/wp-content/uploads/2024/06/solar_farm_detection.png)"
   ]
  },
  {
   "cell_type": "markdown",
   "id": "7729dda8-f81c-46e6-9ede-79e74eadc7da",
   "metadata": {},
   "source": [
    "## Compute Final Suitability Score\n",
    "\n",
    "Our final suitability score for each ZCTA will be based on the opportunity score computed above and the total area of all solar farms detected in each ZCTA using WherobotsAI Raster Inference.\n",
    "\n",
    "First, we compute the area of solar farm predictions in each ZCTA and then normalize in a range of 0.0 - 1.0, where 1.0 represents the score for the ZCTA with the most area of solar farms detected."
   ]
  },
  {
   "cell_type": "code",
   "execution_count": 39,
   "id": "724b4a38-5f78-4755-a6b2-4111b814cb4a",
   "metadata": {},
   "outputs": [],
   "source": [
    "az_solar_zip_codes = sedona.sql(\"\"\"\n",
    "WITH solar AS (\n",
    "    SELECT \n",
    "        ST_AreaSpheroid(ST_Union_Aggr(ST_SetSRID(predictions_polys.geometry, 4326))) / 1000000 AS solar_area, \n",
    "        any_value(az_zta5.geometry) AS geometry, \n",
    "        ZCTA5CE10\n",
    "    FROM predictions_polys JOIN az_zta5\n",
    "    WHERE ST_Intersects(az_zta5.geometry, predictions_polys.geometry)\n",
    "    GROUP BY ZCTA5CE10 \n",
    "    ORDER BY solar_area DESC\n",
    "),\n",
    "\n",
    "min_max AS (\n",
    "    SELECT MIN(solar_area) AS min_val, MAX(solar_area) AS max_val\n",
    "    FROM solar\n",
    ")\n",
    "\n",
    "SELECT (solar_area - min_max.min_val) / (min_max.max_val - min_max.min_val) AS solar_score,\n",
    "    geometry,\n",
    "    ZCTA5CE10\n",
    "FROM solar, min_max\n",
    "\"\"\")\n"
   ]
  },
  {
   "cell_type": "code",
   "execution_count": 40,
   "id": "ea2693c7-79c2-4b1b-a5b1-ef2db90200e6",
   "metadata": {},
   "outputs": [
    {
     "name": "stderr",
     "output_type": "stream",
     "text": [
      "                                                                                \r"
     ]
    },
    {
     "name": "stdout",
     "output_type": "stream",
     "text": [
      "+--------------------+--------------------+---------+\n",
      "|         solar_score|            geometry|ZCTA5CE10|\n",
      "+--------------------+--------------------+---------+\n",
      "|  0.7382013549912736|POLYGON ((-113.61...|    85333|\n",
      "|9.850013319116988E-4|MULTIPOLYGON (((-...|    85364|\n",
      "|                 0.0|POLYGON ((-109.96...|    85625|\n",
      "| 0.03738713953780777|MULTIPOLYGON (((-...|    85365|\n",
      "|0.002464618157075...|POLYGON ((-110.03...|    85610|\n",
      "|0.015369601008682895|POLYGON ((-114.34...|    85356|\n",
      "|1.848446564826133...|POLYGON ((-112.36...|    85323|\n",
      "|0.001786720384544...|POLYGON ((-112.48...|    86301|\n",
      "|0.001047683730417...|POLYGON ((-112.07...|    86336|\n",
      "|0.002295361518856...|POLYGON ((-112.20...|    85304|\n",
      "|0.061654116143163185|POLYGON ((-110.00...|    86033|\n",
      "|4.107613473448007...|POLYGON ((-112.49...|    86046|\n",
      "|0.016804868783420225|POLYGON ((-112.40...|    85309|\n",
      "|0.021582954348305126|POLYGON ((-113.33...|    86321|\n",
      "| 0.03966279616289762|POLYGON ((-112.54...|    86323|\n",
      "|0.001786720384544...|POLYGON ((-112.45...|    86313|\n",
      "|0.008651404697975807|POLYGON ((-112.51...|    85340|\n",
      "|3.440405454072019E-4|POLYGON ((-112.23...|    85043|\n",
      "|3.903125795601674...|POLYGON ((-112.07...|    86322|\n",
      "|0.005607229797101311|POLYGON ((-112.37...|    85383|\n",
      "+--------------------+--------------------+---------+\n",
      "only showing top 20 rows\n",
      "\n"
     ]
    }
   ],
   "source": [
    "az_solar_zip_codes.show()"
   ]
  },
  {
   "cell_type": "code",
   "execution_count": 41,
   "id": "2cfa0189-762e-4e40-9c24-6dd0c0e50c71",
   "metadata": {},
   "outputs": [
    {
     "name": "stderr",
     "output_type": "stream",
     "text": [
      "                                                                                \r"
     ]
    },
    {
     "data": {
      "text/plain": [
       "54"
      ]
     },
     "execution_count": 41,
     "metadata": {},
     "output_type": "execute_result"
    }
   ],
   "source": [
    "az_solar_zip_codes.count()"
   ]
  },
  {
   "cell_type": "code",
   "execution_count": 42,
   "id": "e98f9df7-4e5d-439d-bbdc-08e65557187f",
   "metadata": {},
   "outputs": [],
   "source": [
    "az_solar_zip_codes.createOrReplaceTempView(\"az_solar_zip_codes\")"
   ]
  },
  {
   "cell_type": "code",
   "execution_count": null,
   "id": "2effbbd6-9c0a-4735-b2e7-93f6f5e9b1ec",
   "metadata": {},
   "outputs": [],
   "source": [
    "SedonaKepler.create_map(az_solar_zip_codes, name=\"Solar Scores\")"
   ]
  },
  {
   "cell_type": "markdown",
   "id": "fdac4eff-7f27-4cf9-8e14-b46a7c933c98",
   "metadata": {},
   "source": [
    "Then, to compute our final suitability score we combine the opportunity score and our solar area score together."
   ]
  },
  {
   "cell_type": "code",
   "execution_count": 44,
   "id": "55cbccd8-77fe-4db3-b6af-36f955f0ae4d",
   "metadata": {},
   "outputs": [],
   "source": [
    "# join az_ratio with az_solar_zip codes\n",
    "\n",
    "final_az_scores = sedona.sql(\"\"\"\n",
    "SELECT \n",
    "   opportunity_score + solar_score AS score, \n",
    "    az_solar_zip_codes.ZCTA5CE10 AS ZCTA5CE10,\n",
    "    az_solar_zip_codes.geometry AS geometry\n",
    "FROM az_ratio\n",
    "JOIN az_solar_zip_codes\n",
    "WHERE az_ratio.ZCTA5CE10 = az_solar_zip_codes.ZCTA5CE10\n",
    "ORDER BY score DESC\n",
    "\"\"\")"
   ]
  },
  {
   "cell_type": "code",
   "execution_count": 45,
   "id": "1308c5e5-7e20-43fb-9be1-31bd5815b925",
   "metadata": {},
   "outputs": [
    {
     "name": "stderr",
     "output_type": "stream",
     "text": [
      "                                                                                \r"
     ]
    },
    {
     "name": "stdout",
     "output_type": "stream",
     "text": [
      "+------------------+---------+--------------------+\n",
      "|             score|ZCTA5CE10|            geometry|\n",
      "+------------------+---------+--------------------+\n",
      "|               2.0|    85354|POLYGON ((-113.33...|\n",
      "|1.3007179799217377|    85326|POLYGON ((-112.77...|\n",
      "|1.0771901371538422|    85325|POLYGON ((-114.21...|\n",
      "|1.0716857806433455|    85344|POLYGON ((-114.13...|\n",
      "|1.0616541161431632|    86033|POLYGON ((-110.00...|\n",
      "|  1.04670244270891|    85367|POLYGON ((-114.49...|\n",
      "|1.0396627961628977|    86323|POLYGON ((-112.54...|\n",
      "| 1.021582954348305|    86321|POLYGON ((-113.33...|\n",
      "|1.0183157905636342|    86401|POLYGON ((-114.14...|\n",
      "|1.0161242130880033|    86426|POLYGON ((-114.61...|\n",
      "|1.0131786984855902|    85348|POLYGON ((-114.13...|\n",
      "|1.0104760374649069|    86413|POLYGON ((-114.67...|\n",
      "|1.0029112572626941|    85392|POLYGON ((-112.35...|\n",
      "|1.0012934689228656|    85632|POLYGON ((-109.04...|\n",
      "|1.0010569887056573|    85349|POLYGON ((-114.81...|\n",
      "|1.0003440863199857|    86052|POLYGON ((-112.64...|\n",
      "|               1.0|    85625|POLYGON ((-109.96...|\n",
      "|0.9880247320204155|    85139|POLYGON ((-112.31...|\n",
      "|0.9781278802785486|    85365|MULTIPOLYGON (((-...|\n",
      "|0.9743183346652451|    85364|MULTIPOLYGON (((-...|\n",
      "+------------------+---------+--------------------+\n",
      "only showing top 20 rows\n",
      "\n"
     ]
    }
   ],
   "source": [
    "final_az_scores.cache().show()"
   ]
  },
  {
   "cell_type": "code",
   "execution_count": null,
   "id": "4c310b2b-d294-4b8c-a547-026291131648",
   "metadata": {},
   "outputs": [],
   "source": []
  },
  {
   "cell_type": "code",
   "execution_count": 46,
   "id": "e8970910-ad35-445b-93a9-7f2f621bcdff",
   "metadata": {},
   "outputs": [],
   "source": [
    "final_az_scores.createOrReplaceTempView(\"final_scores\")"
   ]
  },
  {
   "cell_type": "markdown",
   "id": "bad90858-938a-4855-8e97-79517eb4a23c",
   "metadata": {},
   "source": [
    "## Generate Final Inputs"
   ]
  },
  {
   "cell_type": "code",
   "execution_count": 47,
   "id": "d1be5df8-7ccb-4835-84df-988f74a7a275",
   "metadata": {},
   "outputs": [
    {
     "name": "stderr",
     "output_type": "stream",
     "text": [
      "                                                                                \r"
     ]
    },
    {
     "data": {
      "text/plain": [
       "141"
      ]
     },
     "execution_count": 47,
     "metadata": {},
     "output_type": "execute_result"
    }
   ],
   "source": [
    "# Find ev chargers in priority areas\n",
    "\n",
    "final_az_chargers = sedona.sql(\"\"\"\n",
    "SELECT stations.geometry, stations.id AS station_id\n",
    "FROM stations, final_scores\n",
    "WHERE ST_Contains(final_scores.geometry, stations.geometry)\n",
    "\"\"\")\n",
    "\n",
    "final_az_chargers.cache().count()"
   ]
  },
  {
   "cell_type": "code",
   "execution_count": 48,
   "id": "26f8bf13-7f15-4518-9ac3-4b108978833c",
   "metadata": {},
   "outputs": [
    {
     "name": "stderr",
     "output_type": "stream",
     "text": [
      "                                                                                \r"
     ]
    },
    {
     "data": {
      "text/plain": [
       "111"
      ]
     },
     "execution_count": 48,
     "metadata": {},
     "output_type": "execute_result"
    }
   ],
   "source": [
    "# Find retail stores in priority areas\n",
    "\n",
    "final_retail = sedona.sql(\"\"\"\n",
    "SELECT places.geometry \n",
    "FROM wherobots_open_data.overture_2024_02_15.places_place places\n",
    "JOIN final_scores\n",
    "WHERE ST_Contains(final_scores.geometry, places.geometry) AND places.categories.main = \"retail\"\n",
    "\"\"\")\n",
    "\n",
    "final_retail.cache().count()\n"
   ]
  },
  {
   "cell_type": "code",
   "execution_count": 49,
   "id": "688e411d-47bf-4fee-9628-a4bce57f5ef4",
   "metadata": {},
   "outputs": [
    {
     "data": {
      "text/plain": [
       "73"
      ]
     },
     "execution_count": 49,
     "metadata": {},
     "output_type": "execute_result"
    }
   ],
   "source": [
    "# Find solar farms in priority areas\n",
    "\n",
    "final_solar = sedona.sql(\"\"\"\n",
    "SELECT predictions_polys.class, predictions_polys.avg_confidence_score, predictions_polys.geometry\n",
    "FROM predictions_polys\n",
    "JOIN final_scores\n",
    "WHERE ST_Intersects(final_scores.geometry, predictions_polys.geometry)\n",
    "\"\"\")\n",
    "\n",
    "final_solar.cache().count()\n"
   ]
  },
  {
   "cell_type": "markdown",
   "id": "b5ad838b-30c1-4818-a3b8-0c8dcca523b5",
   "metadata": {},
   "source": [
    "## Final Suitability Analysis\n",
    "\n",
    "We can visualize the final results of this suitability analysis as a choropleth map, including each individual component of the analysis: detected solar farms, retail stores, and existing EV charging stations."
   ]
  },
  {
   "cell_type": "code",
   "execution_count": null,
   "id": "ff15cd69-ed31-41bf-a407-2f1b9c277de5",
   "metadata": {},
   "outputs": [],
   "source": [
    "final_map = SedonaKepler.create_map(final_az_scores, name=\"Suitability Results\")\n",
    "SedonaKepler.add_df(final_map, final_solar, name=\"Solar Farms\")\n",
    "SedonaKepler.add_df(final_map, final_retail, name=\"Retail Stores\")\n",
    "SedonaKepler.add_df(final_map, final_az_chargers, name=\"Existing EV Chargers\")\n",
    "final_map"
   ]
  },
  {
   "cell_type": "markdown",
   "id": "c432ee5c-2fe5-41bf-ad81-34366c4f20e7",
   "metadata": {},
   "source": [
    "![](https://wherobots.com/wp-content/uploads/2024/06/final_analysis.png)"
   ]
  },
  {
   "cell_type": "markdown",
   "id": "1ea42bdf-e3f5-4b8d-99e7-a63de1d20bc6",
   "metadata": {},
   "source": [
    "## Write Analysis Results As PMTiles\n",
    "\n",
    "Vector tiles are frequently used for rendering map data in web maps, mobile apps, and desktop GIS software. Wherobots can generate vector tiles in the PMTiles format. [See the documentation](https://docs.wherobots.com/latest/tutorials/wherobotsdb/tile-generation/tile-generation/) for more information on generating vector tiles at scale. \n"
   ]
  },
  {
   "cell_type": "code",
   "execution_count": 51,
   "id": "09864b0b-63b5-4ac1-a8a1-3e19a8ed5929",
   "metadata": {},
   "outputs": [
    {
     "name": "stderr",
     "output_type": "stream",
     "text": [
      "24/06/12 16:01:26 WARN DAGScheduler: Broadcasting large task binary with size 1662.6 KiB\n",
      "24/06/12 16:03:51 WARN DAGScheduler: Broadcasting large task binary with size 1672.2 KiB\n",
      "                                                                                \r"
     ]
    }
   ],
   "source": [
    "from wherobots import vtiles\n",
    "from pyspark.sql.functions import lit\n",
    "\n",
    "\n",
    "# Define paths to save PMTiles files in S3\n",
    "zip_tiles_path = os.getenv(\"USER_S3_PATH\") + \"final_az_suitability.pmtiles\"\n",
    "ev_chargers_path = os.getenv(\"USER_S3_PATH\") + \"final_az_chargers.pmtiles\"\n",
    "retail_path = os.getenv(\"USER_S3_PATH\") + \"final_retail.pmtiles\"\n",
    "solar_path = os.getenv(\"USER_S3_PATH\") + \"final_solar.pmtiles\"\n",
    "\n",
    "# Add \"layer\" column\n",
    "final_az_scores_layers = final_az_scores.withColumn(\"layer\", lit('Suitability Results'))\n",
    "final_az_chargers_layers = final_az_chargers.withColumn(\"layer\", lit('Existing Chargers'))\n",
    "final_az_retail_layers = final_retail.withColumn(\"layer\", lit(\"Retail stores\"))\n",
    "final_az_solar_layers = final_solar.withColumn(\"layer\", lit(\"Solar Farms\"))\n",
    "\n",
    "# Generate and write PMTiles\n",
    "tiles_df = vtiles.generate(final_az_scores_layers)\n",
    "vtiles.write_pmtiles(tiles_df, zip_tiles_path, features_df=final_az_scores_layers)\n",
    "\n",
    "charger_tiles_df = vtiles.generate(final_az_chargers_layers)\n",
    "vtiles.write_pmtiles(charger_tiles_df, ev_chargers_path, features_df=final_az_chargers_layers)\n",
    "\n",
    "retail_tiles_df = vtiles.generate(final_az_retail_layers)\n",
    "vtiles.write_pmtiles(retail_tiles_df, retail_path, features_df=final_az_retail_layers)\n",
    "\n",
    "solar_tiles_df = vtiles.generate(final_az_solar_layers)\n",
    "vtiles.write_pmtiles(solar_tiles_df, solar_path, features_df=final_az_solar_layers)\n"
   ]
  },
  {
   "cell_type": "markdown",
   "id": "74166eb8-0213-4510-97de-fbf685914499",
   "metadata": {},
   "source": [
    "## Visualize PMTiles\n",
    "\n",
    "Now that we've generated and saved vector tiles for each layer we can quickly visualize them using `vtiles.show_pmtiles` which uses Leafmap to render our tiles. Optionally, we can also define styles to be applied to each layer."
   ]
  },
  {
   "cell_type": "code",
   "execution_count": null,
   "id": "1c19e429-7d8d-4fc6-b859-81e682b76b48",
   "metadata": {},
   "outputs": [],
   "source": [
    "from wherobots.tools.utility.s3_utils import get_signed_url\n",
    "\n",
    "tiles_config = [\n",
    "    {\n",
    "        \"s3_uri\": zip_tiles_path,\n",
    "        \"name\": \"Suitability\",\n",
    "        \"style\": {\n",
    "            'version': 8,\n",
    "            'sources': {\n",
    "                'source': {\n",
    "                    'type': 'vector',\n",
    "                    'url': 'pmtiles://' + get_signed_url(zip_tiles_path),\n",
    "                    'attribution': 'PMTiles'\n",
    "                }\n",
    "            },\n",
    "         'layers': [\n",
    "              {\n",
    "                  'id': 'Suitability Results_fill',\n",
    "                  'source': 'source',\n",
    "                  'source-layer': 'Suitability Results',\n",
    "                  'type': 'fill',\n",
    "                  'paint': {'fill-color': 'lightblue', 'fill-opacity': 0.5},\n",
    "                  'filter': ['==', ['geometry-type'], 'Polygon']\n",
    "              }\n",
    "         ]\n",
    "        }\n",
    "    },\n",
    "    {\n",
    "        \"s3_uri\": ev_chargers_path,\n",
    "        \"style\": {\n",
    "            'version': 8,\n",
    "            'sources': {\n",
    "                'source': {\n",
    "                    'type': 'vector',\n",
    "                    'url': 'pmtiles://' + get_signed_url(ev_chargers_path),\n",
    "                    'attribution': 'PMTiles'\n",
    "                }\n",
    "            },\n",
    "            'layers': [\n",
    "                {\n",
    "                    'id': 'Existing Chargers_point',\n",
    "                    'source': 'source',\n",
    "                    'source-layer': 'Existing Chargers',\n",
    "                    'type': 'circle',\n",
    "                    'paint': {'circle-color': 'purple', 'circle-radius': 5},\n",
    "                    'filter': ['==', ['geometry-type'], 'Point']}]}\n",
    "                },\n",
    "    {\n",
    "        \"s3_uri\": retail_path\n",
    "    },\n",
    "    {\n",
    "        \"s3_uri\": solar_path\n",
    "    }\n",
    "]\n",
    "\n",
    "vtiles.show_pmtiles(tiles_config)"
   ]
  },
  {
   "cell_type": "markdown",
   "id": "0ad2aa42-d993-4d4f-8ef2-835f9e71d1d4",
   "metadata": {},
   "source": [
    "![Visualizing PMTiles with Leafmap](https://wherobots.com/wp-content/uploads/2024/06/leafmap_pmtiles_suitability.png)"
   ]
  },
  {
   "cell_type": "markdown",
   "id": "77a2eee9-5062-4c59-8365-d6b30f284cb8",
   "metadata": {},
   "source": [
    "## Writing to Iceberg Tables And The Wherobots Catalog\n",
    "\n",
    "We can write the results of our analysis to Iceberg tables using SQL, which can then be accessed by other users or analytics applications, including via the [Spatial SQL API using one of the WherobotsDB language drivers (Python or JDBC)](https://docs.wherobots.com/latest/develop/spatial-sql-api/). Wherobots supports an extension of Apache Iceberg called [Havasu](https://docs.wherobots.com/latest/develop/storage-management/dataset-catalog/) which adds functionality and optimizations for vector and raster geospatial data. By default the `wherobots` catalog is configured to be used with your Wherobots Cloud account.\n",
    "\n",
    "We'll create a new table `wherobots.suitability.ev_chargers` which will contain the results of our analysis, including the final suitability score and associated polygon geometry."
   ]
  },
  {
   "cell_type": "code",
   "execution_count": 53,
   "id": "55470b1b-d2e3-42fe-a5ee-81d2a29e696b",
   "metadata": {},
   "outputs": [
    {
     "name": "stderr",
     "output_type": "stream",
     "text": [
      "                                                                                \r"
     ]
    }
   ],
   "source": [
    "sedona.sql(\"CREATE NAMESPACE IF NOT EXISTS wherobots.suitability\")\n",
    "sedona.sql(\"DROP TABLE IF EXISTS wherobots.suitability.ev_chargers\")\n",
    "final_az_scores.writeTo(\"wherobots.suitability.ev_chargers\").create()"
   ]
  },
  {
   "cell_type": "code",
   "execution_count": 54,
   "id": "69ceeb67-d7cf-4e02-8af4-14192f347ae3",
   "metadata": {},
   "outputs": [
    {
     "name": "stderr",
     "output_type": "stream",
     "text": [
      "                                                                                \r"
     ]
    },
    {
     "name": "stdout",
     "output_type": "stream",
     "text": [
      "+------------------+---------+--------------------+\n",
      "|             score|ZCTA5CE10|            geometry|\n",
      "+------------------+---------+--------------------+\n",
      "|               2.0|    85354|POLYGON ((-113.33...|\n",
      "|1.3007179799217377|    85326|POLYGON ((-112.77...|\n",
      "|1.0771901371538422|    85325|POLYGON ((-114.21...|\n",
      "|1.0716857806433455|    85344|POLYGON ((-114.13...|\n",
      "|1.0616541161431632|    86033|POLYGON ((-110.00...|\n",
      "|  1.04670244270891|    85367|POLYGON ((-114.49...|\n",
      "|1.0396627961628977|    86323|POLYGON ((-112.54...|\n",
      "| 1.021582954348305|    86321|POLYGON ((-113.33...|\n",
      "|1.0183157905636342|    86401|POLYGON ((-114.14...|\n",
      "|1.0161242130880033|    86426|POLYGON ((-114.61...|\n",
      "|1.0131786984855902|    85348|POLYGON ((-114.13...|\n",
      "|1.0104760374649069|    86413|POLYGON ((-114.67...|\n",
      "|1.0029112572626941|    85392|POLYGON ((-112.35...|\n",
      "|1.0012934689228656|    85632|POLYGON ((-109.04...|\n",
      "|1.0010569887056573|    85349|POLYGON ((-114.81...|\n",
      "|1.0003440863199857|    86052|POLYGON ((-112.64...|\n",
      "|               1.0|    85625|POLYGON ((-109.96...|\n",
      "|0.9880247320204155|    85139|POLYGON ((-112.31...|\n",
      "|0.9781278802785486|    85365|MULTIPOLYGON (((-...|\n",
      "|0.9743183346652451|    85364|MULTIPOLYGON (((-...|\n",
      "+------------------+---------+--------------------+\n",
      "only showing top 20 rows\n",
      "\n"
     ]
    }
   ],
   "source": [
    "sedona.table(\"wherobots.suitability.ev_chargers\").show()"
   ]
  },
  {
   "cell_type": "markdown",
   "id": "d506e8c9-f946-4f48-937e-ec94f092b0ae",
   "metadata": {},
   "source": [
    "## Querying Data Via QGIS\n",
    "\n",
    "Now that we've saved the results of our suitability analysis in a table we can query this data in external applications via the Wherobots Spatial SQL API. For example, we may want to pull this data into an application like QGIS to integrate with other data workflows. We can do this using a Python script in QGIS and making use of the [Wherobots Python driver.](https://docs.wherobots.com/latest/develop/spatial-sql-api/#python-db-api-driver)\n",
    "\n",
    "\n",
    "```\n",
    "pip install wherobots-python-dpapi\n",
    "```\n",
    "\n",
    "In Wherobots Cloud, [create a new API key.](https://docs.wherobots.com/latest/get-started/api-keys/)\n",
    "\n",
    "Then in the QGIS Python console we can use the Wherobots Python driver to run Spatial SQL queries, including accessing Havasu tables. In this example we fetch our suitability analysis results, convert to a GeoDataFrame, then use the PyQGIS API to add the data to a new vector layer in QGIS.\n",
    "\n",
    "\n",
    "```python\n",
    "from wherobots.db import connect\n",
    "from wherobots.db.region import Region\n",
    "from wherobots.db.runtime import Runtime\n",
    "import geopandas \n",
    "from shapely import wkt\n",
    "\n",
    "\n",
    "with connect(\n",
    "        api_key=WBC_KEY,\n",
    "        runtime=Runtime.SEDONA,\n",
    "        region=Region.AWS_US_WEST_2,\n",
    "        host=\"api.cloud.wherobots.com\"\n",
    ") as conn:\n",
    "    curr = conn.cursor()\n",
    "    curr.execute(\"\"\"\n",
    "    SELECT *\n",
    "    FROM wherobots.suitability.ev_chargers\n",
    "    \"\"\")\n",
    "    results = curr.fetchall()\n",
    "    print(results)\n",
    "    \n",
    "results['geometry'] = results.geometry.apply(wkt.loads)\n",
    "gdf = geopandas.GeoDataFrame(results, crs='EPSG:4326',geometry='geometry')\n",
    "\n",
    "def add_geodataframe_to_layer(geodataframe, layer_name):\n",
    "    # Create a new memory layer\n",
    "    layer = QgsVectorLayer(geodataframe.to_json(), layer_name, \"ogr\")\n",
    "    \n",
    "   \n",
    "    \n",
    "    # Add the layer to the QGIS project\n",
    "    QgsProject.instance().addMapLayer(layer)\n",
    "    \n",
    "add_geodataframe_to_layer(gdf, \"Suitability Analysis\")\n",
    "\n",
    "```\n",
    "\n",
    "![](https://wherobots.com/wp-content/uploads/2024/06/qgis_suitability_analysis.png)\n",
    "\n",
    "\n",
    "You can read more about the Wherobots Spatial SQL API, including examples in Python, Java, scheduling jobs via Airflow, and using SQL IDEs like Harlequin in [the Wherobots documentation.](https://docs.wherobots.com/latest/develop/spatial-sql-api/)\n"
   ]
  },
  {
   "cell_type": "code",
   "execution_count": null,
   "id": "79cfdeb6-acee-4520-a5c9-8cb61c2d06e2",
   "metadata": {},
   "outputs": [],
   "source": []
  }
 ],
 "metadata": {
  "kernelspec": {
   "display_name": "Python 3 (ipykernel)",
   "language": "python",
   "name": "python3"
  },
  "language_info": {
   "codemirror_mode": {
    "name": "ipython",
    "version": 3
   },
   "file_extension": ".py",
   "mimetype": "text/x-python",
   "name": "python",
   "nbconvert_exporter": "python",
   "pygments_lexer": "ipython3",
   "version": "3.10.11"
  }
 },
 "nbformat": 4,
 "nbformat_minor": 5
}
