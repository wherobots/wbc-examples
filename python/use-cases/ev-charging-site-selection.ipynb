{
 "cells": [
  {
   "cell_type": "markdown",
   "id": "41a939b8-0dae-4b9d-a6fa-1618e9379dfb",
   "metadata": {},
   "source": [
    "## Electric Vehicle Charging Station Site Selection Analysis\n",
    "\n",
    "This notebook demonstrates a workflow for identifying potential areas for new electric vehicle (EV) charging station development using WherobotsDB and WherobotsAI raster inference functionality. The workflow is based on:\n",
    "\n",
    "* Identifying existing EV charging station infrastructure\n",
    "* Proximity to retail stores as a proxy for demand, and\n",
    "* Proximity to solar farms\n",
    "    \n",
    "\n",
    "Existing charing station infrastructure and retail store point of interest data is determined using public data sources, while existing solar farm infrastructure is identified using Wherobots AI raster inference. By using a machine learning model trained on satellite imagery we can identify solar farms as an input to the analysis"
   ]
  },
  {
   "cell_type": "code",
   "execution_count": 1,
   "id": "2def2e2f-b05c-4bd9-bbad-fe011a9ffec6",
   "metadata": {},
   "outputs": [
    {
     "name": "stderr",
     "output_type": "stream",
     "text": [
      "Warning: Ignoring non-Spark config property: sedona.join.autoBroadcastJoinThreshold\n",
      "Setting default log level to \"WARN\".\n",
      "To adjust logging level use sc.setLogLevel(newLevel). For SparkR, use setLogLevel(newLevel).\n",
      "                                                                                \r"
     ]
    }
   ],
   "source": [
    "from sedona.spark import *\n",
    "import os\n",
    "import warnings\n",
    "warnings.filterwarnings('ignore')\n",
    "\n",
    "# specifies catalog called benchmark, the havasu catalog\n",
    "# need to get from terminal\n",
    "config = SedonaContext.builder() \\\n",
    "           .config(\"spark.hadoop.fs.s3a.bucket.wherobots-examples.aws.credentials.provider\", \"org.apache.hadoop.fs.s3a.AnonymousAWSCredentialsProvider\") \\\n",
    "           .config(\"spark.driver.maxResultSize\", \"10g\") \\\n",
    "           .config(\"sedona.join.autoBroadcastJoinThreshold\", \"-1\") \\\n",
    "           .config(\"spark.sql.catalog.benchmark.type\", \"hadoop\") \\\n",
    "           .config(\"spark.sql.catalog.benchmark\", \"org.apache.iceberg.spark.SparkCatalog\") \\\n",
    "           .config(\"spark.sql.catalog.benchmark.warehouse\", \"s3://wherobots-inference-staging/benchmark/\") \\\n",
    "           .config(\"spark.sql.catalog.benchmark.io-impl\", \"org.apache.iceberg.aws.s3.S3FileIO\") \\\n",
    "           .config(\"spark.sql.catalog.benchmark.client.arn\", f\"os.getenviron[AWS_ROLE_ARN]\") \\\n",
    "           .config(\"spark.sql.catalog.benchmark.client.region\",  \"us-west-2\") \\\n",
    "           .config(\"spark.hadoop.fs.s3a.bucket.benchmark.arn\", f\"os.getenviron[AWS_ROLE_ARN]\") \\\n",
    "           .config(\"spark.sql.catalog.benchmark.warehouse\", \"s3://wherobots-inference-staging/benchmark/\").getOrCreate()\n",
    "sedona = SedonaContext.create(config)"
   ]
  },
  {
   "cell_type": "markdown",
   "id": "d6126582-c1f0-4099-ba99-5e537f0bbb43",
   "metadata": {},
   "source": [
    "## Identify Area Of Interest\n",
    "\n",
    "We will use US Census Zip Code Tabulated Areas (ZCTA) to identify regions for potential EV charging station development. We will confine our analysis to the state of Arizona.\n",
    "\n",
    "Note that we are using the `ST_Intersects` spatial predicate function to find ZCTAs that intersect with the border of Arizona rather than `ST_Contains`. This is because some ZCTAs extend beyond the border of Arizona and can lie within multiple states. This will extend our analysis slightly beyond the borders of Arizona."
   ]
  },
  {
   "cell_type": "code",
   "execution_count": 2,
   "id": "e63a9ca8-4f14-4b33-be75-e0b0218c2646",
   "metadata": {},
   "outputs": [],
   "source": [
    "az_zips_df = sedona.sql(\"\"\"\n",
    "WITH arizona AS ( \n",
    "    SELECT localityArea.geometry AS geometry\n",
    "    FROM wherobots_open_data.overture_2024_02_15.admins_locality locality \n",
    "    JOIN wherobots_open_data.overture_2024_02_15.admins_localityArea localityArea \n",
    "    ON locality.id = localityArea.localityId\n",
    "    WHERE locality.names.primary = \"Arizona\" AND locality.localityType = \"state\" \n",
    ")\n",
    "\n",
    "SELECT zta5.geometry AS geometry, ZCTA5CE10 \n",
    "FROM wherobots_pro_data.us_census.zipcode zta5, arizona\n",
    "WHERE ST_Intersects(arizona.geometry, zta5.geometry)\n",
    "\"\"\")"
   ]
  },
  {
   "cell_type": "code",
   "execution_count": 3,
   "id": "c7750b24-fc49-4da5-8f2f-ae58b3963f21",
   "metadata": {},
   "outputs": [],
   "source": [
    "az_zips_df.createOrReplaceTempView(\"az_zta5\")"
   ]
  },
  {
   "cell_type": "code",
   "execution_count": 4,
   "id": "1e456388-abbf-41bd-93ee-4fe8897f4595",
   "metadata": {},
   "outputs": [
    {
     "name": "stdout",
     "output_type": "stream",
     "text": [
      "root\n",
      " |-- geometry: geometry (nullable = true)\n",
      " |-- ZCTA5CE10: string (nullable = true)\n",
      "\n"
     ]
    }
   ],
   "source": [
    "az_zips_df.printSchema()"
   ]
  },
  {
   "cell_type": "code",
   "execution_count": 12,
   "id": "254105ed-a2d8-4765-940d-bd3cfbb2b4bf",
   "metadata": {},
   "outputs": [
    {
     "name": "stderr",
     "output_type": "stream",
     "text": [
      "                                                                                \r"
     ]
    }
   ],
   "source": [
    "from wherobots import vtiles\n",
    "from pyspark.sql.functions import lit\n",
    "zip_tiles_path = os.getenv(\"USER_S3_PATH\") + \"us_census_zipcodes.pmtiles\"\n",
    "az_zips_df = az_zips_df.withColumn('layer', lit('Layer 1'))\n",
    "zip_tiles_df = vtiles.generate(az_zips_df)"
   ]
  },
  {
   "cell_type": "code",
   "execution_count": null,
   "id": "4f21dd83-8e1d-4cfb-bd90-e53579356053",
   "metadata": {},
   "outputs": [],
   "source": [
    "\n",
    "vtiles.write_pmtiles(zip_tiles_df, zip_tiles_path, features_df=az_zips_df)"
   ]
  },
  {
   "cell_type": "code",
   "execution_count": null,
   "id": "f79e2440-7f93-4962-9e18-46a7aa3fd52c",
   "metadata": {},
   "outputs": [],
   "source": [
    "vtiles.show_pmtiles(full_tiles_path)"
   ]
  },
  {
   "cell_type": "markdown",
   "id": "1a6c64de-2a28-40dc-b549-03932b141944",
   "metadata": {},
   "source": [
    "Next, we will identify existing EV charging infrastructure within each ZCTA as an input to our analysis."
   ]
  },
  {
   "cell_type": "markdown",
   "id": "d72daaa2-14cc-4d31-84ae-b3acf95f0f4b",
   "metadata": {},
   "source": [
    "## Existing EV Charging Infrastructure\n",
    "\n",
    "Using data from [Open Charge Map](https://openchargemap.org/site) we calculate the number of EV charging stations in each ZCTA to give us a sense of existing EV charging infrastructure.\n"
   ]
  },
  {
   "cell_type": "code",
   "execution_count": null,
   "id": "f2d590eb-a060-4031-b26d-05fb663ca59a",
   "metadata": {},
   "outputs": [],
   "source": [
    "stations_df = sedona.read.format(\"geoparquet\").load(\"s3://wherobots-examples/data/examples/openchargemap/world.parquet\")"
   ]
  },
  {
   "cell_type": "code",
   "execution_count": null,
   "id": "ae43efb3-f0ef-4290-a3df-77e5c238503c",
   "metadata": {},
   "outputs": [],
   "source": [
    "stations_df.createOrReplaceTempView(\"stations\")"
   ]
  },
  {
   "cell_type": "code",
   "execution_count": null,
   "id": "7d61e5bf-ab38-4dc1-b0b8-346db691ec30",
   "metadata": {},
   "outputs": [],
   "source": [
    "SedonaPyDeck.create_scatterplot_map(stations_df.sample(0.01), map_provider='mapbox', map_style='dark')"
   ]
  },
  {
   "cell_type": "markdown",
   "id": "63083dd2-7013-4b55-8fdd-dd091344ae91",
   "metadata": {},
   "source": [
    "Count of existing EV charging stations per ZCTA."
   ]
  },
  {
   "cell_type": "code",
   "execution_count": null,
   "id": "cda0ed80-40d9-48e5-a7d4-1e5e26a302bd",
   "metadata": {},
   "outputs": [],
   "source": [
    "az_stations_df = sedona.sql(\"\"\"\n",
    "SELECT COUNT(*) AS num, any_value(az_zta5.geometry) AS geometry, ZCTA5CE10\n",
    "FROM stations JOIN az_zta5\n",
    "WHERE ST_Intersects(az_zta5.geometry, stations.geometry)\n",
    "GROUP BY ZCTA5CE10 \n",
    "ORDER BY num DESC\n",
    "\"\"\")"
   ]
  },
  {
   "cell_type": "code",
   "execution_count": null,
   "id": "ed5a22b4-587c-4875-bb13-a79ebc051409",
   "metadata": {},
   "outputs": [],
   "source": [
    "az_stations_df.createOrReplaceTempView(\"az_stations\")"
   ]
  },
  {
   "cell_type": "code",
   "execution_count": null,
   "id": "6ac2882e-250d-45b2-9f8c-59b16994ed7d",
   "metadata": {},
   "outputs": [],
   "source": [
    "az_stations_df.count()"
   ]
  },
  {
   "cell_type": "code",
   "execution_count": null,
   "id": "8b23063f-7f82-4209-b5c8-e2557bbfcb57",
   "metadata": {},
   "outputs": [],
   "source": [
    "az_stations_df.show()"
   ]
  },
  {
   "cell_type": "code",
   "execution_count": null,
   "id": "97c44723-0d4e-47ee-b31a-fad0ff07b25c",
   "metadata": {},
   "outputs": [],
   "source": [
    "az_stations_df.printSchema()"
   ]
  },
  {
   "cell_type": "code",
   "execution_count": null,
   "id": "a35cc08e-8910-4de8-8eff-728c56727517",
   "metadata": {},
   "outputs": [],
   "source": []
  },
  {
   "cell_type": "code",
   "execution_count": null,
   "id": "362f702d-680a-4bcd-8831-ea88abc7369f",
   "metadata": {},
   "outputs": [],
   "source": [
    "SedonaPyDeck.create_choropleth_map(az_stations_df, plot_col=\"ZCTA5CE10\", map_provider='mapbox', map_style='dark')"
   ]
  },
  {
   "cell_type": "markdown",
   "id": "7d66bd0a-82c3-4223-970f-39a4a1041106",
   "metadata": {},
   "source": [
    "## Arizona Retail Stores\n",
    "\n",
    "Next, we'll use retail stores per ZCTA as a proxy for demand. Using the Overture Maps Foundation public point of interest data set."
   ]
  },
  {
   "cell_type": "code",
   "execution_count": null,
   "id": "2cff6438-9956-4e8d-9560-b669ccec6a9a",
   "metadata": {},
   "outputs": [],
   "source": [
    "sedona.table(\"wherobots_open_data.overture_2024_02_15.places_place\").count()"
   ]
  },
  {
   "cell_type": "code",
   "execution_count": null,
   "id": "c901e4d1-820c-44e8-b5e8-fd12b1a71a09",
   "metadata": {},
   "outputs": [],
   "source": [
    "az_retail_df = sedona.sql(\"\"\"\n",
    "SELECT COUNT(*) AS num, any_value(az_zta5.geometry) AS geometry, ZCTA5CE10\n",
    "FROM wherobots_open_data.overture_2024_02_15.places_place places \n",
    "JOIN az_zta5\n",
    "WHERE ST_Intersects(az_zta5.geometry, places.geometry)\n",
    "AND places.categories.main = \"retail\"\n",
    "GROUP BY ZCTA5CE10 \n",
    "ORDER BY num DESC\n",
    "\"\"\")"
   ]
  },
  {
   "cell_type": "code",
   "execution_count": null,
   "id": "92aa1eb7-c3a6-4336-baee-21937adabac1",
   "metadata": {},
   "outputs": [],
   "source": [
    "az_retail_df.createOrReplaceTempView(\"az_retail\")"
   ]
  },
  {
   "cell_type": "code",
   "execution_count": null,
   "id": "513247ce-9dd0-4d92-bac7-747db27ea296",
   "metadata": {},
   "outputs": [],
   "source": [
    "az_retail_df.cache().show(5)"
   ]
  },
  {
   "cell_type": "code",
   "execution_count": null,
   "id": "b82e8981-14dd-4b81-856e-827f41b53ace",
   "metadata": {},
   "outputs": [],
   "source": [
    "SedonaKepler.create_map(az_retail_df)"
   ]
  },
  {
   "cell_type": "markdown",
   "id": "e12b462f-cfd0-48a4-afd9-ba2d30f1cacd",
   "metadata": {},
   "source": [
    "## Combining Retail Stores & Existing EV Chargers\n",
    "\n",
    "Before we apply WherobotsAI raster inference to identify solar farms in the area, we'll use existing EV chargers and retail stores to identify ZCTA with high demand and low existing EV charging infrastructure by computing the ratio of retail stores to EV chargers in each ZCTA.\n"
   ]
  },
  {
   "cell_type": "code",
   "execution_count": null,
   "id": "8fd3c934-d362-4e17-bf82-e4105af037d4",
   "metadata": {},
   "outputs": [],
   "source": [
    "az_ratio = sedona.sql(\"\"\"\n",
    "SELECT \n",
    "    coalesce(az_stations.num, 0) / coalesce(az_retail.num, 1) AS ratio, \n",
    "    coalesce(az_stations.geometry, az_retail.geometry) AS geometry, \n",
    "    coalesce(az_stations.ZCTA5CE10, az_retail.ZCTA5CE10) AS ZCTA5CE10\n",
    "FROM az_retail FULL OUTER JOIN az_stations\n",
    "ON az_retail.ZCTA5CE10 = az_stations.ZCTA5CE10\n",
    "ORDER BY ratio ASC\n",
    "\"\"\")"
   ]
  },
  {
   "cell_type": "code",
   "execution_count": null,
   "id": "648dd483-e6e5-46d3-a3ba-b33da007118e",
   "metadata": {},
   "outputs": [],
   "source": [
    "az_ratio.show()"
   ]
  },
  {
   "cell_type": "code",
   "execution_count": null,
   "id": "023916cc-a602-4581-9805-ae8d33ce0313",
   "metadata": {},
   "outputs": [],
   "source": [
    "SedonaKepler.create_map(az_ratio)"
   ]
  },
  {
   "cell_type": "markdown",
   "id": "f310c396-e92b-4e5b-a48b-2ec396e15d71",
   "metadata": {},
   "source": [
    "ZCTAs with a low \"ratio\" are potential candidates for additional EV charging stations. The final input to our analysis is proximity to solar farms, which we will identify using WherobotsAI raster inference."
   ]
  },
  {
   "cell_type": "markdown",
   "id": "63171d41-3551-4cf6-aa8e-831118db320c",
   "metadata": {},
   "source": [
    "## WherobotsAI Raster Inference\n",
    "\n",
    "TODO: identify solar farms within ZCTAs, prioritize low \"ratio\" ZCTAs\n"
   ]
  },
  {
   "cell_type": "code",
   "execution_count": null,
   "id": "8f551f96-9bd1-469c-8330-bb8b6b719f73",
   "metadata": {},
   "outputs": [],
   "source": [
    "solar_model_inputs_df = sedona.table(\"benchmark.db.solar_satlas_sentinel2_db\")"
   ]
  },
  {
   "cell_type": "code",
   "execution_count": null,
   "id": "3e8b8988-9f4e-430f-aefa-4a62c47732d7",
   "metadata": {},
   "outputs": [],
   "source": [
    "solar_model_inputs_df.show(truncate=False)"
   ]
  },
  {
   "cell_type": "code",
   "execution_count": null,
   "id": "b0595233-d70b-4799-b71f-a2aa88efeab9",
   "metadata": {},
   "outputs": [],
   "source": []
  }
 ],
 "metadata": {
  "kernelspec": {
   "display_name": "Python 3 (ipykernel)",
   "language": "python",
   "name": "python3"
  },
  "language_info": {
   "codemirror_mode": {
    "name": "ipython",
    "version": 3
   },
   "file_extension": ".py",
   "mimetype": "text/x-python",
   "name": "python",
   "nbconvert_exporter": "python",
   "pygments_lexer": "ipython3",
   "version": "3.10.11"
  }
 },
 "nbformat": 4,
 "nbformat_minor": 5
}
