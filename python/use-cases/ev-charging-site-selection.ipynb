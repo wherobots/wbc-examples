{
 "cells": [
  {
   "cell_type": "markdown",
   "id": "41a939b8-0dae-4b9d-a6fa-1618e9379dfb",
   "metadata": {},
   "source": [
    "<img src=\"https://wherobots.com/wp-content/uploads/2023/12/Inline-Blue_Black_onWhite@3x.png\" alt=\"Wherobots Logo\" width=\"600\">\n",
    "\n",
    "## Electric Vehicle Charging Station Site Selection Analysis\n",
    "\n",
    "This notebook demonstrates a workflow for identifying potential areas for new electric vehicle (EV) charging station development using WherobotsDB and WherobotsAI raster inference functionality. The workflow is based on:\n",
    "\n",
    "* Identifying existing EV charging station infrastructure\n",
    "* Proximity to retail stores as a proxy for demand, and\n",
    "* Proximity to solar farms\n",
    "    \n",
    "\n",
    "Existing charging station infrastructure and retail store point of interest data is determined using public data sources, while existing solar farm infrastructure is identified using Wherobots AI raster inference. By using a machine learning model trained on satellite imagery we can identify solar farms as an input to the analysis"
   ]
  },
  {
   "cell_type": "code",
   "execution_count": null,
   "id": "2def2e2f-b05c-4bd9-bbad-fe011a9ffec6",
   "metadata": {},
   "outputs": [],
   "source": [
    "from sedona.spark import *\n",
    "import os\n",
    "import warnings\n",
    "warnings.filterwarnings('ignore')\n",
    "\n",
    "# specifies catalog called benchmark, the havasu catalog\n",
    "# need to get from terminal\n",
    "config = SedonaContext.builder() \\\n",
    "           .config(\"spark.hadoop.fs.s3a.bucket.wherobots-examples.aws.credentials.provider\", \"org.apache.hadoop.fs.s3a.AnonymousAWSCredentialsProvider\") \\\n",
    "            .config(\"spark.driver.maxResultSize\", \"10g\") \\\n",
    "           .config(\"spark.sql.catalog.benchmark.type\", \"hadoop\") \\\n",
    "           .config(\"spark.sql.catalog.benchmark\", \"org.apache.iceberg.spark.SparkCatalog\") \\\n",
    "           .config(\"spark.sql.catalog.benchmark.warehouse\", \"s3://wherobots-benchmark-prod/data/ml/\") \\\n",
    "           .config(\"spark.sql.catalog.benchmark.io-impl\", \"org.apache.iceberg.aws.s3.S3FileIO\").getOrCreate()\n",
    "sedona = SedonaContext.create(config)"
   ]
  },
  {
   "cell_type": "markdown",
   "id": "d6126582-c1f0-4099-ba99-5e537f0bbb43",
   "metadata": {},
   "source": [
    "## Identify Area Of Interest\n",
    "\n",
    "We will use US Census Zip Code Tabulated Areas (ZCTA) to identify regions for potential EV charging station development. We will confine our analysis to the state of Arizona.\n",
    "\n",
    "Note that we are using the `ST_Intersects` spatial predicate function to find ZCTAs that intersect with the border of Arizona rather than `ST_Contains`. This is because some ZCTAs extend beyond the border of Arizona and can lie within multiple states. This will extend our analysis slightly beyond the borders of Arizona."
   ]
  },
  {
   "cell_type": "code",
   "execution_count": null,
   "id": "e63a9ca8-4f14-4b33-be75-e0b0218c2646",
   "metadata": {},
   "outputs": [],
   "source": [
    "az_zips_df = sedona.sql(\"\"\"\n",
    "WITH arizona AS ( \n",
    "    SELECT localityArea.geometry AS geometry\n",
    "    FROM wherobots_open_data.overture_2024_02_15.admins_locality locality \n",
    "    JOIN wherobots_open_data.overture_2024_02_15.admins_localityArea localityArea \n",
    "    ON locality.id = localityArea.localityId\n",
    "    WHERE locality.names.primary = \"Arizona\" AND locality.localityType = \"state\" \n",
    ")\n",
    "\n",
    "SELECT ST_Intersection(arizona.geometry, zta5.geometry) AS geometry, ZCTA5CE10 \n",
    "FROM wherobots_pro_data.us_census.zipcode zta5, arizona\n",
    "WHERE ST_Intersects(arizona.geometry, zta5.geometry)\n",
    "\"\"\")"
   ]
  },
  {
   "cell_type": "code",
   "execution_count": null,
   "id": "c7750b24-fc49-4da5-8f2f-ae58b3963f21",
   "metadata": {},
   "outputs": [],
   "source": [
    "az_zips_df.createOrReplaceTempView(\"az_zta5\")"
   ]
  },
  {
   "cell_type": "code",
   "execution_count": null,
   "id": "1e456388-abbf-41bd-93ee-4fe8897f4595",
   "metadata": {},
   "outputs": [],
   "source": [
    "az_zips_df.printSchema()"
   ]
  },
  {
   "cell_type": "code",
   "execution_count": null,
   "id": "54d99fd8-a9a4-4634-878c-b4c5a88e5875",
   "metadata": {},
   "outputs": [],
   "source": [
    "SedonaKepler.create_map(az_zips_df, name=\"Arizona ZCTAs\")"
   ]
  },
  {
   "cell_type": "markdown",
   "id": "1a6c64de-2a28-40dc-b549-03932b141944",
   "metadata": {},
   "source": [
    "Next, we will identify existing EV charging infrastructure within each ZCTA as an input to our analysis."
   ]
  },
  {
   "cell_type": "markdown",
   "id": "d72daaa2-14cc-4d31-84ae-b3acf95f0f4b",
   "metadata": {},
   "source": [
    "## Existing EV Charging Infrastructure\n",
    "\n",
    "Using data from [Open Charge Map](https://openchargemap.org/site) we calculate the number of EV charging stations in each ZCTA to give us a sense of existing EV charging infrastructure.\n"
   ]
  },
  {
   "cell_type": "code",
   "execution_count": null,
   "id": "f2d590eb-a060-4031-b26d-05fb663ca59a",
   "metadata": {},
   "outputs": [],
   "source": [
    "stations_df = sedona.read.format(\"geoparquet\").load(\"s3://wherobots-examples/data/examples/openchargemap/world.parquet\")"
   ]
  },
  {
   "cell_type": "code",
   "execution_count": null,
   "id": "ae43efb3-f0ef-4290-a3df-77e5c238503c",
   "metadata": {},
   "outputs": [],
   "source": [
    "stations_df.createOrReplaceTempView(\"stations\")"
   ]
  },
  {
   "cell_type": "code",
   "execution_count": null,
   "id": "7d61e5bf-ab38-4dc1-b0b8-346db691ec30",
   "metadata": {},
   "outputs": [],
   "source": [
    "SedonaKepler.create_map(stations_df.sample(0.01), name=\"EV Charging Stations\")"
   ]
  },
  {
   "cell_type": "markdown",
   "id": "63083dd2-7013-4b55-8fdd-dd091344ae91",
   "metadata": {},
   "source": [
    "Count of existing EV charging stations per ZCTA."
   ]
  },
  {
   "cell_type": "code",
   "execution_count": null,
   "id": "cda0ed80-40d9-48e5-a7d4-1e5e26a302bd",
   "metadata": {},
   "outputs": [],
   "source": [
    "az_stations_df = sedona.sql(\"\"\"\n",
    "SELECT COUNT(*) AS num, any_value(az_zta5.geometry) AS geometry, ZCTA5CE10\n",
    "FROM stations JOIN az_zta5\n",
    "WHERE ST_Intersects(az_zta5.geometry, stations.geometry)\n",
    "GROUP BY ZCTA5CE10 \n",
    "ORDER BY num DESC\n",
    "\"\"\")"
   ]
  },
  {
   "cell_type": "code",
   "execution_count": null,
   "id": "ed5a22b4-587c-4875-bb13-a79ebc051409",
   "metadata": {},
   "outputs": [],
   "source": [
    "az_stations_df.createOrReplaceTempView(\"az_stations\")"
   ]
  },
  {
   "cell_type": "code",
   "execution_count": null,
   "id": "6ac2882e-250d-45b2-9f8c-59b16994ed7d",
   "metadata": {},
   "outputs": [],
   "source": [
    "az_stations_df.count()"
   ]
  },
  {
   "cell_type": "code",
   "execution_count": null,
   "id": "8b23063f-7f82-4209-b5c8-e2557bbfcb57",
   "metadata": {},
   "outputs": [],
   "source": [
    "az_stations_df.cache().show()"
   ]
  },
  {
   "cell_type": "code",
   "execution_count": null,
   "id": "97c44723-0d4e-47ee-b31a-fad0ff07b25c",
   "metadata": {},
   "outputs": [],
   "source": [
    "az_stations_df.printSchema()"
   ]
  },
  {
   "cell_type": "code",
   "execution_count": null,
   "id": "362f702d-680a-4bcd-8831-ea88abc7369f",
   "metadata": {},
   "outputs": [],
   "source": [
    "SedonaKepler.create_map(az_stations_df)"
   ]
  },
  {
   "cell_type": "markdown",
   "id": "7d66bd0a-82c3-4223-970f-39a4a1041106",
   "metadata": {},
   "source": [
    "## Arizona Retail Stores\n",
    "\n",
    "Next, we'll use retail stores per ZCTA as a proxy for demand. Using the Overture Maps Foundation public point of interest data set."
   ]
  },
  {
   "cell_type": "code",
   "execution_count": null,
   "id": "2cff6438-9956-4e8d-9560-b669ccec6a9a",
   "metadata": {},
   "outputs": [],
   "source": [
    "sedona.table(\"wherobots_open_data.overture_2024_02_15.places_place\").count()"
   ]
  },
  {
   "cell_type": "code",
   "execution_count": null,
   "id": "c901e4d1-820c-44e8-b5e8-fd12b1a71a09",
   "metadata": {},
   "outputs": [],
   "source": [
    "az_retail_df = sedona.sql(\"\"\"\n",
    "SELECT COUNT(*) AS num, any_value(az_zta5.geometry) AS geometry, ZCTA5CE10\n",
    "FROM wherobots_open_data.overture_2024_02_15.places_place places \n",
    "JOIN az_zta5\n",
    "WHERE ST_Intersects(az_zta5.geometry, places.geometry)\n",
    "AND places.categories.main = \"retail\"\n",
    "GROUP BY ZCTA5CE10 \n",
    "ORDER BY num DESC\n",
    "\"\"\")"
   ]
  },
  {
   "cell_type": "code",
   "execution_count": null,
   "id": "92aa1eb7-c3a6-4336-baee-21937adabac1",
   "metadata": {},
   "outputs": [],
   "source": [
    "az_retail_df.createOrReplaceTempView(\"az_retail\")"
   ]
  },
  {
   "cell_type": "code",
   "execution_count": null,
   "id": "513247ce-9dd0-4d92-bac7-747db27ea296",
   "metadata": {},
   "outputs": [],
   "source": [
    "az_retail_df.cache().show(5)"
   ]
  },
  {
   "cell_type": "code",
   "execution_count": null,
   "id": "b82e8981-14dd-4b81-856e-827f41b53ace",
   "metadata": {},
   "outputs": [],
   "source": [
    "SedonaKepler.create_map(az_retail_df)"
   ]
  },
  {
   "cell_type": "markdown",
   "id": "e12b462f-cfd0-48a4-afd9-ba2d30f1cacd",
   "metadata": {},
   "source": [
    "## Combining Retail Stores & Existing EV Chargers\n",
    "\n",
    "Before we apply WherobotsAI raster inference to identify solar farms in the area, we'll use existing EV chargers and retail stores to identify ZCTA with high demand and low existing EV charging infrastructure by computing the ratio of retail stores to EV chargers in each ZCTA.\n"
   ]
  },
  {
   "cell_type": "code",
   "execution_count": null,
   "id": "8fd3c934-d362-4e17-bf82-e4105af037d4",
   "metadata": {},
   "outputs": [],
   "source": [
    "az_ratio = sedona.sql(\"\"\"\n",
    "SELECT \n",
    "    coalesce(az_stations.num, 0) / coalesce(az_retail.num, 1) AS ratio, \n",
    "    coalesce(az_stations.geometry, az_retail.geometry) AS geometry, \n",
    "    coalesce(az_stations.ZCTA5CE10, az_retail.ZCTA5CE10) AS ZCTA5CE10\n",
    "FROM az_retail FULL OUTER JOIN az_stations\n",
    "ON az_retail.ZCTA5CE10 = az_stations.ZCTA5CE10\n",
    "WHERE az_retail.num > 1\n",
    "ORDER BY ratio DESC\n",
    "\"\"\")"
   ]
  },
  {
   "cell_type": "code",
   "execution_count": null,
   "id": "cfa11c9e-9bb7-4aab-9c94-1c131b27b898",
   "metadata": {},
   "outputs": [],
   "source": [
    "az_ratio.createOrReplaceTempView(\"az_ratio\")"
   ]
  },
  {
   "cell_type": "code",
   "execution_count": null,
   "id": "648dd483-e6e5-46d3-a3ba-b33da007118e",
   "metadata": {},
   "outputs": [],
   "source": [
    "az_ratio.cache().show()"
   ]
  },
  {
   "cell_type": "code",
   "execution_count": null,
   "id": "023916cc-a602-4581-9805-ae8d33ce0313",
   "metadata": {},
   "outputs": [],
   "source": [
    "SedonaKepler.create_map(az_ratio)"
   ]
  },
  {
   "cell_type": "markdown",
   "id": "f310c396-e92b-4e5b-a48b-2ec396e15d71",
   "metadata": {},
   "source": [
    "ZCTAs with a low \"ratio\" are potential candidates for additional EV charging stations. The final input to our analysis is proximity to solar farms, which we will identify using WherobotsAI raster inference."
   ]
  },
  {
   "cell_type": "markdown",
   "id": "63171d41-3551-4cf6-aa8e-831118db320c",
   "metadata": {},
   "source": [
    "## WherobotsAI Raster Inference\n",
    "\n",
    "The [outdb raster table](https://docs.wherobots.com/1.2.2/references/havasu/raster/out-db-rasters/) refers to Sentinel-2 images with low cloud cover during 2023 in Arizona. We've prepared this using WherbotsDB's raster processing capabilities.\n",
    "\n",
    "TODO: identify solar farms within ZCTAs, prioritize low \"ratio\" ZCTAs\n"
   ]
  },
  {
   "cell_type": "code",
   "execution_count": null,
   "id": "8f551f96-9bd1-469c-8330-bb8b6b719f73",
   "metadata": {},
   "outputs": [],
   "source": [
    "columns_to_drop = [\"x\", \"y\", \"product_type\", \"length\"]\n",
    "num_partitions = 32\n",
    "solar_model_inputs_df = sedona.table(\"benchmark.db.solar_satlas_sentinel2_db\").drop(*columns_to_drop).repartition(num_partitions)"
   ]
  },
  {
   "cell_type": "code",
   "execution_count": null,
   "id": "3e8b8988-9f4e-430f-aefa-4a62c47732d7",
   "metadata": {},
   "outputs": [],
   "source": [
    "solar_model_inputs_df.cache().show()"
   ]
  },
  {
   "cell_type": "code",
   "execution_count": null,
   "id": "bba59c2d-6aff-48f2-8f37-d2ad8534fa31",
   "metadata": {},
   "outputs": [],
   "source": [
    "az_high_demand_with_scene_geom = sedona.sql(\"\"\" \n",
    "    WITH base as (\n",
    "        SELECT s.filename, s.geometry as scene_geometry, s.outdb_raster as\n",
    "        outdb_raster, z.ZCTA5CE10 as zip_code_name, z.geometry as zip_geometry, z.ratio as ratio\n",
    "        FROM benchmark.db.solar_satlas_sentinel2_db s, az_ratio z\n",
    "        WHERE ST_Intersects(s.geometry, z.geometry)\n",
    "        AND z.ratio < 1 AND start_datetime > 20231001\n",
    "    )\n",
    "    SELECT DISTINCT filename, outdb_raster from base\"\"\").repartition(num_partitions)"
   ]
  },
  {
   "cell_type": "code",
   "execution_count": null,
   "id": "6e980b13-08ad-491a-abaf-8a46a8f95799",
   "metadata": {},
   "outputs": [],
   "source": [
    "%%time\n",
    "print(az_high_demand_with_scene_geom.cache().count())"
   ]
  },
  {
   "cell_type": "code",
   "execution_count": null,
   "id": "ca1cf1ff-541d-498c-bee3-6a55b398b4ba",
   "metadata": {},
   "outputs": [],
   "source": [
    "az_high_demand_with_scene_geom.createOrReplaceTempView(\"az_high_demand_with_scene\")"
   ]
  },
  {
   "cell_type": "code",
   "execution_count": null,
   "id": "c12483c8-09f1-4dce-9040-b5b2d14512e8",
   "metadata": {},
   "outputs": [],
   "source": [
    "model_id = 'solar-satlas-sentinel2'\n",
    "\n",
    "sedona.sql(f\"\"\"\n",
    "CREATE OR REPLACE TEMP VIEW segment_fields AS (\n",
    "    SELECT\n",
    "        outdb_raster, \n",
    "        RS_SEGMENT('{model_id}', outdb_raster) AS segment_result\n",
    "    FROM\n",
    "    az_high_demand_with_scene\n",
    ")\n",
    "\"\"\")"
   ]
  },
  {
   "cell_type": "code",
   "execution_count": null,
   "id": "add47764-1bbe-4c0e-9987-103f634c19ed",
   "metadata": {},
   "outputs": [],
   "source": [
    "predictions_df = sedona.sql(f\"\"\"\n",
    "SELECT\n",
    "  outdb_raster, segment_result.*\n",
    "FROM segment_fields\n",
    "\"\"\")"
   ]
  },
  {
   "cell_type": "code",
   "execution_count": null,
   "id": "bc7f4df2-c63f-4c90-aed3-cf9ea2d923f8",
   "metadata": {},
   "outputs": [],
   "source": [
    "%%time\n",
    "print(predictions_df.cache().count())"
   ]
  },
  {
   "cell_type": "code",
   "execution_count": null,
   "id": "a4c273ac-4c53-4a86-8291-70c4a3c106ea",
   "metadata": {},
   "outputs": [],
   "source": [
    "predictions_df.show()\n",
    "predictions_df.createOrReplaceTempView(\"predictions_df\")"
   ]
  },
  {
   "cell_type": "code",
   "execution_count": null,
   "id": "2e83e9e5-ad7d-42df-bf0b-9219f3ba362d",
   "metadata": {},
   "outputs": [],
   "source": []
  },
  {
   "cell_type": "code",
   "execution_count": null,
   "id": "7b332da6-cf98-4ab9-9c4b-15fef69cd557",
   "metadata": {},
   "outputs": [],
   "source": [
    "predictions_polys_df = sedona.sql(\"\"\"\n",
    "    WITH t AS (\n",
    "        SELECT RS_SEGMENT_TO_GEOMS(outdb_raster, confidence_array, array(1), class_map, 0.65) result\n",
    "        FROM predictions_df\n",
    "    )\n",
    "    SELECT result.* FROM t\n",
    "\"\"\")"
   ]
  },
  {
   "cell_type": "code",
   "execution_count": null,
   "id": "4137ffc4-0fd8-4165-bfad-b1d7e3df2fac",
   "metadata": {},
   "outputs": [],
   "source": [
    "#df_multipolys.show()"
   ]
  },
  {
   "cell_type": "code",
   "execution_count": null,
   "id": "4e385df0-f63b-425a-aad0-7368eec92c59",
   "metadata": {},
   "outputs": [],
   "source": [
    "predictions_polys_df.createOrReplaceTempView(\"predictions_polys\")\n",
    "\n",
    "predictions_polys_df = sedona.sql(\"\"\"\n",
    "    SELECT\n",
    "        class_name[0] AS class, average_pixel_confidence_score[0] AS avg_confidence_score, ST_SetSRID(ST_Collect(geometry), 4326) AS geometry\n",
    "    FROM\n",
    "        predictions_polys\n",
    "\"\"\").filter(\"ST_IsEmpty(geometry) = False\")"
   ]
  },
  {
   "cell_type": "code",
   "execution_count": null,
   "id": "5558b4cf-bd1f-4db8-9564-766cd9ec6a45",
   "metadata": {},
   "outputs": [],
   "source": [
    "predictions_polys_df.cache().count()"
   ]
  },
  {
   "cell_type": "code",
   "execution_count": null,
   "id": "6d2ffc13-df1a-4c30-bb02-6eb213661849",
   "metadata": {},
   "outputs": [],
   "source": [
    "predictions_polys_df.createOrReplaceTempView(\"predictions_polys\")"
   ]
  },
  {
   "cell_type": "code",
   "execution_count": null,
   "id": "5220dc98-0d1e-458b-bc19-7b20152ec7d1",
   "metadata": {},
   "outputs": [],
   "source": [
    "predictions_polys_df.show()"
   ]
  },
  {
   "cell_type": "code",
   "execution_count": null,
   "id": "cce04714-758f-4159-bbcb-1b7cdf1c3a61",
   "metadata": {},
   "outputs": [],
   "source": [
    "SedonaKepler.create_map(predictions_polys_df, name=\"Detected Solar Farms\")"
   ]
  },
  {
   "cell_type": "markdown",
   "id": "088594ed-0b5c-4ec6-a507-47e3db5d62bf",
   "metadata": {},
   "source": []
  },
  {
   "cell_type": "markdown",
   "id": "7729dda8-f81c-46e6-9ede-79e74eadc7da",
   "metadata": {},
   "source": [
    "## Compute Final Suitability Score"
   ]
  },
  {
   "cell_type": "code",
   "execution_count": null,
   "id": "724b4a38-5f78-4755-a6b2-4111b814cb4a",
   "metadata": {},
   "outputs": [],
   "source": [
    "az_solar_zip_codes = sedona.sql(\"\"\"\n",
    "SELECT ST_AreaSpheroid(ST_Union_Aggr(ST_SetSRID(predictions_polys.geometry, 4326))) / 1000000 * 247.10559991919519 AS solar_area, any_value(az_zta5.geometry) AS geometry, ZCTA5CE10\n",
    "FROM predictions_polys JOIN az_zta5\n",
    "WHERE ST_Intersects(az_zta5.geometry, predictions_polys.geometry)\n",
    "GROUP BY ZCTA5CE10 \n",
    "ORDER BY solar_area DESC\n",
    "\"\"\")"
   ]
  },
  {
   "cell_type": "code",
   "execution_count": null,
   "id": "ea2693c7-79c2-4b1b-a5b1-ef2db90200e6",
   "metadata": {},
   "outputs": [],
   "source": [
    "az_solar_zip_codes.show()"
   ]
  },
  {
   "cell_type": "code",
   "execution_count": null,
   "id": "2cfa0189-762e-4e40-9c24-6dd0c0e50c71",
   "metadata": {},
   "outputs": [],
   "source": [
    "az_solar_zip_codes.count()"
   ]
  },
  {
   "cell_type": "code",
   "execution_count": null,
   "id": "e98f9df7-4e5d-439d-bbdc-08e65557187f",
   "metadata": {},
   "outputs": [],
   "source": [
    "az_solar_zip_codes.createOrReplaceTempView(\"az_solar_zip_codes\")"
   ]
  },
  {
   "cell_type": "code",
   "execution_count": null,
   "id": "2effbbd6-9c0a-4735-b2e7-93f6f5e9b1ec",
   "metadata": {},
   "outputs": [],
   "source": [
    "SedonaKepler.create_map(az_solar_zip_codes)"
   ]
  },
  {
   "cell_type": "code",
   "execution_count": null,
   "id": "810e5e69-5f28-4c21-b302-ec3de797532d",
   "metadata": {},
   "outputs": [],
   "source": [
    "sedona.sql(\"\"\"\n",
    "\n",
    "SELECT MIN(ratio), MAX(ratio) \n",
    "FROM az_ratio\n",
    "\"\"\").show()\n",
    "\n",
    "#(max - min )/ max"
   ]
  },
  {
   "cell_type": "code",
   "execution_count": null,
   "id": "55cbccd8-77fe-4db3-b6af-36f955f0ae4d",
   "metadata": {},
   "outputs": [],
   "source": [
    "# join az_ratio with az_solar_zip codes\n",
    "\n",
    "final_az_scores = sedona.sql(\"\"\"\n",
    "WITH min_max AS (\n",
    "  SELECT MIN(ratio) AS ratio_min, MAX(ratio) AS ratio_max\n",
    "  FROM az_ratio\n",
    ")\n",
    "\n",
    "\n",
    "SELECT \n",
    "    (solar_area / (ST_AreaSpheroid(az_solar_zip_codes.geometry)/ 1000000 * 247.10559991919519)) + (1 - ( (ratio - 0.0 ) / (14.0 - 0)   )) AS score, \n",
    "    (1 - (ratio / 14)) AS temp_score,\n",
    "    ratio,\n",
    "    az_solar_zip_codes.ZCTA5CE10 AS ZCTA5CE10,\n",
    "    az_solar_zip_codes.geometry AS geometry\n",
    "FROM az_ratio\n",
    "JOIN az_solar_zip_codes\n",
    "WHERE az_ratio.ZCTA5CE10 = az_solar_zip_codes.ZCTA5CE10\n",
    "ORDER BY score DESC\n",
    "\"\"\")"
   ]
  },
  {
   "cell_type": "code",
   "execution_count": null,
   "id": "1308c5e5-7e20-43fb-9be1-31bd5815b925",
   "metadata": {},
   "outputs": [],
   "source": [
    "final_az_scores.cache().show()"
   ]
  },
  {
   "cell_type": "code",
   "execution_count": null,
   "id": "4c310b2b-d294-4b8c-a547-026291131648",
   "metadata": {},
   "outputs": [],
   "source": [
    "# join az_ratio with az_solar_zip codes\n",
    "\n",
    "final_az_scores = sedona.sql(\"\"\"\n",
    "WITH min_max AS (\n",
    "  SELECT MIN(ratio) AS ratio_min, MAX(ratio) AS ratio_max\n",
    "  FROM az_ratio\n",
    ")\n",
    "\n",
    "\n",
    "SELECT \n",
    "    (solar_area / (ST_AreaSpheroid(az_solar_zip_codes.geometry)/ 1000000 * 247.10559991919519)) + (1 - ( (ratio - 0.0 ) / (14.0 - 0)   )) AS score, \n",
    "    az_solar_zip_codes.ZCTA5CE10 AS ZCTA5CE10,\n",
    "    az_solar_zip_codes.geometry AS geometry\n",
    "FROM az_ratio\n",
    "JOIN az_solar_zip_codes\n",
    "WHERE az_ratio.ZCTA5CE10 = az_solar_zip_codes.ZCTA5CE10\n",
    "ORDER BY score DESC\n",
    "\"\"\")"
   ]
  },
  {
   "cell_type": "code",
   "execution_count": null,
   "id": "e8970910-ad35-445b-93a9-7f2f621bcdff",
   "metadata": {},
   "outputs": [],
   "source": [
    "final_az_scores.createOrReplaceTempView(\"final_scores\")"
   ]
  },
  {
   "cell_type": "markdown",
   "id": "bad90858-938a-4855-8e97-79517eb4a23c",
   "metadata": {
    "jp-MarkdownHeadingCollapsed": true
   },
   "source": [
    "## Generate Final Inputs"
   ]
  },
  {
   "cell_type": "code",
   "execution_count": null,
   "id": "d1be5df8-7ccb-4835-84df-988f74a7a275",
   "metadata": {},
   "outputs": [],
   "source": [
    "# Find ev chargers in priority areas\n",
    "\n",
    "final_az_chargers = sedona.sql(\"\"\"\n",
    "SELECT stations.geometry, stations.id AS station_id\n",
    "FROM stations, final_scores\n",
    "WHERE ST_Contains(final_scores.geometry, stations.geometry)\n",
    "\"\"\")\n",
    "\n",
    "final_az_chargers.cache().count()"
   ]
  },
  {
   "cell_type": "code",
   "execution_count": null,
   "id": "26f8bf13-7f15-4518-9ac3-4b108978833c",
   "metadata": {},
   "outputs": [],
   "source": [
    "# Find retail stores in priority areas\n",
    "\n",
    "final_retail = sedona.sql(\"\"\"\n",
    "SELECT places.geometry \n",
    "FROM wherobots_open_data.overture_2024_02_15.places_place places\n",
    "JOIN final_scores\n",
    "WHERE ST_Contains(final_scores.geometry, places.geometry) AND places.categories.main = \"retail\"\n",
    "\"\"\")\n",
    "\n",
    "final_retail.cache().count()\n"
   ]
  },
  {
   "cell_type": "code",
   "execution_count": null,
   "id": "688e411d-47bf-4fee-9628-a4bce57f5ef4",
   "metadata": {},
   "outputs": [],
   "source": [
    "# Find solar farms in priority areas\n",
    "\n",
    "final_solar = sedona.sql(\"\"\"\n",
    "SELECT predictions_polys.class, predictions_polys.avg_confidence_score, predictions_polys.geometry\n",
    "FROM predictions_polys\n",
    "JOIN final_scores\n",
    "WHERE ST_Intersects(final_scores.geometry, predictions_polys.geometry)\n",
    "\"\"\")\n",
    "\n",
    "final_solar.cache().count()\n"
   ]
  },
  {
   "cell_type": "markdown",
   "id": "b5ad838b-30c1-4818-a3b8-0c8dcca523b5",
   "metadata": {},
   "source": [
    "## Final Suitability Analysis"
   ]
  },
  {
   "cell_type": "code",
   "execution_count": null,
   "id": "ff15cd69-ed31-41bf-a407-2f1b9c277de5",
   "metadata": {},
   "outputs": [],
   "source": [
    "final_map = SedonaKepler.create_map(final_az_scores, name=\"Suitability Results\")\n",
    "SedonaKepler.add_df(final_map, final_solar, name=\"Solar Farms\")\n",
    "SedonaKepler.add_df(final_map, final_retail, name=\"Retail Stores\")\n",
    "SedonaKepler.add_df(final_map, final_az_chargers, name=\"Existing EV Chargers\")\n",
    "final_map"
   ]
  },
  {
   "cell_type": "markdown",
   "id": "1ea42bdf-e3f5-4b8d-99e7-a63de1d20bc6",
   "metadata": {},
   "source": [
    "## Write Analysis Results As PMTiles\n",
    "\n"
   ]
  },
  {
   "cell_type": "code",
   "execution_count": null,
   "id": "09864b0b-63b5-4ac1-a8a1-3e19a8ed5929",
   "metadata": {},
   "outputs": [],
   "source": [
    "from wherobots import vtiles\n",
    "from pyspark.sql.functions import lit\n",
    "\n",
    "\n",
    "# Define paths to save PMTiles files in S3\n",
    "zip_tiles_path = os.getenv(\"USER_S3_PATH\") + \"final_az_suitability.pmtiles\"\n",
    "ev_chargers_path = os.getenv(\"USER_S3_PATH\") + \"final_az_chargers.pmtiles\"\n",
    "retail_path = os.getenv(\"USER_S3_PATH\") + \"final_retail.pmtiles\"\n",
    "solar_path = os.getenv(\"USER_S3_PATH\") + \"final_solar.pmtiles\"\n",
    "\n",
    "# Add \"layer\" column\n",
    "final_az_scores_layers = final_az_scores.withColumn(\"layer\", lit('Suitability Results'))\n",
    "final_az_chargers_layers = final_az_chargers.withColumn(\"layer\", lit('Existing Chargers'))\n",
    "final_az_retail_layers = final_retail.withColumn(\"layer\", lit(\"Retail stores\"))\n",
    "final_az_solar_layers = final_solar.withColumn(\"layer\", lit(\"Solar Farms\"))\n",
    "\n",
    "# Generate and write PMTiles\n",
    "tiles_df = vtiles.generate(final_az_scores_layers)\n",
    "vtiles.write_pmtiles(tiles_df, zip_tiles_path, features_df=final_az_scores_layers)\n",
    "\n",
    "charger_tiles_df = vtiles.generate(final_az_chargers_layers)\n",
    "vtiles.write_pmtiles(charger_tiles_df, ev_chargers_path, features_df=final_az_chargers_layers)\n",
    "\n",
    "retail_tiles_df = vtiles.generate(final_az_retail_layers)\n",
    "vtiles.write_pmtiles(retail_tiles_df, retail_path, features_df=final_az_retail_layers)\n",
    "\n",
    "solar_tiles_df = vtiles.generate(final_az_solar_layers)\n",
    "vtiles.write_pmtiles(solar_tiles_df, solar_path, features_df=final_az_solar_layers)\n"
   ]
  },
  {
   "cell_type": "code",
   "execution_count": null,
   "id": "b0595233-d70b-4799-b71f-a2aa88efeab9",
   "metadata": {},
   "outputs": [],
   "source": []
  },
  {
   "cell_type": "code",
   "execution_count": null,
   "id": "53d801ed-02b7-4031-86db-f73571b00d8a",
   "metadata": {},
   "outputs": [],
   "source": []
  },
  {
   "cell_type": "code",
   "execution_count": null,
   "id": "17ce2cee-0cd4-4d09-9709-1896c23d8262",
   "metadata": {},
   "outputs": [],
   "source": []
  },
  {
   "cell_type": "markdown",
   "id": "74166eb8-0213-4510-97de-fbf685914499",
   "metadata": {},
   "source": [
    "## Visualize PMTiles"
   ]
  },
  {
   "cell_type": "code",
   "execution_count": null,
   "id": "1c19e429-7d8d-4fc6-b859-81e682b76b48",
   "metadata": {},
   "outputs": [],
   "source": [
    "tiles_config = [\n",
    "    {\n",
    "        \"s3_uri\": zip_tiles_path,\n",
    "        \"name\": \"Suitability\",\n",
    "        \"style\": {'version': 8,\n",
    "         'sources': {'source': {'type': 'vector',\n",
    "           'url': 'pmtiles://' + get_signed_url(zip_tiles_path),\n",
    "           'attribution': 'PMTiles'}},\n",
    "         'layers': [\n",
    "          {'id': 'Suitability Results_fill',\n",
    "           'source': 'source',\n",
    "           'source-layer': 'Suitability Results',\n",
    "           'type': 'fill',\n",
    "           'paint': {'fill-color': 'lightblue', 'fill-opacity': 0.5},\n",
    "           'filter': ['==', ['geometry-type'], 'Polygon']}]}\n",
    "            },\n",
    "    {\n",
    "        \"s3_uri\": ev_chargers_path,\n",
    "        \"style\": {'version': 8,\n",
    "             'sources': {'source': {'type': 'vector',\n",
    "               'url': 'pmtiles://' + get_signed_url(ev_chargers_path),\n",
    "               'attribution': 'PMTiles'}},\n",
    "             'layers': [{'id': 'Existing Chargers_point',\n",
    "               'source': 'source',\n",
    "               'source-layer': 'Existing Chargers',\n",
    "               'type': 'circle',\n",
    "               'paint': {'circle-color': 'blue', 'circle-radius': 5},\n",
    "               'filter': ['==', ['geometry-type'], 'Point']}]}\n",
    "                },\n",
    "    {\n",
    "        \"s3_uri\": retail_path\n",
    "    },\n",
    "    {\n",
    "        \"s3_uri\": solar_path\n",
    "    }\n",
    "]\n",
    "\n",
    "vtiles.show_pmtiles(tiles_config)"
   ]
  },
  {
   "cell_type": "code",
   "execution_count": null,
   "id": "7b0afb40-abfa-421f-a6fe-52b9cf10cee7",
   "metadata": {},
   "outputs": [],
   "source": []
  },
  {
   "cell_type": "markdown",
   "id": "77a2eee9-5062-4c59-8365-d6b30f284cb8",
   "metadata": {},
   "source": [
    "## Writing to Iceberg Tables\n",
    "\n",
    "We can write the results of our analysis to Iceberg tables using SQL, which can then be accessed by other users or analytics applications, including via the Spatial SQL API using one of the WherobotsDB language drivers (Python or JDBC)."
   ]
  },
  {
   "cell_type": "code",
   "execution_count": null,
   "id": "55470b1b-d2e3-42fe-a5ee-81d2a29e696b",
   "metadata": {},
   "outputs": [],
   "source": [
    "sedona.sql(\"CREATE NAMESPACE IF NOT EXISTS wherobots.suitability\")\n",
    "sedona.sql(\"DROP TABLE IF EXISTS wherobots.suitability.ev_chargers\")\n",
    "final_az_scores.writeTo(\"wherobots.suitability.ev_chargers\").create()"
   ]
  },
  {
   "cell_type": "code",
   "execution_count": null,
   "id": "69ceeb67-d7cf-4e02-8af4-14192f347ae3",
   "metadata": {},
   "outputs": [],
   "source": [
    "sedona.table(\"wherobots.suitability.ev_chargers\").show()"
   ]
  },
  {
   "cell_type": "code",
   "execution_count": null,
   "id": "038933b1-a75a-4c83-b678-6dd342192e92",
   "metadata": {},
   "outputs": [],
   "source": []
  }
 ],
 "metadata": {
  "kernelspec": {
   "display_name": "Python 3 (ipykernel)",
   "language": "python",
   "name": "python3"
  },
  "language_info": {
   "codemirror_mode": {
    "name": "ipython",
    "version": 3
   },
   "file_extension": ".py",
   "mimetype": "text/x-python",
   "name": "python",
   "nbconvert_exporter": "python",
   "pygments_lexer": "ipython3",
   "version": "3.10.11"
  }
 },
 "nbformat": 4,
 "nbformat_minor": 5
}
