{
 "cells": [
  {
   "cell_type": "markdown",
   "id": "41a939b8-0dae-4b9d-a6fa-1618e9379dfb",
   "metadata": {},
   "source": [
    "## Electric Vehicle Charging Station Site Selection Analysis\n",
    "\n",
    "This notebook demonstrates a workflow for identifying potential areas for new electric vehicle (EV) charging station development using WherobotsDB and WherobotsAI raster inference functionality. The workflow is based on:\n",
    "\n",
    "* Identifying existing EV charging station infrastructure\n",
    "* Proximity to retail stores as a proxy for demand, and\n",
    "* Proximity to solar farms \n",
    "    \n",
    "\n",
    "Existing charing station infrastructure and retail store point of interest data is determined using public data sources, while existing solar farm infrastructure is identified using Wherobots AI raster inference. By using a machine learning model trained on satellite imagery we can identify solar farms as an input to the analysis"
   ]
  },
  {
   "cell_type": "code",
   "execution_count": 1,
   "id": "2def2e2f-b05c-4bd9-bbad-fe011a9ffec6",
   "metadata": {},
   "outputs": [
    {
     "name": "stderr",
     "output_type": "stream",
     "text": [
      "Warning: Ignoring non-Spark config property: sedona.join.autoBroadcastJoinThreshold\n",
      "24/05/31 19:10:48 WARN NativeCodeLoader: Unable to load native-hadoop library for your platform... using builtin-java classes where applicable\n",
      "Setting default log level to \"WARN\".\n",
      "To adjust logging level use sc.setLogLevel(newLevel). For SparkR, use setLogLevel(newLevel).\n",
      "24/05/31 19:10:49 WARN MetricsConfig: Cannot locate configuration: tried hadoop-metrics2-s3a-file-system.properties,hadoop-metrics2.properties\n",
      "24/05/31 19:10:50 WARN S3ABlockOutputStream: Application invoked the Syncable API against stream writing to qjnq6fcbf1/spark-logs/spark-bdb3d12e4f704a19983143e0d002ef80.inprogress. This is unsupported\n",
      "24/05/31 19:11:27 WARN SedonaContext: Python files are not set. Sedona will not pre-load Python UDFs.\n"
     ]
    }
   ],
   "source": [
    "from sedona.spark import *\n",
    "\n",
    "config = SedonaContext.builder().config(\"spark.hadoop.fs.s3a.bucket.wherobots-examples.aws.credentials.provider\",\"org.apache.hadoop.fs.s3a.AnonymousAWSCredentialsProvider\").config(\"spark.driver.maxResultSize\", \"10g\").config(\"sedona.join.autoBroadcastJoinThreshold\", \"-1\").getOrCreate()\n",
    "sedona = SedonaContext.create(config)"
   ]
  },
  {
   "cell_type": "markdown",
   "id": "d6126582-c1f0-4099-ba99-5e537f0bbb43",
   "metadata": {},
   "source": [
    "## Identify Area Of Interest\n",
    "\n",
    "We will use US Census Zip Code Tabulated Areas (ZCTA) to identify regions for potential EV charging station development. We will confine our analysis to the state of Arizona.\n",
    "\n",
    "Note that we are using the `ST_Intersects` spatial predicate function to find ZCTAs that intersect with the border of Arizona rather than `ST_Contains`. This is because some ZCTAs extend beyond the border of Arizona and can lie within multiple states. This will extend our analysis slightly beyond the borders of Arizona."
   ]
  },
  {
   "cell_type": "code",
   "execution_count": 2,
   "id": "e63a9ca8-4f14-4b33-be75-e0b0218c2646",
   "metadata": {},
   "outputs": [],
   "source": [
    "az_zips_df = sedona.sql(\"\"\"\n",
    "WITH arizona AS ( \n",
    "    SELECT localityArea.geometry AS geometry\n",
    "    FROM wherobots_open_data.overture_2024_02_15.admins_locality locality \n",
    "    JOIN wherobots_open_data.overture_2024_02_15.admins_localityArea localityArea \n",
    "    ON locality.id = localityArea.localityId\n",
    "    WHERE locality.names.primary = \"Arizona\" AND locality.localityType = \"state\" \n",
    ")\n",
    "\n",
    "SELECT zta5.geometry AS geometry, ZCTA5CE10 \n",
    "FROM wherobots_pro_data.us_census.zipcode zta5, arizona\n",
    "WHERE ST_Intersects(arizona.geometry, zta5.geometry)\n",
    "\"\"\")"
   ]
  },
  {
   "cell_type": "code",
   "execution_count": 3,
   "id": "c7750b24-fc49-4da5-8f2f-ae58b3963f21",
   "metadata": {},
   "outputs": [],
   "source": [
    "az_zips_df.createOrReplaceTempView(\"az_zta5\")"
   ]
  },
  {
   "cell_type": "code",
   "execution_count": 4,
   "id": "26669a08-b194-4346-879b-804a6d11d12c",
   "metadata": {},
   "outputs": [
    {
     "name": "stdout",
     "output_type": "stream",
     "text": [
      "User Guide: https://docs.kepler.gl/docs/keplergl-jupyter\n"
     ]
    },
    {
     "name": "stderr",
     "output_type": "stream",
     "text": [
      "SLF4J: Failed to load class \"org.slf4j.impl.StaticLoggerBinder\".\n",
      "SLF4J: Defaulting to no-operation (NOP) logger implementation\n",
      "SLF4J: See http://www.slf4j.org/codes.html#StaticLoggerBinder for further details.\n",
      "                                                                                \r"
     ]
    },
    {
     "data": {
      "application/vnd.jupyter.widget-view+json": {
       "model_id": "d1c575a875b7407889bad76c45e7c652",
       "version_major": 2,
       "version_minor": 0
      },
      "text/plain": [
       "KeplerGl(data={'Arizona ZCTAs': {'index': [0, 1, 2, 3, 4, 5, 6, 7, 8, 9, 10, 11, 12, 13, 14, 15, 16, 17, 18, 1…"
      ]
     },
     "metadata": {},
     "output_type": "display_data"
    }
   ],
   "source": [
    "SedonaKepler.create_map(az_zips_df, name=\"Arizona ZCTAs\")"
   ]
  },
  {
   "cell_type": "markdown",
   "id": "1a6c64de-2a28-40dc-b549-03932b141944",
   "metadata": {},
   "source": [
    "Next, we will identify existing EV charging infrastructure within each ZCTA as an input to our analysis."
   ]
  },
  {
   "cell_type": "code",
   "execution_count": 5,
   "id": "d7c8939f-151b-4465-9a28-911dad5aae52",
   "metadata": {},
   "outputs": [
    {
     "name": "stderr",
     "output_type": "stream",
     "text": [
      "                                                                                \r"
     ]
    }
   ],
   "source": [
    "## Existing EV Charging Infrastructure\n",
    "\n",
    "stations_df = sedona.read.format(\"geoparquet\").load(\"s3://wherobots-examples/data/examples/openchargemap/world.parquet\")"
   ]
  },
  {
   "cell_type": "code",
   "execution_count": null,
   "id": "f2d590eb-a060-4031-b26d-05fb663ca59a",
   "metadata": {},
   "outputs": [],
   "source": []
  },
  {
   "cell_type": "code",
   "execution_count": null,
   "id": "17b854c6-ad58-4c25-b228-596ca7692cfe",
   "metadata": {},
   "outputs": [],
   "source": []
  }
 ],
 "metadata": {
  "kernelspec": {
   "display_name": "Python 3 (ipykernel)",
   "language": "python",
   "name": "python3"
  },
  "language_info": {
   "codemirror_mode": {
    "name": "ipython",
    "version": 3
   },
   "file_extension": ".py",
   "mimetype": "text/x-python",
   "name": "python",
   "nbconvert_exporter": "python",
   "pygments_lexer": "ipython3",
   "version": "3.10.11"
  }
 },
 "nbformat": 4,
 "nbformat_minor": 5
}
