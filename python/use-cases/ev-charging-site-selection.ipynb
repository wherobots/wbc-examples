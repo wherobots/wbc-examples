{
 "cells": [
  {
   "cell_type": "markdown",
   "id": "41a939b8-0dae-4b9d-a6fa-1618e9379dfb",
   "metadata": {},
   "source": [
    "<img src=\"https://wherobots.com/wp-content/uploads/2023/12/Inline-Blue_Black_onWhite@3x.png\" alt=\"Wherobots Logo\" width=\"600\">\n",
    "\n",
    "## Electric Vehicle Charging Station Site Selection Analysis\n",
    "\n",
    "This notebook demonstrates a workflow for identifying potential areas for new electric vehicle (EV) charging station development using WherobotsDB and WherobotsAI raster inference functionality. The workflow is based on:\n",
    "\n",
    "* Identifying existing EV charging station infrastructure\n",
    "* Proximity to retail stores as a proxy for demand, and\n",
    "* Proximity to solar farms\n",
    "    \n",
    "\n",
    "Existing charging station infrastructure and retail store point of interest data is determined using public data sources, while existing solar farm infrastructure is identified using Wherobots AI raster inference. By using a machine learning model trained on satellite imagery we can identify solar farms as an input to the analysis"
   ]
  },
  {
   "cell_type": "code",
   "execution_count": 1,
   "id": "2def2e2f-b05c-4bd9-bbad-fe011a9ffec6",
   "metadata": {},
   "outputs": [
    {
     "name": "stderr",
     "output_type": "stream",
     "text": [
      "Warning: Ignoring non-Spark config property: sedona.join.autoBroadcastJoinThreshold\n",
      "Setting default log level to \"WARN\".\n",
      "To adjust logging level use sc.setLogLevel(newLevel). For SparkR, use setLogLevel(newLevel).\n",
      "                                                                                \r"
     ]
    }
   ],
   "source": [
    "from sedona.spark import *\n",
    "import os\n",
    "import warnings\n",
    "warnings.filterwarnings('ignore')\n",
    "\n",
    "# specifies catalog called benchmark, the havasu catalog\n",
    "# need to get from terminal\n",
    "config = SedonaContext.builder() \\\n",
    "           .config(\"spark.hadoop.fs.s3a.bucket.wherobots-examples.aws.credentials.provider\", \"org.apache.hadoop.fs.s3a.AnonymousAWSCredentialsProvider\") \\\n",
    "           .config(\"spark.driver.maxResultSize\", \"10g\") \\\n",
    "           .config(\"sedona.join.autoBroadcastJoinThreshold\", \"-1\") \\\n",
    "           .config(\"spark.sql.catalog.benchmark.type\", \"hadoop\") \\\n",
    "           .config(\"spark.sql.catalog.benchmark\", \"org.apache.iceberg.spark.SparkCatalog\") \\\n",
    "           .config(\"spark.sql.catalog.benchmark.warehouse\", \"s3://wherobots-inference-staging/benchmark/\") \\\n",
    "           .config(\"spark.sql.catalog.benchmark.io-impl\", \"org.apache.iceberg.aws.s3.S3FileIO\") \\\n",
    "           .config(\"spark.sql.catalog.benchmark.client.arn\", f\"os.getenviron[AWS_ROLE_ARN]\") \\\n",
    "           .config(\"spark.sql.catalog.benchmark.client.region\",  \"us-west-2\") \\\n",
    "           .config(\"spark.hadoop.fs.s3a.bucket.benchmark.arn\", f\"os.getenviron[AWS_ROLE_ARN]\") \\\n",
    "           .config(\"spark.sql.catalog.benchmark.warehouse\", \"s3://wherobots-inference-staging/benchmark/\").getOrCreate()\n",
    "sedona = SedonaContext.create(config)"
   ]
  },
  {
   "cell_type": "markdown",
   "id": "d6126582-c1f0-4099-ba99-5e537f0bbb43",
   "metadata": {},
   "source": [
    "## Identify Area Of Interest\n",
    "\n",
    "We will use US Census Zip Code Tabulated Areas (ZCTA) to identify regions for potential EV charging station development. We will confine our analysis to the state of Arizona.\n",
    "\n",
    "Note that we are using the `ST_Intersects` spatial predicate function to find ZCTAs that intersect with the border of Arizona rather than `ST_Contains`. This is because some ZCTAs extend beyond the border of Arizona and can lie within multiple states. This will extend our analysis slightly beyond the borders of Arizona."
   ]
  },
  {
   "cell_type": "code",
   "execution_count": 2,
   "id": "e63a9ca8-4f14-4b33-be75-e0b0218c2646",
   "metadata": {},
   "outputs": [],
   "source": [
    "az_zips_df = sedona.sql(\"\"\"\n",
    "WITH arizona AS ( \n",
    "    SELECT localityArea.geometry AS geometry\n",
    "    FROM wherobots_open_data.overture_2024_02_15.admins_locality locality \n",
    "    JOIN wherobots_open_data.overture_2024_02_15.admins_localityArea localityArea \n",
    "    ON locality.id = localityArea.localityId\n",
    "    WHERE locality.names.primary = \"Arizona\" AND locality.localityType = \"state\" \n",
    ")\n",
    "\n",
    "SELECT ST_Intersection(arizona.geometry, zta5.geometry) AS geometry, ZCTA5CE10 \n",
    "FROM wherobots_pro_data.us_census.zipcode zta5, arizona\n",
    "WHERE ST_Intersects(arizona.geometry, zta5.geometry)\n",
    "\"\"\")"
   ]
  },
  {
   "cell_type": "code",
   "execution_count": 3,
   "id": "c7750b24-fc49-4da5-8f2f-ae58b3963f21",
   "metadata": {},
   "outputs": [],
   "source": [
    "az_zips_df.createOrReplaceTempView(\"az_zta5\")"
   ]
  },
  {
   "cell_type": "code",
   "execution_count": 4,
   "id": "1e456388-abbf-41bd-93ee-4fe8897f4595",
   "metadata": {},
   "outputs": [
    {
     "name": "stdout",
     "output_type": "stream",
     "text": [
      "root\n",
      " |-- geometry: geometry (nullable = true)\n",
      " |-- ZCTA5CE10: string (nullable = true)\n",
      "\n"
     ]
    }
   ],
   "source": [
    "az_zips_df.printSchema()"
   ]
  },
  {
   "cell_type": "code",
   "execution_count": null,
   "id": "54d99fd8-a9a4-4634-878c-b4c5a88e5875",
   "metadata": {},
   "outputs": [],
   "source": [
    "SedonaKepler.create_map(az_zips_df, name=\"Arizona ZCTAs\")"
   ]
  },
  {
   "cell_type": "markdown",
   "id": "1a6c64de-2a28-40dc-b549-03932b141944",
   "metadata": {},
   "source": [
    "Next, we will identify existing EV charging infrastructure within each ZCTA as an input to our analysis."
   ]
  },
  {
   "cell_type": "markdown",
   "id": "d72daaa2-14cc-4d31-84ae-b3acf95f0f4b",
   "metadata": {},
   "source": [
    "## Existing EV Charging Infrastructure\n",
    "\n",
    "Using data from [Open Charge Map](https://openchargemap.org/site) we calculate the number of EV charging stations in each ZCTA to give us a sense of existing EV charging infrastructure.\n"
   ]
  },
  {
   "cell_type": "code",
   "execution_count": 5,
   "id": "f2d590eb-a060-4031-b26d-05fb663ca59a",
   "metadata": {},
   "outputs": [
    {
     "name": "stderr",
     "output_type": "stream",
     "text": [
      "                                                                                \r"
     ]
    }
   ],
   "source": [
    "stations_df = sedona.read.format(\"geoparquet\").load(\"s3://wherobots-examples/data/examples/openchargemap/world.parquet\")"
   ]
  },
  {
   "cell_type": "code",
   "execution_count": 6,
   "id": "ae43efb3-f0ef-4290-a3df-77e5c238503c",
   "metadata": {},
   "outputs": [],
   "source": [
    "stations_df.createOrReplaceTempView(\"stations\")"
   ]
  },
  {
   "cell_type": "code",
   "execution_count": null,
   "id": "7d61e5bf-ab38-4dc1-b0b8-346db691ec30",
   "metadata": {},
   "outputs": [],
   "source": [
    "SedonaKepler.create_map(stations_df.sample(0.01), name=\"EV Charging Stations\")"
   ]
  },
  {
   "cell_type": "markdown",
   "id": "63083dd2-7013-4b55-8fdd-dd091344ae91",
   "metadata": {},
   "source": [
    "Count of existing EV charging stations per ZCTA."
   ]
  },
  {
   "cell_type": "code",
   "execution_count": 7,
   "id": "cda0ed80-40d9-48e5-a7d4-1e5e26a302bd",
   "metadata": {},
   "outputs": [],
   "source": [
    "az_stations_df = sedona.sql(\"\"\"\n",
    "SELECT COUNT(*) AS num, any_value(az_zta5.geometry) AS geometry, ZCTA5CE10\n",
    "FROM stations JOIN az_zta5\n",
    "WHERE ST_Intersects(az_zta5.geometry, stations.geometry)\n",
    "GROUP BY ZCTA5CE10 \n",
    "ORDER BY num DESC\n",
    "\"\"\")"
   ]
  },
  {
   "cell_type": "code",
   "execution_count": 8,
   "id": "ed5a22b4-587c-4875-bb13-a79ebc051409",
   "metadata": {},
   "outputs": [],
   "source": [
    "az_stations_df.createOrReplaceTempView(\"az_stations\")"
   ]
  },
  {
   "cell_type": "code",
   "execution_count": 9,
   "id": "6ac2882e-250d-45b2-9f8c-59b16994ed7d",
   "metadata": {},
   "outputs": [
    {
     "name": "stderr",
     "output_type": "stream",
     "text": [
      "                                                                                \r"
     ]
    },
    {
     "data": {
      "text/plain": [
       "204"
      ]
     },
     "execution_count": 9,
     "metadata": {},
     "output_type": "execute_result"
    }
   ],
   "source": [
    "az_stations_df.count()"
   ]
  },
  {
   "cell_type": "code",
   "execution_count": 10,
   "id": "8b23063f-7f82-4209-b5c8-e2557bbfcb57",
   "metadata": {},
   "outputs": [
    {
     "name": "stderr",
     "output_type": "stream",
     "text": [
      "                                                                                \r"
     ]
    },
    {
     "name": "stdout",
     "output_type": "stream",
     "text": [
      "+---+--------------------+---------+\n",
      "|num|            geometry|ZCTA5CE10|\n",
      "+---+--------------------+---------+\n",
      "| 51|POLYGON ((-111.97...|    85281|\n",
      "| 36|POLYGON ((-111.95...|    85251|\n",
      "| 33|POLYGON ((-111.92...|    85260|\n",
      "| 28|POLYGON ((-112.07...|    85004|\n",
      "| 27|POLYGON ((-112.14...|    85226|\n",
      "| 26|POLYGON ((-112.07...|    86336|\n",
      "| 22|POLYGON ((-111.97...|    85054|\n",
      "| 22|POLYGON ((-112.05...|    85016|\n",
      "| 20|POLYGON ((-111.89...|    85286|\n",
      "| 19|POLYGON ((-112.06...|    85034|\n",
      "| 17|POLYGON ((-111.97...|    85254|\n",
      "| 17|POLYGON ((-111.69...|    85212|\n",
      "| 16|POLYGON ((-111.75...|    85206|\n",
      "| 15|POLYGON ((-111.92...|    85250|\n",
      "| 15|POLYGON ((-111.95...|    86001|\n",
      "| 15|POLYGON ((-110.96...|    85719|\n",
      "| 15|POLYGON ((-112.28...|    85305|\n",
      "| 15|MULTIPOLYGON (((-...|    85282|\n",
      "| 15|POLYGON ((-111.94...|    85248|\n",
      "| 14|POLYGON ((-112.36...|    85323|\n",
      "+---+--------------------+---------+\n",
      "only showing top 20 rows\n",
      "\n"
     ]
    }
   ],
   "source": [
    "az_stations_df.cache().show()"
   ]
  },
  {
   "cell_type": "code",
   "execution_count": 11,
   "id": "97c44723-0d4e-47ee-b31a-fad0ff07b25c",
   "metadata": {},
   "outputs": [
    {
     "name": "stdout",
     "output_type": "stream",
     "text": [
      "root\n",
      " |-- num: long (nullable = false)\n",
      " |-- geometry: geometry (nullable = true)\n",
      " |-- ZCTA5CE10: string (nullable = true)\n",
      "\n"
     ]
    }
   ],
   "source": [
    "az_stations_df.printSchema()"
   ]
  },
  {
   "cell_type": "code",
   "execution_count": null,
   "id": "362f702d-680a-4bcd-8831-ea88abc7369f",
   "metadata": {},
   "outputs": [],
   "source": [
    "SedonaKepler.create_map(az_stations_df)"
   ]
  },
  {
   "cell_type": "markdown",
   "id": "7d66bd0a-82c3-4223-970f-39a4a1041106",
   "metadata": {},
   "source": [
    "## Arizona Retail Stores\n",
    "\n",
    "Next, we'll use retail stores per ZCTA as a proxy for demand. Using the Overture Maps Foundation public point of interest data set."
   ]
  },
  {
   "cell_type": "code",
   "execution_count": 12,
   "id": "2cff6438-9956-4e8d-9560-b669ccec6a9a",
   "metadata": {},
   "outputs": [
    {
     "data": {
      "text/plain": [
       "53622897"
      ]
     },
     "execution_count": 12,
     "metadata": {},
     "output_type": "execute_result"
    }
   ],
   "source": [
    "sedona.table(\"wherobots_open_data.overture_2024_02_15.places_place\").count()"
   ]
  },
  {
   "cell_type": "code",
   "execution_count": 13,
   "id": "c901e4d1-820c-44e8-b5e8-fd12b1a71a09",
   "metadata": {},
   "outputs": [],
   "source": [
    "az_retail_df = sedona.sql(\"\"\"\n",
    "SELECT COUNT(*) AS num, any_value(az_zta5.geometry) AS geometry, ZCTA5CE10\n",
    "FROM wherobots_open_data.overture_2024_02_15.places_place places \n",
    "JOIN az_zta5\n",
    "WHERE ST_Intersects(az_zta5.geometry, places.geometry)\n",
    "AND places.categories.main = \"retail\"\n",
    "GROUP BY ZCTA5CE10 \n",
    "ORDER BY num DESC\n",
    "\"\"\")"
   ]
  },
  {
   "cell_type": "code",
   "execution_count": 14,
   "id": "92aa1eb7-c3a6-4336-baee-21937adabac1",
   "metadata": {},
   "outputs": [],
   "source": [
    "az_retail_df.createOrReplaceTempView(\"az_retail\")"
   ]
  },
  {
   "cell_type": "code",
   "execution_count": 15,
   "id": "513247ce-9dd0-4d92-bac7-747db27ea296",
   "metadata": {},
   "outputs": [
    {
     "name": "stderr",
     "output_type": "stream",
     "text": [
      "[Stage 113:==================================================>  (191 + 1) / 200]\r"
     ]
    },
    {
     "name": "stdout",
     "output_type": "stream",
     "text": [
      "+---+--------------------+---------+\n",
      "|num|            geometry|ZCTA5CE10|\n",
      "+---+--------------------+---------+\n",
      "| 22|POLYGON ((-112.14...|    85226|\n",
      "| 20|POLYGON ((-111.92...|    85260|\n",
      "| 15|POLYGON ((-111.95...|    85251|\n",
      "| 15|POLYGON ((-111.86...|    85210|\n",
      "| 15|POLYGON ((-112.23...|    85308|\n",
      "+---+--------------------+---------+\n",
      "only showing top 5 rows\n",
      "\n"
     ]
    },
    {
     "name": "stderr",
     "output_type": "stream",
     "text": [
      "                                                                                \r"
     ]
    }
   ],
   "source": [
    "az_retail_df.cache().show(5)"
   ]
  },
  {
   "cell_type": "code",
   "execution_count": null,
   "id": "b82e8981-14dd-4b81-856e-827f41b53ace",
   "metadata": {},
   "outputs": [],
   "source": [
    "SedonaKepler.create_map(az_retail_df)"
   ]
  },
  {
   "cell_type": "markdown",
   "id": "e12b462f-cfd0-48a4-afd9-ba2d30f1cacd",
   "metadata": {},
   "source": [
    "## Combining Retail Stores & Existing EV Chargers\n",
    "\n",
    "Before we apply WherobotsAI raster inference to identify solar farms in the area, we'll use existing EV chargers and retail stores to identify ZCTA with high demand and low existing EV charging infrastructure by computing the ratio of retail stores to EV chargers in each ZCTA.\n"
   ]
  },
  {
   "cell_type": "code",
   "execution_count": 16,
   "id": "8fd3c934-d362-4e17-bf82-e4105af037d4",
   "metadata": {},
   "outputs": [],
   "source": [
    "az_ratio = sedona.sql(\"\"\"\n",
    "SELECT \n",
    "    coalesce(az_stations.num, 0) / coalesce(az_retail.num, 1) AS ratio, \n",
    "    coalesce(az_stations.geometry, az_retail.geometry) AS geometry, \n",
    "    coalesce(az_stations.ZCTA5CE10, az_retail.ZCTA5CE10) AS ZCTA5CE10\n",
    "FROM az_retail FULL OUTER JOIN az_stations\n",
    "ON az_retail.ZCTA5CE10 = az_stations.ZCTA5CE10\n",
    "WHERE az_retail.num > 1\n",
    "ORDER BY ratio DESC\n",
    "\"\"\")"
   ]
  },
  {
   "cell_type": "code",
   "execution_count": 17,
   "id": "cfa11c9e-9bb7-4aab-9c94-1c131b27b898",
   "metadata": {},
   "outputs": [],
   "source": [
    "az_ratio.createOrReplaceTempView(\"az_ratio\")"
   ]
  },
  {
   "cell_type": "code",
   "execution_count": 18,
   "id": "648dd483-e6e5-46d3-a3ba-b33da007118e",
   "metadata": {},
   "outputs": [
    {
     "name": "stderr",
     "output_type": "stream",
     "text": [
      "                                                                                \r"
     ]
    },
    {
     "name": "stdout",
     "output_type": "stream",
     "text": [
      "+------------------+--------------------+---------+\n",
      "|             ratio|            geometry|ZCTA5CE10|\n",
      "+------------------+--------------------+---------+\n",
      "|              14.0|POLYGON ((-112.07...|    85004|\n",
      "|              11.0|POLYGON ((-111.97...|    85054|\n",
      "| 8.666666666666666|POLYGON ((-112.07...|    86336|\n",
      "|               7.0|POLYGON ((-112.36...|    85323|\n",
      "|               7.0|POLYGON ((-112.40...|    86023|\n",
      "|               6.5|POLYGON ((-112.46...|    85395|\n",
      "|               5.5|POLYGON ((-112.08...|    85003|\n",
      "|               5.1|POLYGON ((-111.97...|    85281|\n",
      "|               5.0|POLYGON ((-111.66...|    86004|\n",
      "|               5.0|POLYGON ((-112.03...|    85008|\n",
      "|               5.0|POLYGON ((-111.94...|    85248|\n",
      "| 4.666666666666667|POLYGON ((-112.06...|    85014|\n",
      "|              4.25|POLYGON ((-111.69...|    85212|\n",
      "|               4.0|POLYGON ((-111.96...|    85257|\n",
      "|              3.75|POLYGON ((-111.92...|    85250|\n",
      "|               3.5|POLYGON ((-112.07...|    85012|\n",
      "|3.3333333333333335|POLYGON ((-111.85...|    85225|\n",
      "|               3.0|POLYGON ((-112.13...|    85017|\n",
      "|               3.0|POLYGON ((-112.47...|    85388|\n",
      "|               2.8|POLYGON ((-111.97...|    85255|\n",
      "+------------------+--------------------+---------+\n",
      "only showing top 20 rows\n",
      "\n"
     ]
    }
   ],
   "source": [
    "az_ratio.cache().show()"
   ]
  },
  {
   "cell_type": "code",
   "execution_count": null,
   "id": "023916cc-a602-4581-9805-ae8d33ce0313",
   "metadata": {},
   "outputs": [],
   "source": [
    "SedonaKepler.create_map(az_ratio)"
   ]
  },
  {
   "cell_type": "markdown",
   "id": "f310c396-e92b-4e5b-a48b-2ec396e15d71",
   "metadata": {},
   "source": [
    "ZCTAs with a low \"ratio\" are potential candidates for additional EV charging stations. The final input to our analysis is proximity to solar farms, which we will identify using WherobotsAI raster inference."
   ]
  },
  {
   "cell_type": "markdown",
   "id": "63171d41-3551-4cf6-aa8e-831118db320c",
   "metadata": {},
   "source": [
    "## WherobotsAI Raster Inference\n",
    "\n",
    "The [outdb raster table](https://docs.wherobots.com/1.2.2/references/havasu/raster/out-db-rasters/) refers to Sentinel-2 images with low cloud cover during 2023 in Arizona. We've prepared this using WherbotsDB's raster processing capabilities.\n",
    "\n",
    "TODO: identify solar farms within ZCTAs, prioritize low \"ratio\" ZCTAs\n"
   ]
  },
  {
   "cell_type": "code",
   "execution_count": 19,
   "id": "8f551f96-9bd1-469c-8330-bb8b6b719f73",
   "metadata": {},
   "outputs": [],
   "source": [
    "columns_to_drop = [\"x\", \"y\", \"product_type\", \"length\"]\n",
    "num_partitions = 32\n",
    "solar_model_inputs_df = sedona.table(\"benchmark.db.solar_satlas_sentinel2_db\").drop(*columns_to_drop).repartition(num_partitions)"
   ]
  },
  {
   "cell_type": "code",
   "execution_count": 20,
   "id": "3e8b8988-9f4e-430f-aefa-4a62c47732d7",
   "metadata": {},
   "outputs": [
    {
     "name": "stderr",
     "output_type": "stream",
     "text": [
      "[Stage 203:============================>                            (1 + 1) / 2]\r"
     ]
    },
    {
     "name": "stdout",
     "output_type": "stream",
     "text": [
      "+--------------------+-------------+---------+-------------+--------------------+--------------+------------+--------------------+--------------------+\n",
      "|            filename|surrogate_key|grid_code|constellation|            geometry|start_datetime|end_datetime|                path|        outdb_raster|\n",
      "+--------------------+-------------+---------+-------------+--------------------+--------------+------------+--------------------+--------------------+\n",
      "|sentinel-2-S2MSI2...|   1003289323|    12SUD|   sentinel-2|POLYGON ((-113.19...|      20230107|    20230206|s3a://wherobots-i...|OutDbGridCoverage...|\n",
      "|sentinel-2-S2MSI2...|  -1857201540|    12SWA|   sentinel-2|POLYGON ((-111.00...|      20231001|    20231026|s3a://wherobots-i...|OutDbGridCoverage...|\n",
      "|sentinel-2-S2MSI2...|   1090044652|    12SXD|   sentinel-2|POLYGON ((-109.90...|      20230409|    20230504|s3a://wherobots-i...|OutDbGridCoverage...|\n",
      "|sentinel-2-S2MSI2...|   -638119537|    12SXB|   sentinel-2|POLYGON ((-109.64...|      20230401|    20230421|s3a://wherobots-i...|OutDbGridCoverage...|\n",
      "|sentinel-2-S2MSI2...|   -541244711|    12RWV|   sentinel-2|POLYGON ((-111.00...|      20231001|    20231016|s3a://wherobots-i...|OutDbGridCoverage...|\n",
      "|sentinel-2-S2MSI2...|   1205326479|    12STF|   sentinel-2|POLYGON ((-114.37...|      20230120|    20230209|s3a://wherobots-i...|OutDbGridCoverage...|\n",
      "|sentinel-2-S2MSI2...|  -1303730210|    12SUB|   sentinel-2|POLYGON ((-113.15...|      20230402|    20230427|s3a://wherobots-i...|OutDbGridCoverage...|\n",
      "|sentinel-2-S2MSI2...|  -1925308926|    12RUV|   sentinel-2|POLYGON ((-113.10...|      20231004|    20231103|s3a://wherobots-i...|OutDbGridCoverage...|\n",
      "|sentinel-2-S2MSI2...|   -595744675|    12RVV|   sentinel-2|POLYGON ((-112.05...|      20230409|    20230424|s3a://wherobots-i...|OutDbGridCoverage...|\n",
      "|sentinel-2-S2MSI2...|   -500223965|    12SWF|   sentinel-2|POLYGON ((-111.00...|      20231006|    20231031|s3a://wherobots-i...|OutDbGridCoverage...|\n",
      "|sentinel-2-S2MSI2...|    458765208|    11SQU|   sentinel-2|POLYGON ((-114.80...|      20230120|    20230219|s3a://wherobots-i...|OutDbGridCoverage...|\n",
      "|sentinel-2-S2MSI2...|   -273494174|    12SUA|   sentinel-2|POLYGON ((-113.12...|      20231004|    20231019|s3a://wherobots-i...|OutDbGridCoverage...|\n",
      "|sentinel-2-S2MSI2...|    717848456|    12SVF|   sentinel-2|POLYGON ((-112.12...|      20230701|    20230721|s3a://wherobots-i...|OutDbGridCoverage...|\n",
      "|sentinel-2-S2MSI2...|    561301995|    12SXA|   sentinel-2|POLYGON ((-109.86...|      20230106|    20230131|s3a://wherobots-i...|OutDbGridCoverage...|\n",
      "|sentinel-2-S2MSI2...|   2099779508|    12SXE|   sentinel-2|POLYGON ((-109.88...|      20230708|    20230901|s3a://wherobots-i...|OutDbGridCoverage...|\n",
      "|sentinel-2-S2MSI2...|  -1234869776|    12SWC|   sentinel-2|POLYGON ((-111.00...|      20230109|    20230129|s3a://wherobots-i...|OutDbGridCoverage...|\n",
      "|sentinel-2-S2MSI2...|   -544820101|    12SVE|   sentinel-2|POLYGON ((-112.11...|      20231004|    20231019|s3a://wherobots-i...|OutDbGridCoverage...|\n",
      "|sentinel-2-S2MSI2...|    965185868|    11SQU|   sentinel-2|POLYGON ((-114.80...|      20230709|    20230724|s3a://wherobots-i...|OutDbGridCoverage...|\n",
      "|sentinel-2-S2MSI2...|  -1758698546|    12SXF|   sentinel-2|POLYGON ((-109.87...|      20230409|    20230504|s3a://wherobots-i...|OutDbGridCoverage...|\n",
      "|sentinel-2-S2MSI2...|    871703970|    12SXE|   sentinel-2|POLYGON ((-109.88...|      20230409|    20230504|s3a://wherobots-i...|OutDbGridCoverage...|\n",
      "+--------------------+-------------+---------+-------------+--------------------+--------------+------------+--------------------+--------------------+\n",
      "only showing top 20 rows\n",
      "\n"
     ]
    },
    {
     "name": "stderr",
     "output_type": "stream",
     "text": [
      "                                                                                \r"
     ]
    }
   ],
   "source": [
    "solar_model_inputs_df.cache().show()"
   ]
  },
  {
   "cell_type": "code",
   "execution_count": 21,
   "id": "bba59c2d-6aff-48f2-8f37-d2ad8534fa31",
   "metadata": {},
   "outputs": [],
   "source": [
    "az_high_demand_with_scene_geom = sedona.sql(\"\"\" \n",
    "    WITH base as (\n",
    "        SELECT s.filename, s.geometry as scene_geometry, s.outdb_raster as\n",
    "        outdb_raster, z.ZCTA5CE10 as zip_code_name, z.geometry as zip_geometry, z.ratio as ratio\n",
    "        FROM benchmark.db.solar_satlas_sentinel2_db s, az_ratio z\n",
    "        WHERE ST_Intersects(s.geometry, z.geometry)\n",
    "        AND z.ratio < 1 AND start_datetime > 20231001\n",
    "    )\n",
    "    SELECT DISTINCT filename, outdb_raster from base\"\"\").repartition(num_partitions)"
   ]
  },
  {
   "cell_type": "code",
   "execution_count": 22,
   "id": "6e980b13-08ad-491a-abaf-8a46a8f95799",
   "metadata": {},
   "outputs": [
    {
     "name": "stderr",
     "output_type": "stream",
     "text": [
      "[Stage 248:=============================================>       (173 + 2) / 200]\r"
     ]
    },
    {
     "name": "stdout",
     "output_type": "stream",
     "text": [
      "2200\n",
      "CPU times: user 11.5 ms, sys: 2.05 ms, total: 13.5 ms\n",
      "Wall time: 8.09 s\n"
     ]
    },
    {
     "name": "stderr",
     "output_type": "stream",
     "text": [
      "                                                                                \r"
     ]
    }
   ],
   "source": [
    "%%time\n",
    "print(az_high_demand_with_scene_geom.cache().count())"
   ]
  },
  {
   "cell_type": "code",
   "execution_count": 23,
   "id": "ca1cf1ff-541d-498c-bee3-6a55b398b4ba",
   "metadata": {},
   "outputs": [],
   "source": [
    "az_high_demand_with_scene_geom.createOrReplaceTempView(\"az_high_demand_with_scene\")"
   ]
  },
  {
   "cell_type": "code",
   "execution_count": 24,
   "id": "c12483c8-09f1-4dce-9040-b5b2d14512e8",
   "metadata": {},
   "outputs": [
    {
     "data": {
      "text/plain": [
       "DataFrame[]"
      ]
     },
     "execution_count": 24,
     "metadata": {},
     "output_type": "execute_result"
    }
   ],
   "source": [
    "model_id = 'solar-satlas-sentinel2'\n",
    "\n",
    "sedona.sql(f\"\"\"\n",
    "CREATE OR REPLACE TEMP VIEW segment_fields AS (\n",
    "    SELECT\n",
    "        outdb_raster, \n",
    "        RS_SEGMENT('{model_id}', outdb_raster) AS segment_result\n",
    "    FROM\n",
    "    az_high_demand_with_scene\n",
    ")\n",
    "\"\"\")"
   ]
  },
  {
   "cell_type": "code",
   "execution_count": 25,
   "id": "add47764-1bbe-4c0e-9987-103f634c19ed",
   "metadata": {},
   "outputs": [],
   "source": [
    "predictions_df = sedona.sql(f\"\"\"\n",
    "SELECT\n",
    "  outdb_raster, segment_result.*\n",
    "FROM segment_fields\n",
    "\"\"\")"
   ]
  },
  {
   "cell_type": "code",
   "execution_count": 26,
   "id": "bc7f4df2-c63f-4c90-aed3-cf9ea2d923f8",
   "metadata": {},
   "outputs": [
    {
     "name": "stderr",
     "output_type": "stream",
     "text": [
      "[Stage 298:===================================================>   (15 + 1) / 16]\r"
     ]
    },
    {
     "name": "stdout",
     "output_type": "stream",
     "text": [
      "2200\n",
      "CPU times: user 26 ms, sys: 22.3 ms, total: 48.3 ms\n",
      "Wall time: 4min 6s\n"
     ]
    },
    {
     "name": "stderr",
     "output_type": "stream",
     "text": [
      "                                                                                \r"
     ]
    }
   ],
   "source": [
    "%%time\n",
    "print(predictions_df.cache().count())"
   ]
  },
  {
   "cell_type": "code",
   "execution_count": 27,
   "id": "a4c273ac-4c53-4a86-8291-70c4a3c106ea",
   "metadata": {},
   "outputs": [
    {
     "name": "stderr",
     "output_type": "stream",
     "text": [
      "                                                                                \r"
     ]
    },
    {
     "name": "stdout",
     "output_type": "stream",
     "text": [
      "+--------------------+--------------------+-----------------+\n",
      "|        outdb_raster|    confidence_array|        class_map|\n",
      "+--------------------+--------------------+-----------------+\n",
      "|OutDbGridCoverage...|[0.50000113, 0.50...|{Solar Farm -> 1}|\n",
      "|OutDbGridCoverage...|[0.5000018, 0.500...|{Solar Farm -> 1}|\n",
      "|OutDbGridCoverage...|[0.50000083, 0.50...|{Solar Farm -> 1}|\n",
      "|OutDbGridCoverage...|[0.5000002, 0.5, ...|{Solar Farm -> 1}|\n",
      "|OutDbGridCoverage...|[0.5000053, 0.500...|{Solar Farm -> 1}|\n",
      "|OutDbGridCoverage...|[0.50004023, 0.50...|{Solar Farm -> 1}|\n",
      "|OutDbGridCoverage...|[0.5000153, 0.500...|{Solar Farm -> 1}|\n",
      "|OutDbGridCoverage...|[0.50001156, 0.50...|{Solar Farm -> 1}|\n",
      "|OutDbGridCoverage...|[0.50000346, 0.50...|{Solar Farm -> 1}|\n",
      "|OutDbGridCoverage...|[0.500004, 0.5000...|{Solar Farm -> 1}|\n",
      "|OutDbGridCoverage...|[0.50002456, 0.50...|{Solar Farm -> 1}|\n",
      "|OutDbGridCoverage...|[0.5000042, 0.500...|{Solar Farm -> 1}|\n",
      "|OutDbGridCoverage...|[0.5000466, 0.500...|{Solar Farm -> 1}|\n",
      "|OutDbGridCoverage...|[0.50000036, 0.5,...|{Solar Farm -> 1}|\n",
      "|OutDbGridCoverage...|[0.500008, 0.5000...|{Solar Farm -> 1}|\n",
      "|OutDbGridCoverage...|[0.500005, 0.5000...|{Solar Farm -> 1}|\n",
      "|OutDbGridCoverage...|[0.50000453, 0.50...|{Solar Farm -> 1}|\n",
      "|OutDbGridCoverage...|[0.50000125, 0.50...|{Solar Farm -> 1}|\n",
      "|OutDbGridCoverage...|[0.50000006, 0.5,...|{Solar Farm -> 1}|\n",
      "|OutDbGridCoverage...|[0.5000036, 0.500...|{Solar Farm -> 1}|\n",
      "+--------------------+--------------------+-----------------+\n",
      "only showing top 20 rows\n",
      "\n"
     ]
    }
   ],
   "source": [
    "predictions_df.show()\n",
    "predictions_df.createOrReplaceTempView(\"predictions_df\")"
   ]
  },
  {
   "cell_type": "code",
   "execution_count": null,
   "id": "2e83e9e5-ad7d-42df-bf0b-9219f3ba362d",
   "metadata": {},
   "outputs": [],
   "source": []
  },
  {
   "cell_type": "code",
   "execution_count": null,
   "id": "7b332da6-cf98-4ab9-9c4b-15fef69cd557",
   "metadata": {},
   "outputs": [],
   "source": [
    "predictions_polys_df = sedona.sql(\"\"\"\n",
    "    WITH t AS (\n",
    "        SELECT RS_SEGMENT_TO_GEOMS(outdb_raster, confidence_array, array(1), class_map, 0.65) result\n",
    "        FROM predictions_df\n",
    "    )\n",
    "    SELECT result.* FROM t\n",
    "\"\"\")"
   ]
  },
  {
   "cell_type": "code",
   "execution_count": null,
   "id": "4137ffc4-0fd8-4165-bfad-b1d7e3df2fac",
   "metadata": {},
   "outputs": [],
   "source": [
    "#df_multipolys.show()"
   ]
  },
  {
   "cell_type": "code",
   "execution_count": null,
   "id": "4e385df0-f63b-425a-aad0-7368eec92c59",
   "metadata": {},
   "outputs": [],
   "source": [
    "predictions_polys_df.createOrReplaceTempView(\"predictions_polys\")\n",
    "\n",
    "predictions_polys_df = sedona.sql(\"\"\"\n",
    "    SELECT\n",
    "        class_name[0] AS class, average_pixel_confidence_score[0] AS avg_confidence_score, ST_SetSRID(ST_Collect(geometry), 4326) AS geometry\n",
    "    FROM\n",
    "        predictions_polys\n",
    "\"\"\").filter(\"ST_IsEmpty(geometry) = False\")"
   ]
  },
  {
   "cell_type": "code",
   "execution_count": null,
   "id": "5558b4cf-bd1f-4db8-9564-766cd9ec6a45",
   "metadata": {},
   "outputs": [],
   "source": [
    "predictions_polys_df.cache().count()"
   ]
  },
  {
   "cell_type": "code",
   "execution_count": null,
   "id": "6d2ffc13-df1a-4c30-bb02-6eb213661849",
   "metadata": {},
   "outputs": [],
   "source": [
    "predictions_polys_df.createOrReplaceTempView(\"predictions_polys\")"
   ]
  },
  {
   "cell_type": "code",
   "execution_count": null,
   "id": "5220dc98-0d1e-458b-bc19-7b20152ec7d1",
   "metadata": {},
   "outputs": [],
   "source": [
    "predictions_polys_df.show()"
   ]
  },
  {
   "cell_type": "code",
   "execution_count": null,
   "id": "cce04714-758f-4159-bbcb-1b7cdf1c3a61",
   "metadata": {},
   "outputs": [],
   "source": [
    "SedonaKepler.create_map(predictions_polys_df, name=\"Detected Solar Farms\")"
   ]
  },
  {
   "cell_type": "markdown",
   "id": "088594ed-0b5c-4ec6-a507-47e3db5d62bf",
   "metadata": {},
   "source": []
  },
  {
   "cell_type": "code",
   "execution_count": null,
   "id": "b5efc0f5-7c51-44e7-97d0-8b4fde7949d9",
   "metadata": {},
   "outputs": [],
   "source": []
  },
  {
   "cell_type": "code",
   "execution_count": null,
   "id": "724b4a38-5f78-4755-a6b2-4111b814cb4a",
   "metadata": {},
   "outputs": [],
   "source": [
    "az_solar_zip_codes = sedona.sql(\"\"\"\n",
    "SELECT ST_AreaSpheroid(ST_Union_Aggr(ST_SetSRID(predictions_polys.geometry, 4326))) / 1000000 * 247.10559991919519 AS solar_area, any_value(az_zta5.geometry) AS geometry, ZCTA5CE10\n",
    "FROM predictions_polys JOIN az_zta5\n",
    "WHERE ST_Intersects(az_zta5.geometry, predictions_polys.geometry)\n",
    "GROUP BY ZCTA5CE10 \n",
    "ORDER BY solar_area DESC\n",
    "\"\"\")"
   ]
  },
  {
   "cell_type": "code",
   "execution_count": null,
   "id": "ea2693c7-79c2-4b1b-a5b1-ef2db90200e6",
   "metadata": {},
   "outputs": [],
   "source": [
    "az_solar_zip_codes.show()"
   ]
  },
  {
   "cell_type": "code",
   "execution_count": null,
   "id": "2cfa0189-762e-4e40-9c24-6dd0c0e50c71",
   "metadata": {},
   "outputs": [],
   "source": [
    "az_solar_zip_codes.count()"
   ]
  },
  {
   "cell_type": "code",
   "execution_count": null,
   "id": "e98f9df7-4e5d-439d-bbdc-08e65557187f",
   "metadata": {},
   "outputs": [],
   "source": [
    "az_solar_zip_codes.createOrReplaceTempView(\"az_solar_zip_codes\")"
   ]
  },
  {
   "cell_type": "code",
   "execution_count": null,
   "id": "2effbbd6-9c0a-4735-b2e7-93f6f5e9b1ec",
   "metadata": {},
   "outputs": [],
   "source": [
    "SedonaKepler.create_map(az_solar_zip_codes)"
   ]
  },
  {
   "cell_type": "code",
   "execution_count": null,
   "id": "810e5e69-5f28-4c21-b302-ec3de797532d",
   "metadata": {},
   "outputs": [],
   "source": [
    "sedona.sql(\"\"\"\n",
    "\n",
    "SELECT MIN(ratio), MAX(ratio) \n",
    "FROM az_ratio\n",
    "\"\"\").show()\n",
    "\n",
    "#(max - min )/ max"
   ]
  },
  {
   "cell_type": "code",
   "execution_count": null,
   "id": "55cbccd8-77fe-4db3-b6af-36f955f0ae4d",
   "metadata": {},
   "outputs": [],
   "source": [
    "# join az_ratio with az_solar_zip codes\n",
    "\n",
    "final_az_scores = sedona.sql(\"\"\"\n",
    "WITH min_max AS (\n",
    "  SELECT MIN(ratio) AS ratio_min, MAX(ratio) AS ratio_max\n",
    "  FROM az_ratio\n",
    ")\n",
    "\n",
    "\n",
    "SELECT \n",
    "    (solar_area / (ST_AreaSpheroid(az_solar_zip_codes.geometry)/ 1000000 * 247.10559991919519)) + (1 - ( (ratio - 0.0 ) / (14.0 - 0)   )) AS score, \n",
    "    (1 - (ratio / 14)) AS temp_score,\n",
    "    ratio,\n",
    "    az_solar_zip_codes.ZCTA5CE10 AS ZCTA5CE10,\n",
    "    az_solar_zip_codes.geometry AS geometry\n",
    "FROM az_ratio\n",
    "JOIN az_solar_zip_codes\n",
    "WHERE az_ratio.ZCTA5CE10 = az_solar_zip_codes.ZCTA5CE10\n",
    "ORDER BY score DESC\n",
    "\"\"\")"
   ]
  },
  {
   "cell_type": "code",
   "execution_count": null,
   "id": "1308c5e5-7e20-43fb-9be1-31bd5815b925",
   "metadata": {},
   "outputs": [],
   "source": [
    "final_az_scores.cache().show()"
   ]
  },
  {
   "cell_type": "code",
   "execution_count": null,
   "id": "e8970910-ad35-445b-93a9-7f2f621bcdff",
   "metadata": {},
   "outputs": [],
   "source": [
    "final_az_scores.createOrReplaceTempView(\"final_scores\")"
   ]
  },
  {
   "cell_type": "code",
   "execution_count": null,
   "id": "fc9e250e-ca0c-4f41-800f-96c04e7b68d8",
   "metadata": {},
   "outputs": [],
   "source": [
    "final_map = SedonaKepler.create_map(final_az_scores, \"EV Site Selection Scores\")\n",
    "#SedonaKepler.add_df(final_map, stations_df, \"Existing EV Charging stations\")\n",
    "final_map"
   ]
  },
  {
   "cell_type": "code",
   "execution_count": null,
   "id": "d1be5df8-7ccb-4835-84df-988f74a7a275",
   "metadata": {},
   "outputs": [],
   "source": [
    "# Find ev chargers in priority areas\n",
    "\n",
    "final_az_chargers = sedona.sql(\"\"\"\n",
    "SELECT stations.geometry, stations.id AS station_id\n",
    "FROM stations, final_scores\n",
    "WHERE ST_Contains(final_scores.geometry, stations.geometry)\n",
    "\"\"\")\n",
    "\n",
    "final_az_chargers.cache().count()"
   ]
  },
  {
   "cell_type": "code",
   "execution_count": null,
   "id": "ff15cd69-ed31-41bf-a407-2f1b9c277de5",
   "metadata": {},
   "outputs": [],
   "source": [
    "# Find all solar farms in final "
   ]
  },
  {
   "cell_type": "markdown",
   "id": "1ea42bdf-e3f5-4b8d-99e7-a63de1d20bc6",
   "metadata": {},
   "source": [
    "## Write Analysis Results AS PMTiles"
   ]
  },
  {
   "cell_type": "code",
   "execution_count": null,
   "id": "09864b0b-63b5-4ac1-a8a1-3e19a8ed5929",
   "metadata": {},
   "outputs": [],
   "source": [
    "# write final_az_scores to vector tiles\n",
    "# write existing_ev chargers to vector tiles\n",
    "# write retail stores to vector tiles\n",
    "\n",
    "\n",
    "from wherobots import vtiles\n",
    "from pyspark.sql.functions import lit\n",
    "\n",
    "\n",
    "zip_tiles_path = os.getenv(\"USER_S3_PATH\") + \"final_az_suitability.pmtiles\"\n",
    "ev_chargers_path = os.getenv(\"USER_S3_PATH\") + \"final_az_chargers.pmtiles\"\n",
    "\n",
    "final_az_scores_layers = final_az_scores.withColumn(\"layer\", lit('Suitability Results'))\n",
    "final_az_chargers_layers = final_az_chargers.withColumn(\"layer\", lit('Existing Chargers'))\n",
    "\n",
    "#tiles_df = vtiles.generate(final_az_scores_layers)\n",
    "#tiles_df.write.mode(\"overwrite\").format(\"parquet\").save(os.getenv(\"USER_S3_PATH\") + \"/tiles.parquet\")\n",
    "\n",
    "#final_az_chargers_layers.write.mode(\"overwrite\").format(\"parquet\").save(os.getenv(\"USER_S3_PATH\") + \"/tiles.parquet\")\n",
    "\n",
    "#vtiles.write_pmtiles(tiles_df, zip_tiles_path, features_df=final_az_scores_layers)\n",
    "\n",
    "charger_tiles_df = vtiles.generate(final_az_chargers_layers)\n",
    "charger_tiles_df.write.mode(\"overwrite\").format(\"parquet\").save(os.getenv(\"USER_S3_PATH\") + \"/charger_tiles.parquet\")\n",
    "\n",
    "#vtiles.write_pmtiles(charger_tiles_df, ev_chargers_path, features_df=final_az_chargers_layers)\n",
    "\n",
    "#vtiles.show_pmtiles([zip_tiles_path, ev_chargers_path])\n",
    "\n",
    "#az_zips_df = az_zips_df.withColumn('layer', lit('Layer 1'))\n",
    "#zip_tiles_df = vtiles.generate(az_zips_df)\n",
    "#vtiles.write_pmtiles(zip_tiles_df, zip_tiles_path, features_df=az_zips_df)\n",
    "\n",
    "#vtiles.show_pmtiles(zip_tiles_path)"
   ]
  },
  {
   "cell_type": "code",
   "execution_count": null,
   "id": "b0595233-d70b-4799-b71f-a2aa88efeab9",
   "metadata": {},
   "outputs": [],
   "source": [
    "az_high_demand_df = sedona.sql(\"\"\"\n",
    "FROM wherobots_open_data.overture_2024_02_15.places_place places \n",
    "JOIN az_zta5\n",
    "WHERE ST_Intersects(az_zta5.geometry, places.geometry)\n",
    "AND places.categories.main = \"retail\"\n",
    "GROUP BY ZCTA5CE10 \n",
    "ORDER BY num DESC\n",
    "\"\"\")"
   ]
  }
 ],
 "metadata": {
  "kernelspec": {
   "display_name": "Python 3 (ipykernel)",
   "language": "python",
   "name": "python3"
  },
  "language_info": {
   "codemirror_mode": {
    "name": "ipython",
    "version": 3
   },
   "file_extension": ".py",
   "mimetype": "text/x-python",
   "name": "python",
   "nbconvert_exporter": "python",
   "pygments_lexer": "ipython3",
   "version": "3.10.11"
  }
 },
 "nbformat": 4,
 "nbformat_minor": 5
}
