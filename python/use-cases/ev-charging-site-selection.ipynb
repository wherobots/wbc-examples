{
 "cells": [
  {
   "cell_type": "markdown",
   "id": "41a939b8-0dae-4b9d-a6fa-1618e9379dfb",
   "metadata": {},
   "source": [
    "## Electric Vehicle Charging Station Site Selection Analysis\n",
    "\n",
    "This notebook demonstrates a workflow for identifying potential areas for new electric vehicle (EV) charging station development using WherobotsDB and WherobotsAI raster inference functionality. The workflow is based on:\n",
    "\n",
    "* Identifying existing EV charging station infrastructure\n",
    "* Proximity to retail stores as a proxy for demand, and\n",
    "* Proximity to solar farms\n",
    "    \n",
    "\n",
    "Existing charing station infrastructure and retail store point of interest data is determined using public data sources, while existing solar farm infrastructure is identified using Wherobots AI raster inference. By using a machine learning model trained on satellite imagery we can identify solar farms as an input to the analysis"
   ]
  },
  {
   "cell_type": "code",
   "execution_count": 1,
   "id": "2def2e2f-b05c-4bd9-bbad-fe011a9ffec6",
   "metadata": {},
   "outputs": [
    {
     "name": "stderr",
     "output_type": "stream",
     "text": [
      "Warning: Ignoring non-Spark config property: sedona.join.autoBroadcastJoinThreshold\n",
      "24/05/31 19:10:48 WARN NativeCodeLoader: Unable to load native-hadoop library for your platform... using builtin-java classes where applicable\n",
      "Setting default log level to \"WARN\".\n",
      "To adjust logging level use sc.setLogLevel(newLevel). For SparkR, use setLogLevel(newLevel).\n",
      "24/05/31 19:10:49 WARN MetricsConfig: Cannot locate configuration: tried hadoop-metrics2-s3a-file-system.properties,hadoop-metrics2.properties\n",
      "24/05/31 19:10:50 WARN S3ABlockOutputStream: Application invoked the Syncable API against stream writing to qjnq6fcbf1/spark-logs/spark-bdb3d12e4f704a19983143e0d002ef80.inprogress. This is unsupported\n",
      "24/05/31 19:11:27 WARN SedonaContext: Python files are not set. Sedona will not pre-load Python UDFs.\n"
     ]
    }
   ],
   "source": [
    "from sedona.spark import *\n",
    "\n",
    "config = SedonaContext.builder().config(\"spark.hadoop.fs.s3a.bucket.wherobots-examples.aws.credentials.provider\",\"org.apache.hadoop.fs.s3a.AnonymousAWSCredentialsProvider\").config(\"spark.driver.maxResultSize\", \"10g\").config(\"sedona.join.autoBroadcastJoinThreshold\", \"-1\").getOrCreate()\n",
    "sedona = SedonaContext.create(config)"
   ]
  },
  {
   "cell_type": "markdown",
   "id": "d6126582-c1f0-4099-ba99-5e537f0bbb43",
   "metadata": {},
   "source": [
    "## Identify Area Of Interest\n",
    "\n",
    "We will use US Census Zip Code Tabulated Areas (ZCTA) to identify regions for potential EV charging station development. We will confine our analysis to the state of Arizona.\n",
    "\n",
    "Note that we are using the `ST_Intersects` spatial predicate function to find ZCTAs that intersect with the border of Arizona rather than `ST_Contains`. This is because some ZCTAs extend beyond the border of Arizona and can lie within multiple states. This will extend our analysis slightly beyond the borders of Arizona."
   ]
  },
  {
   "cell_type": "code",
   "execution_count": 2,
   "id": "e63a9ca8-4f14-4b33-be75-e0b0218c2646",
   "metadata": {},
   "outputs": [],
   "source": [
    "az_zips_df = sedona.sql(\"\"\"\n",
    "WITH arizona AS ( \n",
    "    SELECT localityArea.geometry AS geometry\n",
    "    FROM wherobots_open_data.overture_2024_02_15.admins_locality locality \n",
    "    JOIN wherobots_open_data.overture_2024_02_15.admins_localityArea localityArea \n",
    "    ON locality.id = localityArea.localityId\n",
    "    WHERE locality.names.primary = \"Arizona\" AND locality.localityType = \"state\" \n",
    ")\n",
    "\n",
    "SELECT zta5.geometry AS geometry, ZCTA5CE10 \n",
    "FROM wherobots_pro_data.us_census.zipcode zta5, arizona\n",
    "WHERE ST_Intersects(arizona.geometry, zta5.geometry)\n",
    "\"\"\")"
   ]
  },
  {
   "cell_type": "code",
   "execution_count": 3,
   "id": "c7750b24-fc49-4da5-8f2f-ae58b3963f21",
   "metadata": {},
   "outputs": [],
   "source": [
    "az_zips_df.createOrReplaceTempView(\"az_zta5\")"
   ]
  },
  {
   "cell_type": "code",
   "execution_count": 4,
   "id": "26669a08-b194-4346-879b-804a6d11d12c",
   "metadata": {},
   "outputs": [
    {
     "name": "stdout",
     "output_type": "stream",
     "text": [
      "User Guide: https://docs.kepler.gl/docs/keplergl-jupyter\n"
     ]
    },
    {
     "name": "stderr",
     "output_type": "stream",
     "text": [
      "SLF4J: Failed to load class \"org.slf4j.impl.StaticLoggerBinder\".\n",
      "SLF4J: Defaulting to no-operation (NOP) logger implementation\n",
      "SLF4J: See http://www.slf4j.org/codes.html#StaticLoggerBinder for further details.\n",
      "                                                                                \r"
     ]
    },
    {
     "data": {
      "application/vnd.jupyter.widget-view+json": {
       "model_id": "d1c575a875b7407889bad76c45e7c652",
       "version_major": 2,
       "version_minor": 0
      },
      "text/plain": [
       "KeplerGl(data={'Arizona ZCTAs': {'index': [0, 1, 2, 3, 4, 5, 6, 7, 8, 9, 10, 11, 12, 13, 14, 15, 16, 17, 18, 1…"
      ]
     },
     "metadata": {},
     "output_type": "display_data"
    }
   ],
   "source": [
    "SedonaKepler.create_map(az_zips_df, name=\"Arizona ZCTAs\")"
   ]
  },
  {
   "cell_type": "markdown",
   "id": "1a6c64de-2a28-40dc-b549-03932b141944",
   "metadata": {},
   "source": [
    "Next, we will identify existing EV charging infrastructure within each ZCTA as an input to our analysis."
   ]
  },
  {
   "cell_type": "markdown",
   "id": "d72daaa2-14cc-4d31-84ae-b3acf95f0f4b",
   "metadata": {},
   "source": [
    "## Existing EV Charging Infrastructure\n",
    "\n",
    "Using data from [Open Charge Map](https://openchargemap.org/site) we calculate the number of EV charging stations in each ZCTA to give us a sense of existing EV charging infrastructure.\n"
   ]
  },
  {
   "cell_type": "code",
   "execution_count": 6,
   "id": "f2d590eb-a060-4031-b26d-05fb663ca59a",
   "metadata": {},
   "outputs": [
    {
     "name": "stderr",
     "output_type": "stream",
     "text": [
      "                                                                                \r"
     ]
    }
   ],
   "source": [
    "stations_df = sedona.read.format(\"geoparquet\").load(\"s3://wherobots-examples/data/examples/openchargemap/world.parquet\")"
   ]
  },
  {
   "cell_type": "code",
   "execution_count": 9,
   "id": "ae43efb3-f0ef-4290-a3df-77e5c238503c",
   "metadata": {},
   "outputs": [],
   "source": [
    "stations_df.createOrReplaceTempView(\"stations\")"
   ]
  },
  {
   "cell_type": "code",
   "execution_count": 8,
   "id": "17b854c6-ad58-4c25-b228-596ca7692cfe",
   "metadata": {},
   "outputs": [
    {
     "name": "stdout",
     "output_type": "stream",
     "text": [
      "User Guide: https://docs.kepler.gl/docs/keplergl-jupyter\n"
     ]
    },
    {
     "name": "stderr",
     "output_type": "stream",
     "text": [
      "                                                                                \r"
     ]
    },
    {
     "data": {
      "application/vnd.jupyter.widget-view+json": {
       "model_id": "e5d25818440d4fe69fbcd22147f8e805",
       "version_major": 2,
       "version_minor": 0
      },
      "text/plain": [
       "KeplerGl(data={'EV Charging Stations': {'index': [0, 1, 2, 3, 4, 5, 6, 7, 8, 9, 10, 11, 12, 13, 14, 15, 16, 17…"
      ]
     },
     "metadata": {},
     "output_type": "display_data"
    }
   ],
   "source": [
    "SedonaKepler.create_map(stations_df.sample(0.01), name=\"EV Charging Stations\")"
   ]
  },
  {
   "cell_type": "markdown",
   "id": "63083dd2-7013-4b55-8fdd-dd091344ae91",
   "metadata": {},
   "source": [
    "Count of existing EV charging stations per ZCTA."
   ]
  },
  {
   "cell_type": "code",
   "execution_count": 10,
   "id": "cda0ed80-40d9-48e5-a7d4-1e5e26a302bd",
   "metadata": {},
   "outputs": [],
   "source": [
    "az_stations_df = sedona.sql(\"\"\"\n",
    "SELECT COUNT(*) AS num, any_value(az_zta5.geometry) AS geometry, ZCTA5CE10\n",
    "FROM stations JOIN az_zta5\n",
    "WHERE ST_Intersects(az_zta5.geometry, stations.geometry)\n",
    "GROUP BY ZCTA5CE10 \n",
    "ORDER BY num DESC\n",
    "\"\"\")"
   ]
  },
  {
   "cell_type": "code",
   "execution_count": 27,
   "id": "ed5a22b4-587c-4875-bb13-a79ebc051409",
   "metadata": {},
   "outputs": [],
   "source": [
    "az_stations_df.createOrReplaceTempView(\"az_stations\")"
   ]
  },
  {
   "cell_type": "code",
   "execution_count": 11,
   "id": "6ac2882e-250d-45b2-9f8c-59b16994ed7d",
   "metadata": {},
   "outputs": [
    {
     "name": "stderr",
     "output_type": "stream",
     "text": [
      "                                                                                \r"
     ]
    },
    {
     "data": {
      "text/plain": [
       "218"
      ]
     },
     "execution_count": 11,
     "metadata": {},
     "output_type": "execute_result"
    }
   ],
   "source": [
    "az_stations_df.count()"
   ]
  },
  {
   "cell_type": "code",
   "execution_count": 12,
   "id": "97c44723-0d4e-47ee-b31a-fad0ff07b25c",
   "metadata": {},
   "outputs": [
    {
     "name": "stderr",
     "output_type": "stream",
     "text": [
      "[Stage 71:===========================================>              (3 + 1) / 4]\r"
     ]
    },
    {
     "name": "stdout",
     "output_type": "stream",
     "text": [
      "+---+--------------------+---------+\n",
      "|num|            geometry|ZCTA5CE10|\n",
      "+---+--------------------+---------+\n",
      "| 51|POLYGON ((-111.97...|    85281|\n",
      "| 36|POLYGON ((-111.95...|    85251|\n",
      "| 33|POLYGON ((-111.92...|    85260|\n",
      "| 28|POLYGON ((-112.07...|    85004|\n",
      "| 27|POLYGON ((-112.14...|    85226|\n",
      "| 26|POLYGON ((-112.07...|    86336|\n",
      "| 22|POLYGON ((-111.97...|    85054|\n",
      "| 22|POLYGON ((-112.05...|    85016|\n",
      "| 20|POLYGON ((-111.89...|    85286|\n",
      "| 19|POLYGON ((-112.06...|    85034|\n",
      "| 17|POLYGON ((-111.97...|    85254|\n",
      "| 17|POLYGON ((-111.69...|    85212|\n",
      "| 16|POLYGON ((-111.75...|    85206|\n",
      "| 15|MULTIPOLYGON (((-...|    85282|\n",
      "| 15|POLYGON ((-112.28...|    85305|\n",
      "| 15|POLYGON ((-111.92...|    85250|\n",
      "| 15|POLYGON ((-110.96...|    85719|\n",
      "| 15|POLYGON ((-113.11...|    84767|\n",
      "| 15|POLYGON ((-111.95...|    86001|\n",
      "| 15|POLYGON ((-111.94...|    85248|\n",
      "+---+--------------------+---------+\n",
      "only showing top 20 rows\n",
      "\n"
     ]
    },
    {
     "name": "stderr",
     "output_type": "stream",
     "text": [
      "                                                                                \r"
     ]
    }
   ],
   "source": [
    "az_stations_df.show()"
   ]
  },
  {
   "cell_type": "code",
   "execution_count": 13,
   "id": "362f702d-680a-4bcd-8831-ea88abc7369f",
   "metadata": {},
   "outputs": [
    {
     "name": "stdout",
     "output_type": "stream",
     "text": [
      "User Guide: https://docs.kepler.gl/docs/keplergl-jupyter\n"
     ]
    },
    {
     "name": "stderr",
     "output_type": "stream",
     "text": [
      "                                                                                \r"
     ]
    },
    {
     "data": {
      "application/vnd.jupyter.widget-view+json": {
       "model_id": "cf8c61b04ae249898f2560b5ef3164ff",
       "version_major": 2,
       "version_minor": 0
      },
      "text/plain": [
       "KeplerGl(data={'unnamed': {'index': [0, 1, 2, 3, 4, 5, 6, 7, 8, 9, 10, 11, 12, 13, 14, 15, 16, 17, 18, 19, 20,…"
      ]
     },
     "metadata": {},
     "output_type": "display_data"
    }
   ],
   "source": [
    "SedonaKepler.create_map(az_stations_df)"
   ]
  },
  {
   "cell_type": "code",
   "execution_count": null,
   "id": "60cdad21-8271-4b2d-af90-67e47570531c",
   "metadata": {},
   "outputs": [],
   "source": []
  },
  {
   "cell_type": "markdown",
   "id": "7d66bd0a-82c3-4223-970f-39a4a1041106",
   "metadata": {},
   "source": [
    "## Arizona Retail Stores\n",
    "\n",
    "Next, we'll use retail stores per ZCTA as a proxy for demand. Using the Overture Maps Foundation public point of interest data set."
   ]
  },
  {
   "cell_type": "code",
   "execution_count": 14,
   "id": "2cff6438-9956-4e8d-9560-b669ccec6a9a",
   "metadata": {},
   "outputs": [
    {
     "data": {
      "text/plain": [
       "53622897"
      ]
     },
     "execution_count": 14,
     "metadata": {},
     "output_type": "execute_result"
    }
   ],
   "source": [
    "sedona.table(\"wherobots_open_data.overture_2024_02_15.places_place\").count()"
   ]
  },
  {
   "cell_type": "code",
   "execution_count": 15,
   "id": "c901e4d1-820c-44e8-b5e8-fd12b1a71a09",
   "metadata": {},
   "outputs": [],
   "source": [
    "az_retail_df = sedona.sql(\"\"\"\n",
    "SELECT COUNT(*) AS num, any_value(az_zta5.geometry) AS geometry, ZCTA5CE10\n",
    "FROM wherobots_open_data.overture_2024_02_15.places_place places \n",
    "JOIN az_zta5\n",
    "WHERE ST_Intersects(az_zta5.geometry, places.geometry)\n",
    "AND places.categories.main = \"retail\"\n",
    "GROUP BY ZCTA5CE10 \n",
    "ORDER BY num DESC\n",
    "\"\"\")"
   ]
  },
  {
   "cell_type": "code",
   "execution_count": 21,
   "id": "92aa1eb7-c3a6-4336-baee-21937adabac1",
   "metadata": {},
   "outputs": [],
   "source": [
    "az_retail_df.createOrReplaceTempView(\"az_retail\")"
   ]
  },
  {
   "cell_type": "code",
   "execution_count": 16,
   "id": "513247ce-9dd0-4d92-bac7-747db27ea296",
   "metadata": {},
   "outputs": [
    {
     "name": "stderr",
     "output_type": "stream",
     "text": [
      "                                                                                \r"
     ]
    },
    {
     "name": "stdout",
     "output_type": "stream",
     "text": [
      "+---+--------------------+---------+\n",
      "|num|            geometry|ZCTA5CE10|\n",
      "+---+--------------------+---------+\n",
      "| 22|POLYGON ((-112.14...|    85226|\n",
      "| 20|POLYGON ((-111.92...|    85260|\n",
      "| 15|POLYGON ((-111.95...|    85251|\n",
      "| 15|POLYGON ((-111.86...|    85210|\n",
      "| 15|POLYGON ((-111.97...|    85284|\n",
      "+---+--------------------+---------+\n",
      "only showing top 5 rows\n",
      "\n"
     ]
    }
   ],
   "source": [
    "az_retail_df.cache().show(5)"
   ]
  },
  {
   "cell_type": "code",
   "execution_count": 18,
   "id": "b82e8981-14dd-4b81-856e-827f41b53ace",
   "metadata": {},
   "outputs": [
    {
     "name": "stdout",
     "output_type": "stream",
     "text": [
      "User Guide: https://docs.kepler.gl/docs/keplergl-jupyter\n"
     ]
    },
    {
     "data": {
      "application/vnd.jupyter.widget-view+json": {
       "model_id": "9ba69d458fd54d41928826712fe233c4",
       "version_major": 2,
       "version_minor": 0
      },
      "text/plain": [
       "KeplerGl(data={'unnamed': {'index': [0, 1, 2, 3, 4, 5, 6, 7, 8, 9, 10, 11, 12, 13, 14, 15, 16, 17, 18, 19, 20,…"
      ]
     },
     "metadata": {},
     "output_type": "display_data"
    }
   ],
   "source": [
    "SedonaKepler.create_map(az_retail_df)"
   ]
  },
  {
   "cell_type": "markdown",
   "id": "e12b462f-cfd0-48a4-afd9-ba2d30f1cacd",
   "metadata": {},
   "source": [
    "## Combining Retail Stores & Existing EV Chargers\n",
    "\n",
    "Before we apply WherobotsAI raster inference to identify solar farms in the area, we'll use existing EV chargers and retail stores to identify ZCTA with high demand and low existing EV charging infrastructure by computing the ratio of retail stores to EV chargers in each ZCTA.\n"
   ]
  },
  {
   "cell_type": "code",
   "execution_count": 37,
   "id": "8fd3c934-d362-4e17-bf82-e4105af037d4",
   "metadata": {},
   "outputs": [],
   "source": [
    "az_ratio = sedona.sql(\"\"\"\n",
    "SELECT \n",
    "    coalesce(az_stations.num, 0) / coalesce(az_retail.num, 1) AS ratio, \n",
    "    coalesce(az_stations.geometry, az_retail.geometry) AS geometry, \n",
    "    coalesce(az_stations.ZCTA5CE10, az_retail.ZCTA5CE10) AS ZCTA5CE10\n",
    "FROM az_retail FULL OUTER JOIN az_stations\n",
    "ON az_retail.ZCTA5CE10 = az_stations.ZCTA5CE10\n",
    "ORDER BY ratio ASC\n",
    "\"\"\")"
   ]
  },
  {
   "cell_type": "code",
   "execution_count": 38,
   "id": "648dd483-e6e5-46d3-a3ba-b33da007118e",
   "metadata": {},
   "outputs": [
    {
     "name": "stderr",
     "output_type": "stream",
     "text": [
      "                                                                                \r"
     ]
    },
    {
     "name": "stdout",
     "output_type": "stream",
     "text": [
      "+-----+--------------------+---------+\n",
      "|ratio|            geometry|ZCTA5CE10|\n",
      "+-----+--------------------+---------+\n",
      "|  0.0|POLYGON ((-112.24...|    85033|\n",
      "|  0.0|POLYGON ((-111.84...|    85249|\n",
      "|  0.0|POLYGON ((-113.33...|    85354|\n",
      "|  0.0|MULTIPOLYGON (((-...|    85375|\n",
      "|  0.0|POLYGON ((-114.81...|    85349|\n",
      "|  0.0|POLYGON ((-112.64...|    86052|\n",
      "|  0.0|POLYGON ((-111.54...|    85735|\n",
      "|  0.0|POLYGON ((-113.81...|    85360|\n",
      "|  0.0|POLYGON ((-113.33...|    86305|\n",
      "|  0.0|POLYGON ((-110.75...|    85631|\n",
      "|  0.0|POLYGON ((-113.16...|    85332|\n",
      "|  0.0|POLYGON ((-109.53...|    86512|\n",
      "|  0.0|POLYGON ((-111.05...|    85539|\n",
      "|  0.0|POLYGON ((-111.68...|    85544|\n",
      "|  0.0|POLYGON ((-113.33...|    86321|\n",
      "|  0.0|POLYGON ((-112.79...|    85361|\n",
      "|  0.0|POLYGON ((-112.54...|    86323|\n",
      "|  0.0|POLYGON ((-112.20...|    85083|\n",
      "|  0.0|POLYGON ((-109.10...|    86515|\n",
      "|  0.0|POLYGON ((-110.19...|    85939|\n",
      "+-----+--------------------+---------+\n",
      "only showing top 20 rows\n",
      "\n"
     ]
    }
   ],
   "source": [
    "az_ratio.show()"
   ]
  },
  {
   "cell_type": "code",
   "execution_count": 39,
   "id": "023916cc-a602-4581-9805-ae8d33ce0313",
   "metadata": {},
   "outputs": [
    {
     "name": "stdout",
     "output_type": "stream",
     "text": [
      "User Guide: https://docs.kepler.gl/docs/keplergl-jupyter\n"
     ]
    },
    {
     "name": "stderr",
     "output_type": "stream",
     "text": [
      "                                                                                \r"
     ]
    },
    {
     "data": {
      "application/vnd.jupyter.widget-view+json": {
       "model_id": "71e7979d0a6f4299a6de293b273f7946",
       "version_major": 2,
       "version_minor": 0
      },
      "text/plain": [
       "KeplerGl(data={'unnamed': {'index': [0, 1, 2, 3, 4, 5, 6, 7, 8, 9, 10, 11, 12, 13, 14, 15, 16, 17, 18, 19, 20,…"
      ]
     },
     "metadata": {},
     "output_type": "display_data"
    }
   ],
   "source": [
    "SedonaKepler.create_map(az_ratio)"
   ]
  },
  {
   "cell_type": "markdown",
   "id": "f310c396-e92b-4e5b-a48b-2ec396e15d71",
   "metadata": {},
   "source": [
    "ZCTAs with a low \"ratio\" are potential candidates for additional EV charging stations. The final input to our analysis is proximity to solar farms, which we will identify using WherobotsAI raster inference."
   ]
  },
  {
   "cell_type": "markdown",
   "id": "63171d41-3551-4cf6-aa8e-831118db320c",
   "metadata": {},
   "source": [
    "## WherobotsAI Raster Inference\n",
    "\n",
    "TODO: identify solar farms within ZCTAs, prioritize low \"ratio\" ZCTAs\n"
   ]
  },
  {
   "cell_type": "code",
   "execution_count": null,
   "id": "8f551f96-9bd1-469c-8330-bb8b6b719f73",
   "metadata": {},
   "outputs": [],
   "source": []
  }
 ],
 "metadata": {
  "kernelspec": {
   "display_name": "Python 3 (ipykernel)",
   "language": "python",
   "name": "python3"
  },
  "language_info": {
   "codemirror_mode": {
    "name": "ipython",
    "version": 3
   },
   "file_extension": ".py",
   "mimetype": "text/x-python",
   "name": "python",
   "nbconvert_exporter": "python",
   "pygments_lexer": "ipython3",
   "version": "3.10.11"
  }
 },
 "nbformat": 4,
 "nbformat_minor": 5
}
