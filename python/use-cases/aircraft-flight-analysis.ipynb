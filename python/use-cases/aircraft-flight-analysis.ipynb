{
 "cells": [
  {
   "cell_type": "markdown",
   "id": "12698138-c1fe-4bf1-8a5c-33ea29833a0d",
   "metadata": {},
   "source": [
    "<img src=\"https://wherobots.com/wp-content/uploads/2023/12/Inline-Blue_Black_onWhite@3x.png\" alt=\"Wherobots Logo\" width=\"900\"/>\n",
    "\n",
    "\n",
    "## Flights Demo\n",
    "\n",
    "This notebook demonstrates using Wherobots Cloud and WherobotsDB to analyze aircraft flights using public ADS-B data and NOAA severe weather event data. Along the way we introduce the types of spatial queries available with WherobotsDB including spatial range queries, spatial kNN, and spatial joins using Spatial SQL, geospatial visualization options, working with with various files formats include GeoParquet, GeoTiff, ShapeFile, more. \n",
    "\n",
    "*Note: This notebook should be run on Wherobots Cloud using a runtime with at least 40+ cores and 100GB+ RAM, such as the New York runtime.*\n",
    "\n",
    "\n",
    "<img src=\"https://wherobots.com/wp-content/uploads/2024/04/adsb_flights.png\" alt=\"ADS-B Flights\" width=\"900\"/>\n",
    "\n",
    "\n",
    "**Flights Traces**\n",
    "\n",
    "* Exploratory Data Analysis\n",
    "* Spatial queries & performance\n",
    "\n",
    "**Historical Analysis Of Severe Weather Impact On Flights**\n",
    "\n",
    "* NOAA severe weather events dataset\n",
    "* Extracting flight routes from traces\n",
    "* Joining weather events and flights\n",
    "\n",
    "**Weather Forecast Impact**\n",
    "\n",
    "* NOAA NEXRAD Doppler radar data\n",
    "* Raster / vector spatial join"
   ]
  },
  {
   "cell_type": "markdown",
   "id": "800c74bb-7414-4c4d-a835-95b7389ca5bf",
   "metadata": {},
   "source": [
    "## Initial Configuration"
   ]
  },
  {
   "cell_type": "code",
   "execution_count": 1,
   "id": "798ba497-32a8-4159-a314-ca83c0114e25",
   "metadata": {},
   "outputs": [],
   "source": [
    "from sedona.spark import *"
   ]
  },
  {
   "cell_type": "code",
   "execution_count": 2,
   "id": "f65a4406-ac0c-4196-868f-c288ca6dff29",
   "metadata": {},
   "outputs": [
    {
     "name": "stderr",
     "output_type": "stream",
     "text": [
      "Warning: Ignoring non-Spark config property: sedona.join.optimizationmode\n",
      "24/04/23 18:05:55 WARN NativeCodeLoader: Unable to load native-hadoop library for your platform... using builtin-java classes where applicable\n",
      "Setting default log level to \"WARN\".\n",
      "To adjust logging level use sc.setLogLevel(newLevel). For SparkR, use setLogLevel(newLevel).\n",
      "24/04/23 18:05:57 WARN MetricsConfig: Cannot locate configuration: tried hadoop-metrics2-s3a-file-system.properties,hadoop-metrics2.properties\n",
      "24/04/23 18:05:58 WARN S3ABlockOutputStream: Application invoked the Syncable API against stream writing to qjnq6fcbf1/spark-logs/spark-78102d0e6dd94a6ab8cdab234fa262cc.inprogress. This is unsupported\n",
      "24/04/23 18:06:34 WARN SedonaContext: Python files are not set. Sedona will not pre-load Python UDFs.\n"
     ]
    }
   ],
   "source": [
    "# spark.conf.set(\"sedona.join.optimizationmode\", \"all\")\n",
    "config = SedonaContext.builder().config(\"spark.hadoop.fs.s3a.bucket.wherobots-examples.aws.credentials.provider\",\"org.apache.hadoop.fs.s3a.AnonymousAWSCredentialsProvider\").config(\"sedona.join.optimizationmode\", \"all\").getOrCreate()\n",
    "sedona = SedonaContext.create(config)"
   ]
  },
  {
   "cell_type": "code",
   "execution_count": null,
   "id": "a8a76b95-0116-4994-a07d-2d7ae83f6d01",
   "metadata": {},
   "outputs": [],
   "source": []
  },
  {
   "cell_type": "markdown",
   "id": "f802b1ac-0c1a-48c4-be92-ca689d850da5",
   "metadata": {},
   "source": [
    "## Flight Traces\n",
    "\n",
    "The ABS-B flight observation data comes from [ADSB.lol](https://www.adsb.lol/) which provides publicly available daily updates of crowd-sourced flight tracking data. Note that the data can be somewhat incomplete where ground-based data collection coverage is limited. We load one month of world-wide aircraft trace data which represents just over 1.1 billion point observations. We've prepared this data in GeoParquet format which is an extension to Apache Parquet that includes optimizations for working with spatial data."
   ]
  },
  {
   "cell_type": "code",
   "execution_count": 3,
   "id": "bc1ba678-1687-4003-ae42-03bffec2a481",
   "metadata": {},
   "outputs": [
    {
     "name": "stderr",
     "output_type": "stream",
     "text": [
      "24/04/23 18:06:37 WARN package: Truncated the string representation of a plan since it was too large. This behavior can be adjusted by setting 'spark.sql.debug.maxToStringFields'.\n"
     ]
    }
   ],
   "source": [
    "# Load flight traces via GeoParquet\n",
    "traces_df = sedona.read.format(\"geoparquet\").load(\"s3a://wherobots-examples/data/examples/flights/2024_s2.parquet\")"
   ]
  },
  {
   "cell_type": "code",
   "execution_count": 4,
   "id": "d9f94f1f-3e1a-4005-b451-174c0ae3b1d6",
   "metadata": {},
   "outputs": [
    {
     "name": "stderr",
     "output_type": "stream",
     "text": [
      "                                                                                \r"
     ]
    },
    {
     "data": {
      "text/plain": [
       "1103371367"
      ]
     },
     "execution_count": 4,
     "metadata": {},
     "output_type": "execute_result"
    }
   ],
   "source": [
    "traces_df.count()"
   ]
  },
  {
   "cell_type": "code",
   "execution_count": 5,
   "id": "6796094e-68bd-42fd-bc4a-bf6f54660384",
   "metadata": {},
   "outputs": [],
   "source": [
    "traces_df.createOrReplaceTempView(\"traces\")"
   ]
  },
  {
   "cell_type": "code",
   "execution_count": 6,
   "id": "3b2df834-b207-45b3-bcd0-d78d55f2a4ce",
   "metadata": {},
   "outputs": [
    {
     "name": "stdout",
     "output_type": "stream",
     "text": [
      "root\n",
      " |-- dbFlags: long (nullable = true)\n",
      " |-- desc: string (nullable = true)\n",
      " |-- icao: string (nullable = true)\n",
      " |-- ownOp: string (nullable = true)\n",
      " |-- r: string (nullable = true)\n",
      " |-- reg_details: struct (nullable = true)\n",
      " |    |-- description: string (nullable = true)\n",
      " |    |-- iso2: string (nullable = true)\n",
      " |    |-- iso3: string (nullable = true)\n",
      " |    |-- nation: string (nullable = true)\n",
      " |-- t: string (nullable = true)\n",
      " |-- timestamp: string (nullable = true)\n",
      " |-- trace: struct (nullable = true)\n",
      " |    |-- aircraft: struct (nullable = true)\n",
      " |    |    |-- alert: long (nullable = true)\n",
      " |    |    |-- alt_geom: long (nullable = true)\n",
      " |    |    |-- baro_rate: long (nullable = true)\n",
      " |    |    |-- category: string (nullable = true)\n",
      " |    |    |-- emergency: string (nullable = true)\n",
      " |    |    |-- flight: string (nullable = true)\n",
      " |    |    |-- geom_rate: long (nullable = true)\n",
      " |    |    |-- gva: long (nullable = true)\n",
      " |    |    |-- ias: long (nullable = true)\n",
      " |    |    |-- mach: double (nullable = true)\n",
      " |    |    |-- mag_heading: double (nullable = true)\n",
      " |    |    |-- nac_p: long (nullable = true)\n",
      " |    |    |-- nac_v: long (nullable = true)\n",
      " |    |    |-- nav_altitude_fms: long (nullable = true)\n",
      " |    |    |-- nav_altitude_mcp: long (nullable = true)\n",
      " |    |    |-- nav_heading: double (nullable = true)\n",
      " |    |    |-- nav_modes: array (nullable = true)\n",
      " |    |    |    |-- element: string (containsNull = true)\n",
      " |    |    |-- nav_qnh: double (nullable = true)\n",
      " |    |    |-- nic: long (nullable = true)\n",
      " |    |    |-- nic_baro: long (nullable = true)\n",
      " |    |    |-- oat: long (nullable = true)\n",
      " |    |    |-- rc: long (nullable = true)\n",
      " |    |    |-- roll: double (nullable = true)\n",
      " |    |    |-- sda: long (nullable = true)\n",
      " |    |    |-- sil: long (nullable = true)\n",
      " |    |    |-- sil_type: string (nullable = true)\n",
      " |    |    |-- spi: long (nullable = true)\n",
      " |    |    |-- squawk: string (nullable = true)\n",
      " |    |    |-- tas: long (nullable = true)\n",
      " |    |    |-- tat: long (nullable = true)\n",
      " |    |    |-- track: double (nullable = true)\n",
      " |    |    |-- track_rate: double (nullable = true)\n",
      " |    |    |-- true_heading: double (nullable = true)\n",
      " |    |    |-- type: string (nullable = true)\n",
      " |    |    |-- version: long (nullable = true)\n",
      " |    |    |-- wd: long (nullable = true)\n",
      " |    |    |-- ws: long (nullable = true)\n",
      " |    |-- altitude: long (nullable = true)\n",
      " |    |-- flags: long (nullable = true)\n",
      " |    |-- geometric_altitude: long (nullable = true)\n",
      " |    |-- geometric_vertical_rate: long (nullable = true)\n",
      " |    |-- ground_speed: double (nullable = true)\n",
      " |    |-- h3_5: string (nullable = true)\n",
      " |    |-- indicated_airspeed: long (nullable = true)\n",
      " |    |-- lat: double (nullable = true)\n",
      " |    |-- lon: double (nullable = true)\n",
      " |    |-- roll_angle: double (nullable = true)\n",
      " |    |-- source: string (nullable = true)\n",
      " |    |-- timestamp: string (nullable = true)\n",
      " |    |-- track_degrees: double (nullable = true)\n",
      " |    |-- vertical_rate: long (nullable = true)\n",
      " |-- year: string (nullable = true)\n",
      " |-- geometry: geometry (nullable = true)\n",
      " |-- date: date (nullable = true)\n",
      " |-- s2: long (nullable = true)\n",
      "\n"
     ]
    }
   ],
   "source": [
    "traces_df.printSchema()"
   ]
  },
  {
   "cell_type": "code",
   "execution_count": 7,
   "id": "5e98db26-9ac1-411e-b350-533073acb9a6",
   "metadata": {},
   "outputs": [
    {
     "name": "stderr",
     "output_type": "stream",
     "text": [
      "[Stage 8:>                                                          (0 + 1) / 1]\r"
     ]
    },
    {
     "name": "stdout",
     "output_type": "stream",
     "text": [
      "+-------+--------------------+------+-----+------+--------------------+----+-------------------+--------------------+----+--------------------+----------+-------------------+\n",
      "|dbFlags|                desc|  icao|ownOp|     r|         reg_details|   t|          timestamp|               trace|year|            geometry|      date|                 s2|\n",
      "+-------+--------------------+------+-----+------+--------------------+----+-------------------+--------------------+----+--------------------+----------+-------------------+\n",
      "|      0|PIPER PA-28R-180/...|c81c51| null|ZK-RTE|{general, NZ, NZL...|P28R|2024-01-20 00:00:00|{{null, null, nul...|null|POINT (174.722786...|2024-01-20|7854277750134145024|\n",
      "|      0|        AIRBUS A-320|c81e2c| null|ZK-OJS|{general, NZ, NZL...|A320|2024-01-15 00:00:00|{{0, 36400, 0, A3...|null|POINT (174.549826...|2024-01-15|7854277750134145024|\n",
      "|      0|PIPER PA-28R-180/...|c81c51| null|ZK-RTE|{general, NZ, NZL...|P28R|2024-01-20 00:00:00|{{null, null, nul...|null|POINT (174.722764...|2024-01-20|7854277750134145024|\n",
      "|      0|        AIRBUS A-320|c81e2c| null|ZK-OJS|{general, NZ, NZL...|A320|2024-01-15 00:00:00|{{null, null, nul...|null|POINT (174.557251...|2024-01-15|7854277750134145024|\n",
      "|      0|PIPER PA-28R-180/...|c81c51| null|ZK-RTE|{general, NZ, NZL...|P28R|2024-01-20 00:00:00|{{0, 1600, null, ...|null|POINT (174.722589...|2024-01-20|7854277750134145024|\n",
      "+-------+--------------------+------+-----+------+--------------------+----+-------------------+--------------------+----+--------------------+----------+-------------------+\n",
      "only showing top 5 rows\n",
      "\n"
     ]
    },
    {
     "name": "stderr",
     "output_type": "stream",
     "text": [
      "                                                                                \r"
     ]
    }
   ],
   "source": [
    "traces_df.show(5)"
   ]
  },
  {
   "cell_type": "markdown",
   "id": "d9470b7f-3471-4b28-b721-0c314862df8d",
   "metadata": {},
   "source": [
    "After creating a temporary view we can query our aircraft traces data using Spatial SQL. Here we're demonstrating selecting fields and viewing tabular results."
   ]
  },
  {
   "cell_type": "code",
   "execution_count": 8,
   "id": "38808e79-1bbe-457d-b994-d8fa3d65c054",
   "metadata": {},
   "outputs": [
    {
     "name": "stderr",
     "output_type": "stream",
     "text": [
      "[Stage 9:>                                                          (0 + 1) / 1]\r"
     ]
    },
    {
     "name": "stdout",
     "output_type": "stream",
     "text": [
      "+----------------+-------------------+-----------------------------+------------+--------+--------+\n",
      "|desc            |ownOp              |geometry                     |ground_speed|altitude|flight  |\n",
      "+----------------+-------------------+-----------------------------+------------+--------+--------+\n",
      "|AIRBUS A-350-900|UMB BANK NA TRUSTEE|POINT (174.792839 -37.010239)|122.7       |400     |DAL64   |\n",
      "|AIRBUS A-350-900|UMB BANK NA TRUSTEE|POINT (174.782449 -37.013079)|161.6       |350     |DAL64   |\n",
      "|AIRBUS A-350-900|UMB BANK NA TRUSTEE|POINT (174.779046 -37.01401) |168.9       |475     |DAL64   |\n",
      "|AIRBUS A-350-900|UMB BANK NA TRUSTEE|POINT (174.771463 -37.016058)|165.7       |825     |DAL64   |\n",
      "|AIRBUS A-350-900|UMB BANK NA TRUSTEE|POINT (174.765248 -37.017746)|162.5       |1175    |DAL64   |\n",
      "|AIRBUS A-350-900|UMB BANK NA TRUSTEE|POINT (174.757827 -37.01976) |159.4       |1550    |DAL64   |\n",
      "|AIRBUS A-350-900|UMB BANK NA TRUSTEE|POINT (174.748356 -37.022296)|161.3       |1950    |DAL64   |\n",
      "|AIRBUS A-350-900|UMB BANK NA TRUSTEE|POINT (174.738951 -37.024796)|163.2       |2325    |DAL64   |\n",
      "|AIRBUS A-350-900|UMB BANK NA TRUSTEE|POINT (174.725607 -37.028395)|165.7       |2725    |DAL64   |\n",
      "|AIRBUS A-350-900|UMB BANK NA TRUSTEE|POINT (174.713367 -37.03184) |167.3       |3125    |DAL64   |\n",
      "+----------------+-------------------+-----------------------------+------------+--------+--------+\n",
      "\n"
     ]
    },
    {
     "name": "stderr",
     "output_type": "stream",
     "text": [
      "                                                                                \r"
     ]
    }
   ],
   "source": [
    "sedona.sql(\"\"\"\n",
    "SELECT desc, ownOp, geometry, trace.ground_speed, trace.altitude, trace.aircraft.flight\n",
    "FROM traces\n",
    "WHERE trace.altitude IS NOT NULL AND OwnOp IS NOT NULL AND desc IS NOT NULL AND trace.aircraft.flight IS NOT NULL\n",
    "LIMIT 10\n",
    "\"\"\").show(truncate=False)"
   ]
  },
  {
   "cell_type": "markdown",
   "id": "dfd26f54-a2b7-42a3-a9b9-fa0f98feebfa",
   "metadata": {},
   "source": [
    "## Flight Traces - Exploratory Data Analysis\n",
    "\n",
    "Let's get a sense of the geographic distribution of the data. Where are we seeing the most aircraft activity? We can use H3 hexagons to aggregate the individual traces and visualize the results using SedonaKepler, the Kepler.gl integration for Sedona."
   ]
  },
  {
   "cell_type": "code",
   "execution_count": 9,
   "id": "48c45dba-f71e-4481-a4f0-e46405b321c1",
   "metadata": {},
   "outputs": [],
   "source": [
    "h3_traces_df = sedona.sql(\"\"\"\n",
    "SELECT\n",
    "    COUNT(*) AS num,\n",
    "    ST_H3ToGeom(ST_H3CellIDs(geometry, 5, false)) AS geometry,\n",
    "    ST_H3CellIDs(geometry, 5, false) AS h3\n",
    "FROM traces\n",
    "GROUP BY h3\n",
    "\"\"\")"
   ]
  },
  {
   "cell_type": "code",
   "execution_count": null,
   "id": "9c5460e4-db4b-4eb4-a64b-6bb128a63a4a",
   "metadata": {},
   "outputs": [],
   "source": [
    "SedonaKepler.create_map(h3_traces_df, name=\"Distribution of aircraft traces\")"
   ]
  },
  {
   "cell_type": "markdown",
   "id": "6a575a33-4807-44b9-b333-20fd7fdd5644",
   "metadata": {},
   "source": [
    "![](https://wherobots.com/wp-content/uploads/2024/04/flightdemo1.png)"
   ]
  },
  {
   "cell_type": "markdown",
   "id": "3cf9c639-aac3-44a1-b111-0740e207eff9",
   "metadata": {},
   "source": [
    "Note that since our data source relies on crowdsourced data based on ground stations the coverage is not complete. \n",
    "\n",
    "### JetBlue Flight Traces\n",
    "\n",
    "We can filter for just JetBlue aircraft and flights, then aggregate and visualize the results."
   ]
  },
  {
   "cell_type": "code",
   "execution_count": 11,
   "id": "bb819a29-6ed3-43ec-b810-b87ce9d824c9",
   "metadata": {},
   "outputs": [],
   "source": [
    "jbu_h3_traces_df = sedona.sql(\"\"\"\n",
    "SELECT\n",
    "    COUNT(*) AS num,\n",
    "    ST_H3ToGeom(ST_H3CellIDs(geometry, 5, false)) AS geometry,\n",
    "    ST_H3CellIDs(geometry, 5, false) AS h3\n",
    "FROM traces\n",
    "WHERE ownOp = \"JETBLUE AIRWAYS CORP\" AND trace.aircraft.flight LIKE \"JBU%\"\n",
    "GROUP BY h3\n",
    "\"\"\")"
   ]
  },
  {
   "cell_type": "code",
   "execution_count": null,
   "id": "6f8d50af-3e88-4ef3-8a49-d5ace8e0c6fd",
   "metadata": {},
   "outputs": [],
   "source": [
    "SedonaKepler.create_map(jbu_h3_traces_df, name=\"Distribution of aircraft traces\")"
   ]
  },
  {
   "cell_type": "markdown",
   "id": "912a4c8c-3951-43ae-b2f3-3dadc0c354c4",
   "metadata": {},
   "source": [
    "![](https://wherobots.com/wp-content/uploads/2024/04/flightdemo2.png)"
   ]
  },
  {
   "cell_type": "markdown",
   "id": "290c81dd-8a85-49b8-9e98-ceb9fd8f2377",
   "metadata": {},
   "source": [
    "## Flight Traces - Spatial Queries & Performance\n",
    "\n",
    "WherobotsDB supports optimizations for various types of spatial queries including:\n",
    "\n",
    "* Spatial range query\n",
    "* Spatial kNN query, and\n",
    "* Spatial joins\n",
    "\n",
    "Let's demonstate these types of queries and compare the performance with this dataset.\n",
    "\n",
    "### Spatial Range Query\n",
    "\n",
    "<img src=\"https://wherobots.com/wp-content/uploads/2024/01/Screenshot-2024-01-14-at-10.33.35-AM.png\" alt=\"Spatial range query\" width=\"900\"/>\n",
    "\n",
    "Let's say we wanted to find all aircraft traces within the bounds of a specific area, perhaps the Gulf of Mexico region. We can do this using the `ST_Within` spatial SQL predicate.\n"
   ]
  },
  {
   "cell_type": "code",
   "execution_count": 13,
   "id": "4b00a2cf-c043-4091-8a41-205b30c36a11",
   "metadata": {},
   "outputs": [],
   "source": [
    "gulf_filter = 'ST_Within(geometry, ST_GeomFromWKT(\"POLYGON ((-84.294662 29.840644, -88.952866 30.297018, -89.831772 28.767659, -94.050522 29.61167, -97.038803 27.839076, -97.917709 21.453069, -94.489975 18.479609, -86.843491 21.616579, -80.779037 24.926295, -84.294662 29.840644))\"))'\n",
    "\n",
    "gulf_traces = traces_df.where(gulf_filter)"
   ]
  },
  {
   "cell_type": "code",
   "execution_count": 64,
   "id": "4d3b430b-aa9e-4816-94e0-baa1ca723058",
   "metadata": {},
   "outputs": [
    {
     "name": "stderr",
     "output_type": "stream",
     "text": [
      "[Stage 131:====================================================>(445 + 1) / 446]\r"
     ]
    },
    {
     "name": "stdout",
     "output_type": "stream",
     "text": [
      "CPU times: user 4.07 ms, sys: 4.07 ms, total: 8.14 ms\n",
      "Wall time: 4.37 s\n"
     ]
    },
    {
     "name": "stderr",
     "output_type": "stream",
     "text": [
      "                                                                                \r"
     ]
    },
    {
     "data": {
      "text/plain": [
       "7539347"
      ]
     },
     "execution_count": 64,
     "metadata": {},
     "output_type": "execute_result"
    }
   ],
   "source": [
    "%%time\n",
    "gulf_traces.count()"
   ]
  },
  {
   "cell_type": "markdown",
   "id": "4a9e2b19-b6f4-4c27-aeee-8c94128e0265",
   "metadata": {},
   "source": [
    "### Spatial kNN Query\n",
    "\n",
    "Another type of spatial query that might be relevant for working with this dataset is a *Spatial kNN query*, which will efficiently find the \"k\" nearest geometries. For example, let's find the nearest aircraft traces to the **Jackson Hole Airport.**\n"
   ]
  },
  {
   "cell_type": "code",
   "execution_count": 15,
   "id": "c19abfd9-ad3d-4261-b288-951949625965",
   "metadata": {},
   "outputs": [],
   "source": [
    "jackson_hole_traces = sedona.sql(\"\"\"\n",
    "SELECT \n",
    "    desc, \n",
    "    ownOp,\n",
    "    trace.aircraft.flight, \n",
    "    ST_DistanceSphere(ST_Point(-110.7376, 43.6088), geometry) AS distance\n",
    "FROM traces\n",
    "ORDER BY distance ASC\n",
    "LIMIT 5\n",
    "\"\"\")\n"
   ]
  },
  {
   "cell_type": "code",
   "execution_count": 16,
   "id": "54148d3a-ccfe-4a6e-b9cd-eca8bb40c655",
   "metadata": {},
   "outputs": [
    {
     "name": "stderr",
     "output_type": "stream",
     "text": [
      "[Stage 19:=====================================================>(445 + 1) / 446]\r"
     ]
    },
    {
     "name": "stdout",
     "output_type": "stream",
     "text": [
      "+--------------------+--------------------+--------+------------------+\n",
      "|                desc|               ownOp|  flight|          distance|\n",
      "+--------------------+--------------------+--------+------------------+\n",
      "|BOMBARDIER BD-700...|         FLEXJET LLC|    null| 76.92424103100763|\n",
      "|        AIRBUS A-320| UNITED AIRLINES INC|    null|161.98830220247405|\n",
      "|CESSNA 700 CITATI...|AH CAPITAL MANAGE...|    null|180.05761405860687|\n",
      "|CESSNA 750 CITATI...|           2FLIU LLC|    null|187.01797656145476|\n",
      "|DASSAULT FALCON 2000|NEXTERA ENERGY EQ...|N58MW   |204.06240031528034|\n",
      "+--------------------+--------------------+--------+------------------+\n",
      "\n",
      "CPU times: user 18.5 ms, sys: 876 µs, total: 19.4 ms\n",
      "Wall time: 11.1 s\n"
     ]
    },
    {
     "name": "stderr",
     "output_type": "stream",
     "text": [
      "                                                                                \r"
     ]
    }
   ],
   "source": [
    "%%time\n",
    "\n",
    "jackson_hole_traces.show()"
   ]
  },
  {
   "cell_type": "code",
   "execution_count": null,
   "id": "d714657a-b1a5-4250-a3a6-458383fc2361",
   "metadata": {},
   "outputs": [],
   "source": []
  },
  {
   "cell_type": "markdown",
   "id": "e12f4924-d0bc-47c8-8ab1-c8c7f021858c",
   "metadata": {},
   "source": [
    "## Historical Impact of Severe Weather Events On Flights\n",
    "\n",
    "### Weather Events\n",
    "\n",
    "An important analysis related to flight routes is the impact of severe weather events. To enable this type of analysis Wherobots makes public a dataset of NOAA severe weather events in the [Wherobots Open Data Catalog.](https://docs.wherobots.services/latest/tutorials/opendata/introduction/?h=open+data)"
   ]
  },
  {
   "cell_type": "code",
   "execution_count": 17,
   "id": "94bc79c9-f691-42de-af94-9ebed8746ac3",
   "metadata": {},
   "outputs": [],
   "source": [
    "weather = sedona.table(\"wherobots_pro_data.weather.weather_events\")"
   ]
  },
  {
   "cell_type": "code",
   "execution_count": 18,
   "id": "9bc45466-9880-478a-aa0e-c63975099525",
   "metadata": {},
   "outputs": [
    {
     "name": "stderr",
     "output_type": "stream",
     "text": [
      "SLF4J: Failed to load class \"org.slf4j.impl.StaticLoggerBinder\".\n",
      "SLF4J: Defaulting to no-operation (NOP) logger implementation\n",
      "SLF4J: See http://www.slf4j.org/codes.html#StaticLoggerBinder for further details.\n",
      "[Stage 20:>                                                         (0 + 1) / 1]\r"
     ]
    },
    {
     "name": "stdout",
     "output_type": "stream",
     "text": [
      "+--------+-------------+--------+-------------------+-------------------+-----------------+----------+-----------+-----------+-----------+----+--------------+-----+-------+--------------------+\n",
      "| EventId|         Type|Severity|     StartTime(UTC)|       EndTime(UTC)|Precipitation(in)|  TimeZone|AirportCode|LocationLat|LocationLng|City|        County|State|ZipCode|            geometry|\n",
      "+--------+-------------+--------+-------------------+-------------------+-----------------+----------+-----------+-----------+-----------+----+--------------+-----+-------+--------------------+\n",
      "|W-237263|         Cold|  Severe|2016-01-01 08:57:00|2016-01-04 15:32:00|              0.0|US/Pacific|       KNSI|    33.2338|  -119.4559|null|Ventura County|   CA|   null|POINT (-119.4559 ...|\n",
      "|W-237264|         Rain|   Light|2016-01-04 22:49:00|2016-01-04 23:30:00|              0.0|US/Pacific|       KNSI|    33.2338|  -119.4559|null|Ventura County|   CA|   null|POINT (-119.4559 ...|\n",
      "|W-237265|         Cold|  Severe|2016-01-05 00:35:00|2016-01-05 15:32:00|              0.0|US/Pacific|       KNSI|    33.2338|  -119.4559|null|Ventura County|   CA|   null|POINT (-119.4559 ...|\n",
      "|W-237266|         Rain|   Light|2016-01-05 15:32:00|2016-01-05 17:57:00|              0.2|US/Pacific|       KNSI|    33.2338|  -119.4559|null|Ventura County|   CA|   null|POINT (-119.4559 ...|\n",
      "|W-237267|         Rain|Moderate|2016-01-05 17:57:00|2016-01-05 18:09:00|             0.14|US/Pacific|       KNSI|    33.2338|  -119.4559|null|Ventura County|   CA|   null|POINT (-119.4559 ...|\n",
      "|W-237268|         Rain|   Light|2016-01-05 18:09:00|2016-01-05 18:23:00|             0.07|US/Pacific|       KNSI|    33.2338|  -119.4559|null|Ventura County|   CA|   null|POINT (-119.4559 ...|\n",
      "|W-237269|         Rain|Moderate|2016-01-05 18:23:00|2016-01-05 18:57:00|             0.35|US/Pacific|       KNSI|    33.2338|  -119.4559|null|Ventura County|   CA|   null|POINT (-119.4559 ...|\n",
      "|W-237270|Precipitation|     UNK|2016-01-05 18:57:00|2016-01-05 19:41:00|             0.22|US/Pacific|       KNSI|    33.2338|  -119.4559|null|Ventura County|   CA|   null|POINT (-119.4559 ...|\n",
      "|W-237271|         Cold|  Severe|2016-01-06 00:57:00|2016-01-06 15:31:00|              0.0|US/Pacific|       KNSI|    33.2338|  -119.4559|null|Ventura County|   CA|   null|POINT (-119.4559 ...|\n",
      "|W-237272|         Rain|   Light|2016-01-06 16:57:00|2016-01-06 18:33:00|             0.16|US/Pacific|       KNSI|    33.2338|  -119.4559|null|Ventura County|   CA|   null|POINT (-119.4559 ...|\n",
      "|W-237273|Precipitation|     UNK|2016-01-06 18:57:00|2016-01-06 19:10:00|             0.23|US/Pacific|       KNSI|    33.2338|  -119.4559|null|Ventura County|   CA|   null|POINT (-119.4559 ...|\n",
      "|W-237274|         Rain|Moderate|2016-01-06 19:10:00|2016-01-06 19:57:00|             0.16|US/Pacific|       KNSI|    33.2338|  -119.4559|null|Ventura County|   CA|   null|POINT (-119.4559 ...|\n",
      "|W-237275|         Rain|   Light|2016-01-06 20:57:00|2016-01-06 21:27:00|             0.03|US/Pacific|       KNSI|    33.2338|  -119.4559|null|Ventura County|   CA|   null|POINT (-119.4559 ...|\n",
      "|W-237276|         Rain|Moderate|2016-01-06 21:27:00|2016-01-06 22:57:00|             0.26|US/Pacific|       KNSI|    33.2338|  -119.4559|null|Ventura County|   CA|   null|POINT (-119.4559 ...|\n",
      "|W-237277|         Cold|  Severe|2016-01-07 00:57:00|2016-01-07 15:35:00|              0.0|US/Pacific|       KNSI|    33.2338|  -119.4559|null|Ventura County|   CA|   null|POINT (-119.4559 ...|\n",
      "|W-237278|         Rain|   Light|2016-01-07 18:10:00|2016-01-07 18:57:00|              0.0|US/Pacific|       KNSI|    33.2338|  -119.4559|null|Ventura County|   CA|   null|POINT (-119.4559 ...|\n",
      "|W-237279|         Rain|   Light|2016-01-07 23:57:00|2016-01-08 00:57:00|              0.0|US/Pacific|       KNSI|    33.2338|  -119.4559|null|Ventura County|   CA|   null|POINT (-119.4559 ...|\n",
      "|W-237280|         Cold|  Severe|2016-01-08 00:57:00|2016-01-08 15:29:00|              0.0|US/Pacific|       KNSI|    33.2338|  -119.4559|null|Ventura County|   CA|   null|POINT (-119.4559 ...|\n",
      "|W-237281|         Cold|  Severe|2016-01-09 00:57:00|2016-01-11 14:32:00|              0.0|US/Pacific|       KNSI|    33.2338|  -119.4559|null|Ventura County|   CA|   null|POINT (-119.4559 ...|\n",
      "|W-237282|         Cold|  Severe|2016-01-12 00:57:00|2016-01-12 15:57:00|              0.0|US/Pacific|       KNSI|    33.2338|  -119.4559|null|Ventura County|   CA|   null|POINT (-119.4559 ...|\n",
      "+--------+-------------+--------+-------------------+-------------------+-----------------+----------+-----------+-----------+-----------+----+--------------+-----+-------+--------------------+\n",
      "only showing top 20 rows\n",
      "\n"
     ]
    },
    {
     "name": "stderr",
     "output_type": "stream",
     "text": [
      "                                                                                \r"
     ]
    }
   ],
   "source": [
    "weather.show()"
   ]
  },
  {
   "cell_type": "code",
   "execution_count": 19,
   "id": "e90ec6eb-51d4-4d16-9350-efad95a75d5b",
   "metadata": {},
   "outputs": [
    {
     "name": "stdout",
     "output_type": "stream",
     "text": [
      "root\n",
      " |-- EventId: string (nullable = true)\n",
      " |-- Type: string (nullable = true)\n",
      " |-- Severity: string (nullable = true)\n",
      " |-- StartTime(UTC): string (nullable = true)\n",
      " |-- EndTime(UTC): string (nullable = true)\n",
      " |-- Precipitation(in): string (nullable = true)\n",
      " |-- TimeZone: string (nullable = true)\n",
      " |-- AirportCode: string (nullable = true)\n",
      " |-- LocationLat: string (nullable = true)\n",
      " |-- LocationLng: string (nullable = true)\n",
      " |-- City: string (nullable = true)\n",
      " |-- County: string (nullable = true)\n",
      " |-- State: string (nullable = true)\n",
      " |-- ZipCode: string (nullable = true)\n",
      " |-- geometry: geometry (nullable = true)\n",
      "\n"
     ]
    }
   ],
   "source": [
    "weather.printSchema()"
   ]
  },
  {
   "cell_type": "code",
   "execution_count": 20,
   "id": "b0aee8c8-e45b-4494-8cac-94f70a616274",
   "metadata": {},
   "outputs": [
    {
     "data": {
      "text/plain": [
       "8627181"
      ]
     },
     "execution_count": 20,
     "metadata": {},
     "output_type": "execute_result"
    }
   ],
   "source": [
    "weather.count()"
   ]
  },
  {
   "cell_type": "markdown",
   "id": "b844a66b-f463-4733-85f5-950cd8b47a63",
   "metadata": {},
   "source": [
    "## Severe Weather Events\n",
    "\n",
    "Let's start our analysis by finding areas that are susceptible to severe weather events."
   ]
  },
  {
   "cell_type": "code",
   "execution_count": 21,
   "id": "3fbcc041-c168-4bae-aaa0-41ded715d717",
   "metadata": {},
   "outputs": [],
   "source": [
    "weather_h3_df = sedona.sql(\"\"\"\n",
    "SELECT\n",
    "    COUNT(*) AS num,\n",
    "    ST_H3ToGeom(ST_H3CellIDs(ST_Buffer(geometry, 0.1), 5, false)) AS geometry,\n",
    "    ST_H3CellIDs(ST_Buffer(geometry, 0.1), 5, false) AS h3\n",
    "FROM wherobots_pro_data.weather.weather_events\n",
    "WHERE Severity = \"Severe\"\n",
    "GROUP BY h3\n",
    "\"\"\")"
   ]
  },
  {
   "cell_type": "code",
   "execution_count": 22,
   "id": "7411df26-bbea-4439-a70b-53cacdbf6b6e",
   "metadata": {},
   "outputs": [],
   "source": [
    "weather_h3_df.createOrReplaceTempView(\"weather_h3\")"
   ]
  },
  {
   "cell_type": "code",
   "execution_count": null,
   "id": "b30a54d2-2c9d-489e-a71a-5d2a24f317c8",
   "metadata": {},
   "outputs": [],
   "source": [
    "SedonaKepler.create_map(weather_h3_df.cache(), name=\"Severe weather events\")"
   ]
  },
  {
   "cell_type": "markdown",
   "id": "d39e32db-a1d0-4430-adcb-4a170e1f72f4",
   "metadata": {},
   "source": [
    "![](https://wherobots.com/wp-content/uploads/2024/04/flightdemo3.png)"
   ]
  },
  {
   "cell_type": "markdown",
   "id": "839489ee-2979-4f5a-ba4d-9826ce68ed5d",
   "metadata": {},
   "source": [
    "## Historical Severe Weather Aircraft Trace Analysis\n",
    "\n",
    "Now that we've determined which areas are susceptible to frequent severe weather events, we can analyze flight trace observations in these areas to determine flights that may be susceptible to frequent severe weather events using a spatial join. Note that we're joining a table with 1.1 billion observations."
   ]
  },
  {
   "cell_type": "code",
   "execution_count": 24,
   "id": "1700dd8c-f39e-4017-adb9-ffc611344fe9",
   "metadata": {},
   "outputs": [],
   "source": [
    "severe_weather_flight_traces_df = sedona.sql(\"\"\"\n",
    "SELECT traces.geometry AS geometry, desc, ownOp, trace.aircraft.flight AS flight, num AS eventCount \n",
    "FROM traces\n",
    "JOIN weather_h3\n",
    "WHERE ST_Contains(weather_h3.geometry, traces.geometry) AND trace.aircraft.flight IS NOT null\n",
    "\"\"\")"
   ]
  },
  {
   "cell_type": "code",
   "execution_count": 25,
   "id": "9c6255c3-f354-455f-9974-e89d671cf88d",
   "metadata": {},
   "outputs": [
    {
     "name": "stderr",
     "output_type": "stream",
     "text": [
      "[Stage 26:=====================================================>(445 + 1) / 446]\r"
     ]
    },
    {
     "name": "stdout",
     "output_type": "stream",
     "text": [
      "CPU times: user 19.2 ms, sys: 1.83 ms, total: 21 ms\n",
      "Wall time: 12.7 s\n"
     ]
    },
    {
     "name": "stderr",
     "output_type": "stream",
     "text": [
      "                                                                                \r"
     ]
    },
    {
     "data": {
      "text/plain": [
       "53788395"
      ]
     },
     "execution_count": 25,
     "metadata": {},
     "output_type": "execute_result"
    }
   ],
   "source": [
    "%%time\n",
    "severe_weather_flight_traces_df.cache().count()"
   ]
  },
  {
   "cell_type": "code",
   "execution_count": 26,
   "id": "8509d892-a73a-44a7-b535-29a3b6fa3e6e",
   "metadata": {},
   "outputs": [
    {
     "name": "stdout",
     "output_type": "stream",
     "text": [
      "+--------------------+--------------------+----------------+--------+----------+\n",
      "|            geometry|                desc|           ownOp|  flight|eventCount|\n",
      "+--------------------+--------------------+----------------+--------+----------+\n",
      "|POINT (-94.998109...|          CESSNA 310|ALSAGER JOSHUA D|N310BL  |       757|\n",
      "|POINT (-95.154933...|          CESSNA 310|ALSAGER JOSHUA D|N310BL  |       765|\n",
      "|POINT (-95.201111...|          CESSNA 310|ALSAGER JOSHUA D|N310BL  |       765|\n",
      "|POINT (-95.232038...|          CESSNA 310|ALSAGER JOSHUA D|N310BL  |       765|\n",
      "|POINT (-95.56625 ...|          CESSNA 310|ALSAGER JOSHUA D|N310BL  |      1077|\n",
      "|POINT (-95.607474...|          CESSNA 310|ALSAGER JOSHUA D|N310BL  |      1077|\n",
      "|POINT (-95.649987...|          CESSNA 310|ALSAGER JOSHUA D|N310BL  |      1077|\n",
      "|POINT (-95.68931 ...|          CESSNA 310|ALSAGER JOSHUA D|N310BL  |      1077|\n",
      "|POINT (-93.354639...|PIPER PA-28-140/1...|    ALEAGENT INC|N2108C  |       639|\n",
      "|POINT (-93.350536...|PIPER PA-28-140/1...|    ALEAGENT INC|N2108C  |       639|\n",
      "|POINT (-93.350311...|PIPER PA-28-140/1...|    ALEAGENT INC|N2108C  |       639|\n",
      "|POINT (-93.350291...|PIPER PA-28-140/1...|    ALEAGENT INC|N2108C  |       639|\n",
      "|POINT (-93.350291...|PIPER PA-28-140/1...|    ALEAGENT INC|N2108C  |       639|\n",
      "|POINT (-93.350291...|PIPER PA-28-140/1...|    ALEAGENT INC|N2108C  |       639|\n",
      "|POINT (-93.348887...|PIPER PA-28-140/1...|    ALEAGENT INC|N2108C  |       639|\n",
      "|POINT (-93.350897...|PIPER PA-28-140/1...|    ALEAGENT INC|N2108C  |       639|\n",
      "|POINT (-93.35338 ...|PIPER PA-28-140/1...|    ALEAGENT INC|N2108C  |       639|\n",
      "|POINT (-93.358874...|PIPER PA-28-140/1...|    ALEAGENT INC|N2108C  |       639|\n",
      "|POINT (-93.363558...|PIPER PA-28-140/1...|    ALEAGENT INC|N2108C  |       639|\n",
      "|POINT (-93.367176...|PIPER PA-28-140/1...|    ALEAGENT INC|N2108C  |       639|\n",
      "+--------------------+--------------------+----------------+--------+----------+\n",
      "only showing top 20 rows\n",
      "\n"
     ]
    }
   ],
   "source": [
    "severe_weather_flight_traces_df.show()"
   ]
  },
  {
   "cell_type": "code",
   "execution_count": 27,
   "id": "54fd7891-86f6-4665-91c5-2e207ebbf552",
   "metadata": {},
   "outputs": [],
   "source": [
    "severe_weather_flight_traces_df.createOrReplaceTempView(\"severe_weather_traces\")"
   ]
  },
  {
   "cell_type": "code",
   "execution_count": 28,
   "id": "395681ad-6f74-494e-8af9-2ad107deb565",
   "metadata": {},
   "outputs": [],
   "source": [
    "most_impacted_flights = sedona.sql(\"\"\"\n",
    "SELECT sum(eventCount) AS intensity, ST_Collect(collect_list(geometry)) AS geometry, flight\n",
    "FROM severe_weather_traces\n",
    "WHERE NOT flight = \"        \" AND NOT flight = \"00000000\"\n",
    "GROUP BY flight\n",
    "ORDER BY intensity DESC\n",
    "LIMIT 100\n",
    "\"\"\")"
   ]
  },
  {
   "cell_type": "code",
   "execution_count": 29,
   "id": "ab2038e8-9dd6-4344-af3f-ec3928217cd7",
   "metadata": {},
   "outputs": [
    {
     "name": "stderr",
     "output_type": "stream",
     "text": [
      "                                                                                \r"
     ]
    },
    {
     "name": "stdout",
     "output_type": "stream",
     "text": [
      "+---------+--------------------+--------+\n",
      "|intensity|            geometry|  flight|\n",
      "+---------+--------------------+--------+\n",
      "| 29944543|MULTIPOINT ((-117...|GOJUMP3 |\n",
      "| 21755551|MULTIPOINT ((-121...|N277SD  |\n",
      "| 15577845|MULTIPOINT ((-118...|N930DK  |\n",
      "| 15312643|MULTIPOINT ((-121...|N916SP  |\n",
      "| 14019970|MULTIPOINT ((-118...|N953LA  |\n",
      "| 13656148|MULTIPOINT ((-118...|N130SK  |\n",
      "| 13609018|MULTIPOINT ((-81....|N6341J  |\n",
      "| 13442133|MULTIPOINT ((-82....|N9526G  |\n",
      "| 13181172|MULTIPOINT ((-81....|N8364U  |\n",
      "| 12697030|MULTIPOINT ((-81....|N7989U  |\n",
      "| 12126425|MULTIPOINT ((-117...|N950AC  |\n",
      "| 12125907|MULTIPOINT ((-122...|N51HF   |\n",
      "| 12033489|MULTIPOINT ((-118...|N358TV  |\n",
      "| 11631484|MULTIPOINT ((-82....|N7511W  |\n",
      "| 11189233|MULTIPOINT ((-117...|N737PM  |\n",
      "| 11163690|MULTIPOINT ((-82....|N18728  |\n",
      "| 11091120|MULTIPOINT ((-118...|N954LA  |\n",
      "| 10853604|MULTIPOINT ((-120...|N545GC  |\n",
      "| 10099903|MULTIPOINT ((-118...|N962LA  |\n",
      "| 10090712|MULTIPOINT ((-82....|N444TH  |\n",
      "+---------+--------------------+--------+\n",
      "only showing top 20 rows\n",
      "\n"
     ]
    }
   ],
   "source": [
    "most_impacted_flights.show()"
   ]
  },
  {
   "cell_type": "code",
   "execution_count": null,
   "id": "f9183162-1f6f-4266-9439-f26fad5257f0",
   "metadata": {},
   "outputs": [],
   "source": [
    "SedonaKepler.create_map(most_impacted_flights, name=\"Most impacted flight traces\")"
   ]
  },
  {
   "cell_type": "markdown",
   "id": "99a2149f-8f2a-43ab-9f67-0e34a0a05a27",
   "metadata": {},
   "source": [
    "![](https://wherobots.com/wp-content/uploads/2024/04/flightdemo4.png)"
   ]
  },
  {
   "cell_type": "markdown",
   "id": "c92710c8-23ab-480c-b8de-6a9a8598fbdb",
   "metadata": {},
   "source": [
    "## JetBlue Flight Routes\n",
    "\n",
    "So far we've been working with individual aircraft traces (point observations), but it's much more useful to analyze flights as routes. We can construct the individual flight routes from these aircraft traces. Let's find all JetBlue flights.\n",
    "\n"
   ]
  },
  {
   "cell_type": "code",
   "execution_count": 31,
   "id": "917c7d45-92de-44be-a5f1-ea696137107b",
   "metadata": {},
   "outputs": [],
   "source": [
    "jbu_flights_df = sedona.sql(\"\"\"\n",
    "WITH jbu_traces AS (\n",
    "    SELECT \n",
    "        any_value(trace.aircraft.flight) AS flight, \n",
    "        collect_list(ST_Point(trace.lon, trace.lat)) AS points, \n",
    "        any_value(CAST(date AS string)) AS date\n",
    "    FROM traces\n",
    "    WHERE ownOp = 'JETBLUE AIRWAYS CORP' AND trace.aircraft.flight IS NOT null\n",
    "    GROUP BY trace.aircraft.flight, date\n",
    ")\n",
    "SELECT flight, ST_MakeLine(points) AS geometry, date \n",
    "FROM jbu_traces\n",
    "WHERE size(points) > 100\n",
    "\"\"\")"
   ]
  },
  {
   "cell_type": "code",
   "execution_count": 32,
   "id": "62140b64-9b74-4e1a-812e-924dacfc5767",
   "metadata": {},
   "outputs": [
    {
     "name": "stderr",
     "output_type": "stream",
     "text": [
      "[Stage 40:=====================================================>(445 + 1) / 446]\r"
     ]
    },
    {
     "name": "stdout",
     "output_type": "stream",
     "text": [
      "+--------+--------------------+----------+\n",
      "|  flight|            geometry|      date|\n",
      "+--------+--------------------+----------+\n",
      "|JBU100  |LINESTRING (-112....|2024-01-24|\n",
      "|JBU101  |LINESTRING (-80.1...|2024-01-21|\n",
      "|JBU1016 |LINESTRING (-77.3...|2024-01-20|\n",
      "|JBU1044 |LINESTRING (-80.1...|2024-01-10|\n",
      "|JBU1053 |LINESTRING (-73.7...|2024-01-03|\n",
      "|JBU1055 |LINESTRING (-71.0...|2024-01-03|\n",
      "|JBU1060 |LINESTRING (-77.4...|2024-01-12|\n",
      "|JBU1060 |LINESTRING (-77.4...|2024-01-26|\n",
      "|JBU1067 |LINESTRING (-73.7...|2024-01-17|\n",
      "|JBU1068 |LINESTRING (-80.0...|2024-01-24|\n",
      "|JBU1114 |LINESTRING (-112....|2024-01-17|\n",
      "|JBU1131 |LINESTRING (-80.2...|2024-01-22|\n",
      "|JBU1136 |LINESTRING (-83.3...|2024-01-15|\n",
      "|JBU1142 |LINESTRING (-80.0...|2024-01-27|\n",
      "|JBU1196 |LINESTRING (-80.1...|2024-01-03|\n",
      "|JBU1196 |LINESTRING (-80.1...|2024-01-27|\n",
      "|JBU1217 |LINESTRING (-81.6...|2024-01-15|\n",
      "|JBU1230 |LINESTRING (-86.8...|2024-01-22|\n",
      "|JBU1238 |LINESTRING (-97.6...|2024-01-28|\n",
      "|JBU1251 |LINESTRING (-73.7...|2024-01-10|\n",
      "+--------+--------------------+----------+\n",
      "only showing top 20 rows\n",
      "\n"
     ]
    },
    {
     "name": "stderr",
     "output_type": "stream",
     "text": [
      "                                                                                \r"
     ]
    }
   ],
   "source": [
    "jbu_flights_df.show()"
   ]
  },
  {
   "cell_type": "code",
   "execution_count": 33,
   "id": "eb429ba2-1763-4ff6-a4e9-e9d71ba7106d",
   "metadata": {},
   "outputs": [
    {
     "name": "stderr",
     "output_type": "stream",
     "text": [
      "                                                                                \r"
     ]
    },
    {
     "data": {
      "text/plain": [
       "14277"
      ]
     },
     "execution_count": 33,
     "metadata": {},
     "output_type": "execute_result"
    }
   ],
   "source": [
    "jbu_flights_df.count()"
   ]
  },
  {
   "cell_type": "code",
   "execution_count": 34,
   "id": "c0f9433b-6059-4c77-a80e-95ef757a79eb",
   "metadata": {},
   "outputs": [],
   "source": [
    "jbu_flights_df.createOrReplaceTempView(\"jbu_flights\")"
   ]
  },
  {
   "cell_type": "code",
   "execution_count": null,
   "id": "95c8e1af-ef5a-4498-b8d6-048270107845",
   "metadata": {},
   "outputs": [],
   "source": [
    "SedonaKepler.create_map(jbu_flights_df, name=\"JetBlue flight routes\")"
   ]
  },
  {
   "cell_type": "markdown",
   "id": "bd925d19-68b8-40f1-9430-8313730b23d3",
   "metadata": {},
   "source": [
    "![](https://wherobots.com/wp-content/uploads/2024/04/flightdemo5.png)"
   ]
  },
  {
   "cell_type": "markdown",
   "id": "35b36484-9334-44b4-afad-40c4d929b159",
   "metadata": {},
   "source": [
    "## Identify Potential For Weather Impacted Flights\n",
    "\n",
    "### Creating Uniform Flight Route Segments\n",
    "\n",
    "To analyze which flights have the most potential to be impacted based on historical weather events, we first create 100km segments of each flight which will allow us to identify not only entire flight routes that are potentially impacted by weather events, but specific flight segments with the most risk of disruption."
   ]
  },
  {
   "cell_type": "code",
   "execution_count": 36,
   "id": "857fc6a7-8be4-41a3-9c2c-9ceb2d0389d8",
   "metadata": {},
   "outputs": [],
   "source": [
    "from shapely.geometry import LineString, MultiLineString\n",
    "from sedona.sql.types import GeometryType\n",
    "\n",
    "# Define a Shapely UDF to create a series of consistent length line segments for each flight\n",
    "def interpolate_lines(line: GeometryType()):\n",
    "    try:\n",
    "        distance_delta = 1.0 # ~100km\n",
    "        points_count = int(line.length // distance_delta) + 1\n",
    "        distances = (distance_delta * i for i in range(points_count))\n",
    "        points = [line.interpolate(distance) for distance in distances] + [line.boundary[1]]\n",
    "        line_strings = []\n",
    "        for i in range(len(points) - 1):\n",
    "            line_strings.append(LineString([points[i], points[i+1]]))\n",
    "        return MultiLineString(line_strings)\n",
    "    except:\n",
    "        return None"
   ]
  },
  {
   "cell_type": "code",
   "execution_count": 37,
   "id": "71d9e7f5-b87e-4cc6-a936-144bc64f44a4",
   "metadata": {},
   "outputs": [
    {
     "data": {
      "text/plain": [
       "<function __main__.interpolate_lines(line: GeometryType())>"
      ]
     },
     "execution_count": 37,
     "metadata": {},
     "output_type": "execute_result"
    }
   ],
   "source": [
    "sedona.udf.register(\"interpolate_lines\", interpolate_lines, GeometryType())"
   ]
  },
  {
   "cell_type": "code",
   "execution_count": 38,
   "id": "8b674909-1403-4e5c-af9c-32fc9a6c4ff9",
   "metadata": {},
   "outputs": [],
   "source": [
    "split_df = sedona.sql(\"\"\"\n",
    "SELECT flight, date, explode(ST_Dump(interpolate_lines(geometry))) AS geometry\n",
    "FROM jbu_flights\n",
    "\"\"\")"
   ]
  },
  {
   "cell_type": "code",
   "execution_count": 39,
   "id": "1fefe5fd-ee16-4be7-b927-d3bed6bec925",
   "metadata": {},
   "outputs": [
    {
     "name": "stderr",
     "output_type": "stream",
     "text": [
      "[Stage 54:==================================================>     (50 + 6) / 56]\r"
     ]
    },
    {
     "name": "stdout",
     "output_type": "stream",
     "text": [
      "CPU times: user 16.2 ms, sys: 840 µs, total: 17 ms\n",
      "Wall time: 7.44 s\n"
     ]
    },
    {
     "name": "stderr",
     "output_type": "stream",
     "text": [
      "                                                                                \r"
     ]
    },
    {
     "data": {
      "text/plain": [
       "547618"
      ]
     },
     "execution_count": 39,
     "metadata": {},
     "output_type": "execute_result"
    }
   ],
   "source": [
    "%%time\n",
    "split_df.count()"
   ]
  },
  {
   "cell_type": "code",
   "execution_count": 40,
   "id": "e117e5c4-fa30-4f3b-935f-70a726ac05d0",
   "metadata": {},
   "outputs": [
    {
     "name": "stderr",
     "output_type": "stream",
     "text": [
      "[Stage 58:=====================================================>(445 + 1) / 446]\r"
     ]
    },
    {
     "name": "stdout",
     "output_type": "stream",
     "text": [
      "+--------+----------+--------------------+\n",
      "|  flight|      date|            geometry|\n",
      "+--------+----------+--------------------+\n",
      "|JBU100  |2024-01-24|LINESTRING (-118....|\n",
      "|JBU100  |2024-01-24|LINESTRING (-117....|\n",
      "|JBU100  |2024-01-24|LINESTRING (-116....|\n",
      "|JBU100  |2024-01-24|LINESTRING (-115....|\n",
      "|JBU100  |2024-01-24|LINESTRING (-114....|\n",
      "|JBU100  |2024-01-24|LINESTRING (-113....|\n",
      "|JBU100  |2024-01-24|LINESTRING (-112....|\n",
      "|JBU100  |2024-01-24|LINESTRING (-111....|\n",
      "|JBU100  |2024-01-24|LINESTRING (-110....|\n",
      "|JBU100  |2024-01-24|LINESTRING (-109....|\n",
      "|JBU100  |2024-01-24|LINESTRING (-108....|\n",
      "|JBU100  |2024-01-24|LINESTRING (-107....|\n",
      "|JBU100  |2024-01-24|LINESTRING (-106....|\n",
      "|JBU100  |2024-01-24|LINESTRING (-105....|\n",
      "|JBU100  |2024-01-24|LINESTRING (-104....|\n",
      "|JBU100  |2024-01-24|LINESTRING (-103....|\n",
      "|JBU100  |2024-01-24|LINESTRING (-102....|\n",
      "|JBU100  |2024-01-24|LINESTRING (-102....|\n",
      "|JBU100  |2024-01-24|LINESTRING (-101....|\n",
      "|JBU100  |2024-01-24|LINESTRING (-100....|\n",
      "+--------+----------+--------------------+\n",
      "only showing top 20 rows\n",
      "\n"
     ]
    },
    {
     "name": "stderr",
     "output_type": "stream",
     "text": [
      "                                                                                \r"
     ]
    }
   ],
   "source": [
    "split_df.show()"
   ]
  },
  {
   "cell_type": "code",
   "execution_count": 41,
   "id": "5c62315d-154a-4c2d-9488-729c72266dc6",
   "metadata": {},
   "outputs": [],
   "source": [
    "split_df.createOrReplaceTempView(\"split_flights\")"
   ]
  },
  {
   "cell_type": "code",
   "execution_count": 42,
   "id": "40f47ac8-ae30-4d1b-9416-ad2da64dd90e",
   "metadata": {},
   "outputs": [],
   "source": [
    "#SedonaKepler.create_map(split_df.sample(0.01))"
   ]
  },
  {
   "cell_type": "markdown",
   "id": "ced56991-25fc-4eb0-9090-d15b9990e2e9",
   "metadata": {},
   "source": [
    "### Joining Flight Route Segments With Weather Events\n",
    "\n",
    "Now we perform a spatial join to identify flight segments that pass through areas that historically have a high frequency of severe weather events."
   ]
  },
  {
   "cell_type": "code",
   "execution_count": null,
   "id": "4fabf465-916f-473c-a1cd-7ba162c9634d",
   "metadata": {},
   "outputs": [],
   "source": []
  },
  {
   "cell_type": "code",
   "execution_count": 43,
   "id": "cf68c464-140d-452e-a4e8-7b3ea4898db2",
   "metadata": {},
   "outputs": [],
   "source": [
    "severe_weather_split_df = sedona.sql(\"\"\"\n",
    "SELECT flight, date, split_flights.geometry AS geometry, num \n",
    "FROM split_flights\n",
    "JOIN weather_h3\n",
    "WHERE ST_Intersects(weather_h3.geometry, split_flights.geometry)\n",
    "\"\"\")"
   ]
  },
  {
   "cell_type": "code",
   "execution_count": 44,
   "id": "65892e24-edc8-40ce-822b-ef2a2cc50cad",
   "metadata": {},
   "outputs": [
    {
     "name": "stderr",
     "output_type": "stream",
     "text": [
      "                                                                                \r"
     ]
    },
    {
     "name": "stdout",
     "output_type": "stream",
     "text": [
      "CPU times: user 20.8 ms, sys: 669 µs, total: 21.4 ms\n",
      "Wall time: 6.91 s\n"
     ]
    },
    {
     "name": "stderr",
     "output_type": "stream",
     "text": [
      "                                                                                \r"
     ]
    },
    {
     "data": {
      "text/plain": [
       "383266"
      ]
     },
     "execution_count": 44,
     "metadata": {},
     "output_type": "execute_result"
    }
   ],
   "source": [
    "%%time\n",
    "\n",
    "severe_weather_split_df.count()"
   ]
  },
  {
   "cell_type": "code",
   "execution_count": 45,
   "id": "4fb738ff-402b-4ad4-84b4-54b89be6f55f",
   "metadata": {},
   "outputs": [
    {
     "name": "stderr",
     "output_type": "stream",
     "text": [
      "                                                                                \r"
     ]
    },
    {
     "name": "stdout",
     "output_type": "stream",
     "text": [
      "+--------+----------+--------------------+----+\n",
      "|  flight|      date|            geometry| num|\n",
      "+--------+----------+--------------------+----+\n",
      "|JBU2288 |2024-01-02|LINESTRING (-69.3...|1221|\n",
      "|JBU2288 |2024-01-02|LINESTRING (-70.3...|1774|\n",
      "|JBU2288 |2024-01-02|LINESTRING (-71.2...|  42|\n",
      "|JBU2288 |2024-01-02|LINESTRING (-71.2...|1192|\n",
      "|JBU2288 |2024-01-02|LINESTRING (-71.2...|1231|\n",
      "|JBU2288 |2024-01-02|LINESTRING (-72.2...| 672|\n",
      "|JBU2288 |2024-01-02|LINESTRING (-72.2...| 959|\n",
      "|JBU2288 |2024-01-02|LINESTRING (-73.2...| 652|\n",
      "|JBU2288 |2024-01-02|LINESTRING (-73.2...| 672|\n",
      "|JBU1053 |2024-01-03|LINESTRING (-73.7...| 416|\n",
      "|JBU2424 |2024-01-07|LINESTRING (-81.2...| 217|\n",
      "|JBU2424 |2024-01-07|LINESTRING (-81.2...| 467|\n",
      "|JBU2424 |2024-01-07|LINESTRING (-81.2...| 487|\n",
      "|JBU2424 |2024-01-07|LINESTRING (-81.2...| 611|\n",
      "|JBU2424 |2024-01-07|LINESTRING (-81.3...| 885|\n",
      "|JBU2424 |2024-01-07|LINESTRING (-81.3...| 722|\n",
      "|JBU2424 |2024-01-07|LINESTRING (-81.3...|2237|\n",
      "|JBU2424 |2024-01-07|LINESTRING (-81.3...| 722|\n",
      "|JBU2424 |2024-01-07|LINESTRING (-81.3...| 618|\n",
      "|JBU2424 |2024-01-07|LINESTRING (-81.3...| 607|\n",
      "+--------+----------+--------------------+----+\n",
      "only showing top 20 rows\n",
      "\n"
     ]
    }
   ],
   "source": [
    "severe_weather_split_df.show()"
   ]
  },
  {
   "cell_type": "code",
   "execution_count": 46,
   "id": "d2485c89-4d6e-448d-a53e-fcf7464dc06a",
   "metadata": {},
   "outputs": [],
   "source": [
    "#SedonaKepler.create_map(severe_weather_split_df.sample(.001))"
   ]
  },
  {
   "cell_type": "code",
   "execution_count": null,
   "id": "0bf990de-53a5-46e4-b7b0-15ed7958db6f",
   "metadata": {},
   "outputs": [],
   "source": []
  },
  {
   "cell_type": "code",
   "execution_count": 47,
   "id": "a80b5a4a-d5f3-44fa-a61a-2760a27d2b85",
   "metadata": {},
   "outputs": [],
   "source": [
    "severe_weather_split_df.createOrReplaceTempView(\"weather_split\")"
   ]
  },
  {
   "cell_type": "code",
   "execution_count": 48,
   "id": "d4acf99e-a267-4203-ad8b-acb08e67677c",
   "metadata": {},
   "outputs": [],
   "source": [
    "intensity_df = sedona.sql(\"\"\"\n",
    "SELECT sum(num) AS intensity, flight, date, ST_Collect(collect_list(geometry)) AS geometry\n",
    "FROM weather_split\n",
    "GROUP BY flight, date\n",
    "ORDER BY intensity DESC\n",
    "\"\"\")"
   ]
  },
  {
   "cell_type": "code",
   "execution_count": 49,
   "id": "f313b594-5942-4344-805a-a452d00a152a",
   "metadata": {},
   "outputs": [],
   "source": [
    "intensity_df.createOrReplaceTempView(\"jbu_intensity\")"
   ]
  },
  {
   "cell_type": "code",
   "execution_count": 50,
   "id": "c307a072-7834-4e59-a98f-bbbe9866f8dd",
   "metadata": {},
   "outputs": [
    {
     "name": "stderr",
     "output_type": "stream",
     "text": [
      "                                                                                \r"
     ]
    },
    {
     "name": "stdout",
     "output_type": "stream",
     "text": [
      "+---------+--------+----------+--------------------+\n",
      "|intensity|  flight|      date|            geometry|\n",
      "+---------+--------+----------+--------------------+\n",
      "|   135139|JBU33   |2024-01-14|MULTILINESTRING (...|\n",
      "|   120898|JBU888  |2024-01-13|MULTILINESTRING (...|\n",
      "|   111901|JBU2181 |2024-01-03|MULTILINESTRING (...|\n",
      "|   107169|JBU424  |2024-01-03|MULTILINESTRING (...|\n",
      "|   106899|JBU1566 |2024-01-08|MULTILINESTRING (...|\n",
      "|   102989|JBU187  |2024-01-16|MULTILINESTRING (...|\n",
      "|   101525|JBU778  |2024-01-04|MULTILINESTRING (...|\n",
      "|   100033|JBU416  |2024-01-14|MULTILINESTRING (...|\n",
      "|    99158|JBU932  |2024-01-13|MULTILINESTRING (...|\n",
      "|    98192|JBU197  |2024-01-24|MULTILINESTRING (...|\n",
      "|    98003|JBU620  |2024-01-15|MULTILINESTRING (...|\n",
      "|    96421|JBU33   |2024-01-28|MULTILINESTRING (...|\n",
      "|    95234|JBU777  |2024-01-04|MULTILINESTRING (...|\n",
      "|    94414|JBU1263 |2024-01-21|MULTILINESTRING (...|\n",
      "|    94158|JBU33   |2024-01-07|MULTILINESTRING (...|\n",
      "|    94029|JBU197  |2024-01-06|MULTILINESTRING (...|\n",
      "|    93854|JBU416  |2024-01-18|MULTILINESTRING (...|\n",
      "|    93617|JBU2577 |2024-01-14|MULTILINESTRING (...|\n",
      "|    93108|JBU1734 |2024-01-03|MULTILINESTRING (...|\n",
      "|    93005|JBU333  |2024-01-08|MULTILINESTRING (...|\n",
      "+---------+--------+----------+--------------------+\n",
      "only showing top 20 rows\n",
      "\n"
     ]
    }
   ],
   "source": [
    "intensity_df.show()"
   ]
  },
  {
   "cell_type": "code",
   "execution_count": 51,
   "id": "695dd10b-789a-4a87-ab51-f7244572f580",
   "metadata": {},
   "outputs": [
    {
     "name": "stderr",
     "output_type": "stream",
     "text": [
      "                                                                                \r"
     ]
    },
    {
     "data": {
      "text/plain": [
       "14191"
      ]
     },
     "execution_count": 51,
     "metadata": {},
     "output_type": "execute_result"
    }
   ],
   "source": [
    "intensity_df.count()"
   ]
  },
  {
   "cell_type": "code",
   "execution_count": null,
   "id": "7468a9ae-e826-4350-89df-13a9d3a4d996",
   "metadata": {},
   "outputs": [],
   "source": [
    "SedonaKepler.create_map(intensity_df, name=\"Frequently weather impacted flight segments\")"
   ]
  },
  {
   "cell_type": "markdown",
   "id": "34a83f4a-5fd5-43c5-84c1-f51286fc83d9",
   "metadata": {},
   "source": [
    "![](https://wherobots.com/wp-content/uploads/2024/04/flightdemo6.png)"
   ]
  },
  {
   "cell_type": "markdown",
   "id": "d6de0b0d-4db0-4174-aec1-6c6e29466d99",
   "metadata": {},
   "source": [
    "### Flights With The Highest Potential For Weather Impact"
   ]
  },
  {
   "cell_type": "code",
   "execution_count": 53,
   "id": "12e02b2e-04a5-4482-8a48-26397f987791",
   "metadata": {},
   "outputs": [],
   "source": [
    "full_flight_intensity_df = sedona.sql(\"\"\"\n",
    "SELECT jbu_flights.flight, jbu_flights.geometry, jbu_flights.date, intensity\n",
    "FROM jbu_flights\n",
    "JOIN jbu_intensity ON jbu_flights.flight = jbu_intensity.flight AND jbu_flights.date = jbu_intensity.date\n",
    "\"\"\")"
   ]
  },
  {
   "cell_type": "code",
   "execution_count": null,
   "id": "1f41c778-3364-4138-9590-3405ca7194cc",
   "metadata": {},
   "outputs": [],
   "source": [
    "map_view = SedonaKepler.create_map(full_flight_intensity_df.orderBy(\"intensity\", ascending=False).limit(10), name=\"Flights\")\n",
    "SedonaKepler.add_df(map_view, df=weather_h3_df, name=\"Weather\")\n",
    "map_view"
   ]
  },
  {
   "cell_type": "markdown",
   "id": "f132e214-977b-4ba3-9347-0bfacfe3140a",
   "metadata": {},
   "source": [
    "![](https://wherobots.com/wp-content/uploads/2024/04/flightdemo7.png)"
   ]
  },
  {
   "cell_type": "markdown",
   "id": "4bcfc377-0e74-4d0f-bc23-af650d40ecee",
   "metadata": {},
   "source": [
    "## Highest Potentially Weather Impacted Flights\n",
    "\n",
    "* JBU888 - LAX to BOS\n",
    "* JBU424 - LAX to JFK\n",
    "* JBU620 - SAN to BOS\n",
    "* JBU197 - BOX to SEA\n",
    "* JBU778 - LAS to BOS"
   ]
  },
  {
   "cell_type": "code",
   "execution_count": null,
   "id": "1c8cba20-b236-4d90-8834-e7b0a3a700c9",
   "metadata": {},
   "outputs": [],
   "source": []
  },
  {
   "cell_type": "markdown",
   "id": "8b6ef371-3586-4f2b-9eb7-144afdc4be05",
   "metadata": {},
   "source": [
    "## Weather Forecast Analysis - Doppler Radar Raster Data\n",
    "\n",
    "So far we've been working with historical weather event data, lets look at a simple example using more real-time weather radar data. Specifically, we'll use [NOAA's NEXRAD Doppler weather radar](https://www.ncei.noaa.gov/products/radar/next-generation-weather-radar) surface reflectivity product to assess the impact of high precipitation at airports.\n"
   ]
  },
  {
   "cell_type": "code",
   "execution_count": 55,
   "id": "b850bf8f-a53f-4a94-bb36-a215678bfc13",
   "metadata": {},
   "outputs": [
    {
     "name": "stdout",
     "output_type": "stream",
     "text": [
      "root\n",
      " |-- raster: raster (nullable = true)\n",
      "\n"
     ]
    }
   ],
   "source": [
    "nexrad_raster_url = \"s3://wherobots-examples/data/noaa/nexrad/n0q_202309231625.tif\"\n",
    "nexrad_df = sedona.sql(f\"SELECT RS_FromPath('{nexrad_raster_url}') AS raster\")\n",
    "nexrad_df.createOrReplaceTempView(\"nexrad\")\n",
    "nexrad_df.printSchema()"
   ]
  },
  {
   "cell_type": "code",
   "execution_count": 56,
   "id": "c4c6132a-8558-4d66-8c2c-d9385230bfe3",
   "metadata": {},
   "outputs": [
    {
     "name": "stderr",
     "output_type": "stream",
     "text": [
      "[Stage 117:>                                                        (0 + 1) / 1]\r"
     ]
    },
    {
     "name": "stdout",
     "output_type": "stream",
     "text": [
      "+---------------------------------------------------------------------------+\n",
      "|rs_metadata(raster)                                                        |\n",
      "+---------------------------------------------------------------------------+\n",
      "|[-126.0025, 50.0025, 12200.0, 5400.0, 0.005, -0.005, 0.0, 0.0, 4326.0, 1.0]|\n",
      "+---------------------------------------------------------------------------+\n",
      "\n"
     ]
    },
    {
     "name": "stderr",
     "output_type": "stream",
     "text": [
      "                                                                                \r"
     ]
    }
   ],
   "source": [
    "sedona.sql(\"SELECT RS_MetaData(raster) from nexrad\").show(truncate=False)"
   ]
  },
  {
   "cell_type": "code",
   "execution_count": 57,
   "id": "ddb20fff-c0b5-4ea7-a4b4-d634684b3144",
   "metadata": {},
   "outputs": [
    {
     "name": "stderr",
     "output_type": "stream",
     "text": [
      "[Stage 118:>                                                        (0 + 1) / 1]\r"
     ]
    },
    {
     "name": "stdout",
     "output_type": "stream",
     "text": [
      "+-------------------+\n",
      "|rs_numbands(raster)|\n",
      "+-------------------+\n",
      "|                  1|\n",
      "+-------------------+\n",
      "\n"
     ]
    },
    {
     "name": "stderr",
     "output_type": "stream",
     "text": [
      "                                                                                \r"
     ]
    }
   ],
   "source": [
    "sedona.sql(\"SELECT RS_NumBands(raster) FROM nexrad\").show()"
   ]
  },
  {
   "cell_type": "code",
   "execution_count": 58,
   "id": "1490cead-4821-43aa-b7b6-5c0233a9b0dd",
   "metadata": {},
   "outputs": [
    {
     "name": "stderr",
     "output_type": "stream",
     "text": [
      "                                                                                \r"
     ]
    },
    {
     "data": {
      "text/html": [
       "<table border=\"1\" class=\"dataframe\">\n",
       "  <thead>\n",
       "    <tr style=\"text-align: right;\">\n",
       "      <th></th>\n",
       "      <th>raster_image</th>\n",
       "    </tr>\n",
       "  </thead>\n",
       "  <tbody>\n",
       "    <tr>\n",
       "      <th>0</th>\n",
       "      <td><img src=\"data:image/png;base64,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\" width=\"1200\" /></td>\n",
       "    </tr>\n",
       "  </tbody>\n",
       "</table>"
      ],
      "text/plain": [
       "<IPython.core.display.HTML object>"
      ]
     },
     "metadata": {},
     "output_type": "display_data"
    }
   ],
   "source": [
    "htmlDf = sedona.sql(\"SELECT RS_AsImage(raster, 1200) AS raster_image FROM nexrad\")\n",
    "SedonaUtils.display_image(htmlDf)"
   ]
  },
  {
   "cell_type": "code",
   "execution_count": 59,
   "id": "a873c3b6-4a26-41b3-9084-a6c6fab88bfc",
   "metadata": {},
   "outputs": [
    {
     "name": "stdout",
     "output_type": "stream",
     "text": [
      "+--------------------+---------+----------+-----+----------------+------+--------+--------+---------+--------------------+---------+\n",
      "|            geometry|scalerank|featurecla| type|            name|abbrev|location|gps_code|iata_code|           wikipedia|natlscale|\n",
      "+--------------------+---------+----------+-----+----------------+------+--------+--------+---------+--------------------+---------+\n",
      "|POINT (113.935016...|        2|   Airport|major| Hong Kong Int'l|   HKG|terminal|    VHHH|      HKG|http://en.wikiped...|  150.000|\n",
      "|POINT (121.231370...|        2|   Airport|major|         Taoyuan|   TPE|terminal|    RCTP|      TPE|http://en.wikiped...|  150.000|\n",
      "|POINT (4.76437693...|        2|   Airport|major|        Schiphol|   AMS|terminal|    EHAM|      AMS|http://en.wikiped...|  150.000|\n",
      "|POINT (103.986413...|        2|   Airport|major|Singapore Changi|   SIN|terminal|    WSSS|      SIN|http://en.wikiped...|  150.000|\n",
      "|POINT (-0.4531566...|        2|   Airport|major| London Heathrow|   LHR| parking|    EGLL|      LHR|http://en.wikiped...|  150.000|\n",
      "+--------------------+---------+----------+-----+----------------+------+--------+--------+---------+--------------------+---------+\n",
      "only showing top 5 rows\n",
      "\n"
     ]
    }
   ],
   "source": [
    "spatialRdd = ShapefileReader.readToGeometryRDD(sedona.sparkContext, \"s3a://wherobots-examples/data/ne_50m_airports\")\n",
    "poi_df = Adapter.toDf(spatialRdd, sedona)\n",
    "\n",
    "poi_df = poi_df\n",
    "poi_df.show(5)\n",
    "poi_df.createOrReplaceTempView(\"airports\")"
   ]
  },
  {
   "cell_type": "code",
   "execution_count": 60,
   "id": "3751f2bf-067c-43e5-b429-59194b7e2302",
   "metadata": {},
   "outputs": [],
   "source": [
    "airport_precip_df = sedona.sql(\"\"\"\n",
    "SELECT name, iata_code, type, RS_Value(raster, geometry, 1) AS precip\n",
    "FROM airports\n",
    "JOIN nexrad \n",
    "\"\"\")"
   ]
  },
  {
   "cell_type": "code",
   "execution_count": 61,
   "id": "a7a9451d-dcad-438a-904e-218805c231dd",
   "metadata": {},
   "outputs": [
    {
     "name": "stderr",
     "output_type": "stream",
     "text": [
      "[Stage 124:>                                                        (0 + 1) / 1]\r"
     ]
    },
    {
     "name": "stdout",
     "output_type": "stream",
     "text": [
      "+-------------------+---------+-----+------+\n",
      "|name               |iata_code|type |precip|\n",
      "+-------------------+---------+-----+------+\n",
      "|Gen E L Logan Int'l|BOS      |major|108.0 |\n",
      "|Durham Int'l       |RDU      |major|138.0 |\n",
      "+-------------------+---------+-----+------+\n",
      "\n"
     ]
    },
    {
     "name": "stderr",
     "output_type": "stream",
     "text": [
      "                                                                                \r"
     ]
    }
   ],
   "source": [
    "airport_precip_df.where(\"precip > 100\").show(truncate=False)"
   ]
  },
  {
   "cell_type": "markdown",
   "id": "611adcb8-c54b-4414-a73e-e9f5c140750e",
   "metadata": {},
   "source": [
    "Based on this analysis we can see that Logan International Airport and Raleigh-Durham Airport are experiencing high precipitation events, which may potentially impact ground operations."
   ]
  },
  {
   "cell_type": "code",
   "execution_count": null,
   "id": "3ec248d5-97dd-48aa-8c11-9a2befcfcece",
   "metadata": {},
   "outputs": [],
   "source": []
  },
  {
   "cell_type": "code",
   "execution_count": null,
   "id": "afd81525-354d-4b9f-9a0e-67ac1f4794f6",
   "metadata": {},
   "outputs": [],
   "source": []
  }
 ],
 "metadata": {
  "kernelspec": {
   "display_name": "Python 3 (ipykernel)",
   "language": "python",
   "name": "python3"
  },
  "language_info": {
   "codemirror_mode": {
    "name": "ipython",
    "version": 3
   },
   "file_extension": ".py",
   "mimetype": "text/x-python",
   "name": "python",
   "nbconvert_exporter": "python",
   "pygments_lexer": "ipython3",
   "version": "3.10.11"
  }
 },
 "nbformat": 4,
 "nbformat_minor": 5
}
